{
 "cells": [
  {
   "cell_type": "code",
   "execution_count": 40,
   "metadata": {},
   "outputs": [],
   "source": [
    "import polars as pl\n",
    "import polars_ds as pds\n",
    "import polars_xdt as xdt\n",
    "import polars.selectors as cs\n",
    "import seaborn as sns\n",
    "from utils import prep,dato_mapping_pub_trening,datoformat_mapping\n",
    "import matplotlib.pyplot as plt\n",
    "from datetime import date\n"
   ]
  },
  {
   "cell_type": "markdown",
   "metadata": {},
   "source": [
    "# Les inn data "
   ]
  },
  {
   "cell_type": "code",
   "execution_count": 3,
   "metadata": {},
   "outputs": [
    {
     "data": {
      "text/html": [
       "<div><style>\n",
       ".dataframe > thead > tr,\n",
       ".dataframe > tbody > tr {\n",
       "  text-align: right;\n",
       "  white-space: pre-wrap;\n",
       "}\n",
       "</style>\n",
       "<small>shape: (5, 4)</small><table border=\"1\" class=\"dataframe\"><thead><tr><th>Dato</th><th>Navn</th><th>Deltok</th><th>Avlyst trening</th></tr><tr><td>i64</td><td>str</td><td>str</td><td>str</td></tr></thead><tbody><tr><td>20240106</td><td>&quot;Erlend Haukefer Hauan&quot;</td><td>&quot;Ja&quot;</td><td>&quot;Ja&quot;</td></tr><tr><td>20240106</td><td>&quot;Bakary Jang Konateh&quot;</td><td>&quot;Ja&quot;</td><td>&quot;Ja&quot;</td></tr><tr><td>20240106</td><td>&quot;Sindre Haukefer Hauan&quot;</td><td>&quot;Ja&quot;</td><td>&quot;Ja&quot;</td></tr><tr><td>20240204</td><td>&quot;Yafee Ishraq&quot;</td><td>&quot;Nei&quot;</td><td>&quot;Ja&quot;</td></tr><tr><td>20240204</td><td>&quot;Erlend Haukefer Hauan&quot;</td><td>&quot;Nei&quot;</td><td>&quot;Ja&quot;</td></tr></tbody></table></div>"
      ],
      "text/plain": [
       "shape: (5, 4)\n",
       "┌──────────┬───────────────────────┬────────┬────────────────┐\n",
       "│ Dato     ┆ Navn                  ┆ Deltok ┆ Avlyst trening │\n",
       "│ ---      ┆ ---                   ┆ ---    ┆ ---            │\n",
       "│ i64      ┆ str                   ┆ str    ┆ str            │\n",
       "╞══════════╪═══════════════════════╪════════╪════════════════╡\n",
       "│ 20240106 ┆ Erlend Haukefer Hauan ┆ Ja     ┆ Ja             │\n",
       "│ 20240106 ┆ Bakary Jang Konateh   ┆ Ja     ┆ Ja             │\n",
       "│ 20240106 ┆ Sindre Haukefer Hauan ┆ Ja     ┆ Ja             │\n",
       "│ 20240204 ┆ Yafee Ishraq          ┆ Nei    ┆ Ja             │\n",
       "│ 20240204 ┆ Erlend Haukefer Hauan ┆ Nei    ┆ Ja             │\n",
       "└──────────┴───────────────────────┴────────┴────────────────┘"
      ]
     },
     "execution_count": 3,
     "metadata": {},
     "output_type": "execute_result"
    }
   ],
   "source": [
    "df = pl.read_excel(\"treningsdata.xlsx\")\n",
    "df.head()\n"
   ]
  },
  {
   "cell_type": "code",
   "execution_count": 4,
   "metadata": {},
   "outputs": [],
   "source": [
    "df = (df\n",
    ".pipe(datoformat_mapping)\n",
    ".pipe(dato_mapping_pub_trening)\n",
    ".pipe(prep)\n",
    ")\n"
   ]
  },
  {
   "cell_type": "code",
   "execution_count": 48,
   "metadata": {},
   "outputs": [
    {
     "data": {
      "text/html": [
       "<div><style>\n",
       ".dataframe > thead > tr,\n",
       ".dataframe > tbody > tr {\n",
       "  text-align: right;\n",
       "  white-space: pre-wrap;\n",
       "}\n",
       "</style>\n",
       "<small>shape: (5, 10)</small><table border=\"1\" class=\"dataframe\"><thead><tr><th>Dato</th><th>Navn</th><th>Deltok</th><th>Avlyst trening</th><th>Treningsdato</th><th>År</th><th>Måned</th><th>Dag</th><th>Måned navn</th><th>Årstid</th></tr><tr><td>date</td><td>str</td><td>str</td><td>str</td><td>date</td><td>i32</td><td>i8</td><td>i8</td><td>str</td><td>str</td></tr></thead><tbody><tr><td>2024-01-06</td><td>&quot;Erlend Haukefer Hauan&quot;</td><td>&quot;Ja&quot;</td><td>&quot;Ja&quot;</td><td>2024-01-08</td><td>2024</td><td>1</td><td>1</td><td>&quot;Januar&quot;</td><td>&quot;vinter&quot;</td></tr><tr><td>2024-01-06</td><td>&quot;Bakary Jang Konateh&quot;</td><td>&quot;Ja&quot;</td><td>&quot;Ja&quot;</td><td>2024-01-08</td><td>2024</td><td>1</td><td>1</td><td>&quot;Januar&quot;</td><td>&quot;vinter&quot;</td></tr><tr><td>2024-01-06</td><td>&quot;Sindre Haukefer Hauan&quot;</td><td>&quot;Ja&quot;</td><td>&quot;Ja&quot;</td><td>2024-01-08</td><td>2024</td><td>1</td><td>1</td><td>&quot;Januar&quot;</td><td>&quot;vinter&quot;</td></tr><tr><td>2024-02-04</td><td>&quot;Yafee Ishraq&quot;</td><td>&quot;Nei&quot;</td><td>&quot;Ja&quot;</td><td>2024-02-05</td><td>2024</td><td>2</td><td>1</td><td>&quot;Februar&quot;</td><td>&quot;vinter&quot;</td></tr><tr><td>2024-02-04</td><td>&quot;Erlend Haukefer Hauan&quot;</td><td>&quot;Nei&quot;</td><td>&quot;Ja&quot;</td><td>2024-02-05</td><td>2024</td><td>2</td><td>1</td><td>&quot;Februar&quot;</td><td>&quot;vinter&quot;</td></tr></tbody></table></div>"
      ],
      "text/plain": [
       "shape: (5, 10)\n",
       "┌────────────┬───────────────────┬────────┬────────────────┬───┬───────┬─────┬────────────┬────────┐\n",
       "│ Dato       ┆ Navn              ┆ Deltok ┆ Avlyst trening ┆ … ┆ Måned ┆ Dag ┆ Måned navn ┆ Årstid │\n",
       "│ ---        ┆ ---               ┆ ---    ┆ ---            ┆   ┆ ---   ┆ --- ┆ ---        ┆ ---    │\n",
       "│ date       ┆ str               ┆ str    ┆ str            ┆   ┆ i8    ┆ i8  ┆ str        ┆ str    │\n",
       "╞════════════╪═══════════════════╪════════╪════════════════╪═══╪═══════╪═════╪════════════╪════════╡\n",
       "│ 2024-01-06 ┆ Erlend Haukefer   ┆ Ja     ┆ Ja             ┆ … ┆ 1     ┆ 1   ┆ Januar     ┆ vinter │\n",
       "│            ┆ Hauan             ┆        ┆                ┆   ┆       ┆     ┆            ┆        │\n",
       "│ 2024-01-06 ┆ Bakary Jang       ┆ Ja     ┆ Ja             ┆ … ┆ 1     ┆ 1   ┆ Januar     ┆ vinter │\n",
       "│            ┆ Konateh           ┆        ┆                ┆   ┆       ┆     ┆            ┆        │\n",
       "│ 2024-01-06 ┆ Sindre Haukefer   ┆ Ja     ┆ Ja             ┆ … ┆ 1     ┆ 1   ┆ Januar     ┆ vinter │\n",
       "│            ┆ Hauan             ┆        ┆                ┆   ┆       ┆     ┆            ┆        │\n",
       "│ 2024-02-04 ┆ Yafee Ishraq      ┆ Nei    ┆ Ja             ┆ … ┆ 2     ┆ 1   ┆ Februar    ┆ vinter │\n",
       "│ 2024-02-04 ┆ Erlend Haukefer   ┆ Nei    ┆ Ja             ┆ … ┆ 2     ┆ 1   ┆ Februar    ┆ vinter │\n",
       "│            ┆ Hauan             ┆        ┆                ┆   ┆       ┆     ┆            ┆        │\n",
       "└────────────┴───────────────────┴────────┴────────────────┴───┴───────┴─────┴────────────┴────────┘"
      ]
     },
     "execution_count": 48,
     "metadata": {},
     "output_type": "execute_result"
    }
   ],
   "source": [
    "df.head()"
   ]
  },
  {
   "cell_type": "code",
   "execution_count": 54,
   "metadata": {},
   "outputs": [
    {
     "data": {
      "text/html": [
       "<div><style>\n",
       ".dataframe > thead > tr,\n",
       ".dataframe > tbody > tr {\n",
       "  text-align: right;\n",
       "  white-space: pre-wrap;\n",
       "}\n",
       "</style>\n",
       "<small>shape: (14, 10)</small><table border=\"1\" class=\"dataframe\"><thead><tr><th>Dato</th><th>Navn</th><th>Deltok</th><th>Avlyst trening</th><th>Treningsdato</th><th>År</th><th>Måned</th><th>Dag</th><th>Måned navn</th><th>Årstid</th></tr><tr><td>date</td><td>str</td><td>str</td><td>str</td><td>date</td><td>i32</td><td>i8</td><td>i8</td><td>str</td><td>str</td></tr></thead><tbody><tr><td>2025-01-20</td><td>&quot;Erlend Haukefer Hauan&quot;</td><td>&quot;Ja&quot;</td><td>&quot;Nei&quot;</td><td>2025-01-22</td><td>2025</td><td>1</td><td>3</td><td>&quot;Januar&quot;</td><td>&quot;vinter&quot;</td></tr><tr><td>2025-01-26</td><td>&quot;Erlend Haukefer Hauan&quot;</td><td>&quot;Ja&quot;</td><td>&quot;Nei&quot;</td><td>2025-01-29</td><td>2025</td><td>1</td><td>3</td><td>&quot;Januar&quot;</td><td>&quot;vinter&quot;</td></tr><tr><td>2025-02-03</td><td>&quot;Erlend Haukefer Hauan&quot;</td><td>&quot;Nei&quot;</td><td>&quot;Nei&quot;</td><td>2025-02-05</td><td>2025</td><td>2</td><td>3</td><td>&quot;Februar&quot;</td><td>&quot;vinter&quot;</td></tr><tr><td>2025-02-09</td><td>&quot;Erlend Haukefer Hauan&quot;</td><td>&quot;Ja&quot;</td><td>&quot;Nei&quot;</td><td>2025-02-12</td><td>2025</td><td>2</td><td>3</td><td>&quot;Februar&quot;</td><td>&quot;vinter&quot;</td></tr><tr><td>2025-03-02</td><td>&quot;Erlend Haukefer Hauan&quot;</td><td>&quot;Ja&quot;</td><td>&quot;Nei&quot;</td><td>2025-03-05</td><td>2025</td><td>3</td><td>3</td><td>&quot;Mars&quot;</td><td>&quot;vår&quot;</td></tr><tr><td>2025-03-10</td><td>&quot;Erlend Haukefer Hauan&quot;</td><td>&quot;Ja&quot;</td><td>&quot;Nei&quot;</td><td>2025-03-12</td><td>2025</td><td>3</td><td>3</td><td>&quot;Mars&quot;</td><td>&quot;vår&quot;</td></tr><tr><td>2025-03-30</td><td>&quot;Erlend Haukefer Hauan&quot;</td><td>&quot;Nei&quot;</td><td>&quot;Nei&quot;</td><td>2025-04-02</td><td>2025</td><td>4</td><td>3</td><td>&quot;April&quot;</td><td>&quot;vår&quot;</td></tr><tr><td>2025-04-06</td><td>&quot;Erlend Haukefer Hauan&quot;</td><td>&quot;Ja&quot;</td><td>&quot;Nei&quot;</td><td>2025-04-09</td><td>2025</td><td>4</td><td>3</td><td>&quot;April&quot;</td><td>&quot;vår&quot;</td></tr><tr><td>2025-04-20</td><td>&quot;Erlend Haukefer Hauan&quot;</td><td>&quot;Ja&quot;</td><td>&quot;Nei&quot;</td><td>2025-04-23</td><td>2025</td><td>4</td><td>3</td><td>&quot;April&quot;</td><td>&quot;vår&quot;</td></tr><tr><td>2025-04-20</td><td>&quot;Erlend Haukefer Hauan&quot;</td><td>&quot;Nei&quot;</td><td>&quot;Nei&quot;</td><td>2025-04-23</td><td>2025</td><td>4</td><td>3</td><td>&quot;April&quot;</td><td>&quot;vår&quot;</td></tr><tr><td>2025-04-27</td><td>&quot;Erlend Haukefer Hauan&quot;</td><td>&quot;Ja&quot;</td><td>&quot;Nei&quot;</td><td>2025-04-30</td><td>2025</td><td>4</td><td>3</td><td>&quot;April&quot;</td><td>&quot;vår&quot;</td></tr><tr><td>2025-05-04</td><td>&quot;Erlend Haukefer Hauan&quot;</td><td>&quot;Nei&quot;</td><td>&quot;Nei&quot;</td><td>2025-05-07</td><td>2025</td><td>5</td><td>3</td><td>&quot;Mai&quot;</td><td>&quot;vår&quot;</td></tr><tr><td>2025-05-04</td><td>&quot;Erlend Haukefer Hauan&quot;</td><td>&quot;Ja&quot;</td><td>&quot;Nei&quot;</td><td>2025-05-07</td><td>2025</td><td>5</td><td>3</td><td>&quot;Mai&quot;</td><td>&quot;vår&quot;</td></tr><tr><td>2025-05-11</td><td>&quot;Erlend Haukefer Hauan&quot;</td><td>&quot;Ja&quot;</td><td>&quot;Nei&quot;</td><td>2025-05-14</td><td>2025</td><td>5</td><td>3</td><td>&quot;Mai&quot;</td><td>&quot;vår&quot;</td></tr></tbody></table></div>"
      ],
      "text/plain": [
       "shape: (14, 10)\n",
       "┌────────────┬───────────────────┬────────┬────────────────┬───┬───────┬─────┬────────────┬────────┐\n",
       "│ Dato       ┆ Navn              ┆ Deltok ┆ Avlyst trening ┆ … ┆ Måned ┆ Dag ┆ Måned navn ┆ Årstid │\n",
       "│ ---        ┆ ---               ┆ ---    ┆ ---            ┆   ┆ ---   ┆ --- ┆ ---        ┆ ---    │\n",
       "│ date       ┆ str               ┆ str    ┆ str            ┆   ┆ i8    ┆ i8  ┆ str        ┆ str    │\n",
       "╞════════════╪═══════════════════╪════════╪════════════════╪═══╪═══════╪═════╪════════════╪════════╡\n",
       "│ 2025-01-20 ┆ Erlend Haukefer   ┆ Ja     ┆ Nei            ┆ … ┆ 1     ┆ 3   ┆ Januar     ┆ vinter │\n",
       "│            ┆ Hauan             ┆        ┆                ┆   ┆       ┆     ┆            ┆        │\n",
       "│ 2025-01-26 ┆ Erlend Haukefer   ┆ Ja     ┆ Nei            ┆ … ┆ 1     ┆ 3   ┆ Januar     ┆ vinter │\n",
       "│            ┆ Hauan             ┆        ┆                ┆   ┆       ┆     ┆            ┆        │\n",
       "│ 2025-02-03 ┆ Erlend Haukefer   ┆ Nei    ┆ Nei            ┆ … ┆ 2     ┆ 3   ┆ Februar    ┆ vinter │\n",
       "│            ┆ Hauan             ┆        ┆                ┆   ┆       ┆     ┆            ┆        │\n",
       "│ 2025-02-09 ┆ Erlend Haukefer   ┆ Ja     ┆ Nei            ┆ … ┆ 2     ┆ 3   ┆ Februar    ┆ vinter │\n",
       "│            ┆ Hauan             ┆        ┆                ┆   ┆       ┆     ┆            ┆        │\n",
       "│ 2025-03-02 ┆ Erlend Haukefer   ┆ Ja     ┆ Nei            ┆ … ┆ 3     ┆ 3   ┆ Mars       ┆ vår    │\n",
       "│            ┆ Hauan             ┆        ┆                ┆   ┆       ┆     ┆            ┆        │\n",
       "│ 2025-03-10 ┆ Erlend Haukefer   ┆ Ja     ┆ Nei            ┆ … ┆ 3     ┆ 3   ┆ Mars       ┆ vår    │\n",
       "│            ┆ Hauan             ┆        ┆                ┆   ┆       ┆     ┆            ┆        │\n",
       "│ 2025-03-30 ┆ Erlend Haukefer   ┆ Nei    ┆ Nei            ┆ … ┆ 4     ┆ 3   ┆ April      ┆ vår    │\n",
       "│            ┆ Hauan             ┆        ┆                ┆   ┆       ┆     ┆            ┆        │\n",
       "│ 2025-04-06 ┆ Erlend Haukefer   ┆ Ja     ┆ Nei            ┆ … ┆ 4     ┆ 3   ┆ April      ┆ vår    │\n",
       "│            ┆ Hauan             ┆        ┆                ┆   ┆       ┆     ┆            ┆        │\n",
       "│ 2025-04-20 ┆ Erlend Haukefer   ┆ Ja     ┆ Nei            ┆ … ┆ 4     ┆ 3   ┆ April      ┆ vår    │\n",
       "│            ┆ Hauan             ┆        ┆                ┆   ┆       ┆     ┆            ┆        │\n",
       "│ 2025-04-20 ┆ Erlend Haukefer   ┆ Nei    ┆ Nei            ┆ … ┆ 4     ┆ 3   ┆ April      ┆ vår    │\n",
       "│            ┆ Hauan             ┆        ┆                ┆   ┆       ┆     ┆            ┆        │\n",
       "│ 2025-04-27 ┆ Erlend Haukefer   ┆ Ja     ┆ Nei            ┆ … ┆ 4     ┆ 3   ┆ April      ┆ vår    │\n",
       "│            ┆ Hauan             ┆        ┆                ┆   ┆       ┆     ┆            ┆        │\n",
       "│ 2025-05-04 ┆ Erlend Haukefer   ┆ Nei    ┆ Nei            ┆ … ┆ 5     ┆ 3   ┆ Mai        ┆ vår    │\n",
       "│            ┆ Hauan             ┆        ┆                ┆   ┆       ┆     ┆            ┆        │\n",
       "│ 2025-05-04 ┆ Erlend Haukefer   ┆ Ja     ┆ Nei            ┆ … ┆ 5     ┆ 3   ┆ Mai        ┆ vår    │\n",
       "│            ┆ Hauan             ┆        ┆                ┆   ┆       ┆     ┆            ┆        │\n",
       "│ 2025-05-11 ┆ Erlend Haukefer   ┆ Ja     ┆ Nei            ┆ … ┆ 5     ┆ 3   ┆ Mai        ┆ vår    │\n",
       "│            ┆ Hauan             ┆        ┆                ┆   ┆       ┆     ┆            ┆        │\n",
       "└────────────┴───────────────────┴────────┴────────────────┴───┴───────┴─────┴────────────┴────────┘"
      ]
     },
     "execution_count": 54,
     "metadata": {},
     "output_type": "execute_result"
    }
   ],
   "source": [
    "df.filter(pl.col('År')==2025,pl.col('Navn').str.contains('Erlend')).sort(by = ['Dato'])"
   ]
  },
  {
   "cell_type": "code",
   "execution_count": 51,
   "metadata": {},
   "outputs": [],
   "source": [
    "alle_unike_datoer = df.select('Treningsdato').unique()\n",
    "alle_unike_navn = df.select('Navn').unique()"
   ]
  },
  {
   "cell_type": "code",
   "execution_count": null,
   "metadata": {},
   "outputs": [
    {
     "data": {
      "text/html": [
       "<div><style>\n",
       ".dataframe > thead > tr,\n",
       ".dataframe > tbody > tr {\n",
       "  text-align: right;\n",
       "  white-space: pre-wrap;\n",
       "}\n",
       "</style>\n",
       "<small>shape: (19, 2)</small><table border=\"1\" class=\"dataframe\"><thead><tr><th>Treningsdato</th><th>Navn</th></tr><tr><td>date</td><td>str</td></tr></thead><tbody><tr><td>2025-01-22</td><td>&quot;Erlend Haukefer Hauan&quot;</td></tr><tr><td>2025-01-29</td><td>&quot;Erlend Haukefer Hauan&quot;</td></tr><tr><td>2025-02-05</td><td>&quot;Erlend Haukefer Hauan&quot;</td></tr><tr><td>2025-02-12</td><td>&quot;Erlend Haukefer Hauan&quot;</td></tr><tr><td>2025-02-19</td><td>&quot;Erlend Haukefer Hauan&quot;</td></tr><tr><td>2025-02-26</td><td>&quot;Erlend Haukefer Hauan&quot;</td></tr><tr><td>2025-03-05</td><td>&quot;Erlend Haukefer Hauan&quot;</td></tr><tr><td>2025-03-12</td><td>&quot;Erlend Haukefer Hauan&quot;</td></tr><tr><td>2025-03-19</td><td>&quot;Erlend Haukefer Hauan&quot;</td></tr><tr><td>2025-03-26</td><td>&quot;Erlend Haukefer Hauan&quot;</td></tr><tr><td>2025-04-02</td><td>&quot;Erlend Haukefer Hauan&quot;</td></tr><tr><td>2025-04-09</td><td>&quot;Erlend Haukefer Hauan&quot;</td></tr><tr><td>2025-04-16</td><td>&quot;Erlend Haukefer Hauan&quot;</td></tr><tr><td>2025-04-23</td><td>&quot;Erlend Haukefer Hauan&quot;</td></tr><tr><td>2025-04-30</td><td>&quot;Erlend Haukefer Hauan&quot;</td></tr><tr><td>2025-05-07</td><td>&quot;Erlend Haukefer Hauan&quot;</td></tr><tr><td>2025-05-14</td><td>&quot;Erlend Haukefer Hauan&quot;</td></tr><tr><td>2025-05-21</td><td>&quot;Erlend Haukefer Hauan&quot;</td></tr><tr><td>2025-05-28</td><td>&quot;Erlend Haukefer Hauan&quot;</td></tr></tbody></table></div>"
      ],
      "text/plain": [
       "shape: (19, 2)\n",
       "┌──────────────┬───────────────────────┐\n",
       "│ Treningsdato ┆ Navn                  │\n",
       "│ ---          ┆ ---                   │\n",
       "│ date         ┆ str                   │\n",
       "╞══════════════╪═══════════════════════╡\n",
       "│ 2025-01-22   ┆ Erlend Haukefer Hauan │\n",
       "│ 2025-01-29   ┆ Erlend Haukefer Hauan │\n",
       "│ 2025-02-05   ┆ Erlend Haukefer Hauan │\n",
       "│ 2025-02-12   ┆ Erlend Haukefer Hauan │\n",
       "│ 2025-02-19   ┆ Erlend Haukefer Hauan │\n",
       "│ 2025-02-26   ┆ Erlend Haukefer Hauan │\n",
       "│ 2025-03-05   ┆ Erlend Haukefer Hauan │\n",
       "│ 2025-03-12   ┆ Erlend Haukefer Hauan │\n",
       "│ 2025-03-19   ┆ Erlend Haukefer Hauan │\n",
       "│ 2025-03-26   ┆ Erlend Haukefer Hauan │\n",
       "│ 2025-04-02   ┆ Erlend Haukefer Hauan │\n",
       "│ 2025-04-09   ┆ Erlend Haukefer Hauan │\n",
       "│ 2025-04-16   ┆ Erlend Haukefer Hauan │\n",
       "│ 2025-04-23   ┆ Erlend Haukefer Hauan │\n",
       "│ 2025-04-30   ┆ Erlend Haukefer Hauan │\n",
       "│ 2025-05-07   ┆ Erlend Haukefer Hauan │\n",
       "│ 2025-05-14   ┆ Erlend Haukefer Hauan │\n",
       "│ 2025-05-21   ┆ Erlend Haukefer Hauan │\n",
       "│ 2025-05-28   ┆ Erlend Haukefer Hauan │\n",
       "└──────────────┴───────────────────────┘"
      ]
     },
     "execution_count": 58,
     "metadata": {},
     "output_type": "execute_result"
    }
   ],
   "source": [
    "# Joiner alle mulige stemmedatoer, vi skal få inn nei på de datoene det ikke er stemt på \n",
    "alle_unike_datoer.join(other=alle_unike_navn, how='cross').filter(pl.col('Navn').str.contains('Erlend'),pl.col('Treningsdato').dt.year()==2025).sort(by = ['Treningsdato'])"
   ]
  },
  {
   "cell_type": "code",
   "execution_count": null,
   "metadata": {},
   "outputs": [
    {
     "data": {
      "text/html": [
       "<div><style>\n",
       ".dataframe > thead > tr,\n",
       ".dataframe > tbody > tr {\n",
       "  text-align: right;\n",
       "  white-space: pre-wrap;\n",
       "}\n",
       "</style>\n",
       "<small>shape: (21, 3)</small><table border=\"1\" class=\"dataframe\"><thead><tr><th>Navn</th><th>År</th><th>Gjennomsnittlig antall måneder mellom treninger</th></tr><tr><td>str</td><td>i32</td><td>f64</td></tr></thead><tbody><tr><td>&quot;Jonas Tron Hatlem&quot;</td><td>2025</td><td>0.0</td></tr><tr><td>&quot;Sami Bwoy IV&quot;</td><td>2025</td><td>0.0</td></tr><tr><td>&quot;Stian Nyheim&quot;</td><td>2025</td><td>0.125</td></tr><tr><td>&quot;Carlos Tveit&quot;</td><td>2025</td><td>0.153846</td></tr><tr><td>&quot;Sindre Haukefer Hauan&quot;</td><td>2025</td><td>0.153846</td></tr><tr><td>&quot;Rodas Breezy&quot;</td><td>2025</td><td>0.166667</td></tr><tr><td>&quot;Yafee Ishraq&quot;</td><td>2025</td><td>0.166667</td></tr><tr><td>&quot;Shewit Weldeslasie&quot;</td><td>2025</td><td>0.166667</td></tr><tr><td>&quot;Sindre Jakobsen&quot;</td><td>2025</td><td>0.25</td></tr><tr><td>&quot;Thomas Iyob&quot;</td><td>2025</td><td>0.333333</td></tr><tr><td>&quot;Erlend Haukefer Hauan&quot;</td><td>2025</td><td>0.4</td></tr><tr><td>&quot;Markus Bjånesøy&quot;</td><td>2025</td><td>0.416667</td></tr><tr><td>&quot;Johannes Aarra&quot;</td><td>2025</td><td>0.571429</td></tr><tr><td>&quot;Bakary Jang Konateh&quot;</td><td>2025</td><td>0.666667</td></tr><tr><td>&quot;Adrian Torvund&quot;</td><td>2025</td><td>0.75</td></tr><tr><td>&quot;Kristoffer Fauskanger&quot;</td><td>2025</td><td>0.8</td></tr><tr><td>&quot;Helge Håvås&quot;</td><td>2025</td><td>1.25</td></tr><tr><td>&quot;Bjørn Nilsen&quot;</td><td>2025</td><td>2.0</td></tr><tr><td>&quot;Bjørn Hisdal&quot;</td><td>2025</td><td>2.0</td></tr><tr><td>&quot;Magnus Alexander Gjerde Bevan&quot;</td><td>2025</td><td>3.333333</td></tr><tr><td>&quot;Håkon Halvorsen&quot;</td><td>2025</td><td>11.0</td></tr></tbody></table></div>"
      ],
      "text/plain": [
       "shape: (21, 3)\n",
       "┌───────────────────────────────┬──────┬─────────────────────────────────┐\n",
       "│ Navn                          ┆ År   ┆ Gjennomsnittlig antall måneder… │\n",
       "│ ---                           ┆ ---  ┆ ---                             │\n",
       "│ str                           ┆ i32  ┆ f64                             │\n",
       "╞═══════════════════════════════╪══════╪═════════════════════════════════╡\n",
       "│ Jonas Tron Hatlem             ┆ 2025 ┆ 0.0                             │\n",
       "│ Sami Bwoy IV                  ┆ 2025 ┆ 0.0                             │\n",
       "│ Stian Nyheim                  ┆ 2025 ┆ 0.125                           │\n",
       "│ Carlos Tveit                  ┆ 2025 ┆ 0.153846                        │\n",
       "│ Sindre Haukefer Hauan         ┆ 2025 ┆ 0.153846                        │\n",
       "│ Rodas Breezy                  ┆ 2025 ┆ 0.166667                        │\n",
       "│ Yafee Ishraq                  ┆ 2025 ┆ 0.166667                        │\n",
       "│ Shewit Weldeslasie            ┆ 2025 ┆ 0.166667                        │\n",
       "│ Sindre Jakobsen               ┆ 2025 ┆ 0.25                            │\n",
       "│ Thomas Iyob                   ┆ 2025 ┆ 0.333333                        │\n",
       "│ Erlend Haukefer Hauan         ┆ 2025 ┆ 0.4                             │\n",
       "│ Markus Bjånesøy               ┆ 2025 ┆ 0.416667                        │\n",
       "│ Johannes Aarra                ┆ 2025 ┆ 0.571429                        │\n",
       "│ Bakary Jang Konateh           ┆ 2025 ┆ 0.666667                        │\n",
       "│ Adrian Torvund                ┆ 2025 ┆ 0.75                            │\n",
       "│ Kristoffer Fauskanger         ┆ 2025 ┆ 0.8                             │\n",
       "│ Helge Håvås                   ┆ 2025 ┆ 1.25                            │\n",
       "│ Bjørn Nilsen                  ┆ 2025 ┆ 2.0                             │\n",
       "│ Bjørn Hisdal                  ┆ 2025 ┆ 2.0                             │\n",
       "│ Magnus Alexander Gjerde Bevan ┆ 2025 ┆ 3.333333                        │\n",
       "│ Håkon Halvorsen               ┆ 2025 ┆ 11.0                            │\n",
       "└───────────────────────────────┴──────┴─────────────────────────────────┘"
      ]
     },
     "execution_count": 46,
     "metadata": {},
     "output_type": "execute_result"
    }
   ],
   "source": [
    "pl.Config.set_tbl_rows(25)\n",
    "\n",
    "# Dette gir egentlig feil bilde. For alle som har stemt må vi i datasettet, må vi skrive dem inn i de treningsdatoene de ikke har stemt på\n",
    "(df\n",
    ".sort(by = ['Navn','Dato'])\n",
    ".filter(pl.col('Avlyst trening')=='Nei',\n",
    "        pl.col('Deltok')=='Ja'\n",
    "        )\n",
    ".with_columns(pl.col('Dato').shift(1).over('Navn').alias('Forrige trening'))\n",
    ".drop_nulls('Forrige trening')\n",
    "\n",
    ".with_columns(xdt.month_delta('Forrige trening','Dato').alias('Antall måneder'))\n",
    ".group_by('Navn','År')\n",
    ".agg(pl.col('Antall måneder').mean().alias('Gjennomsnittlig antall måneder mellom treninger'))\n",
    ".sort(by = ['Gjennomsnittlig antall måneder mellom treninger'])\n",
    ".filter(pl.col('År')==2025)\n",
    ")"
   ]
  },
  {
   "cell_type": "code",
   "execution_count": 12,
   "metadata": {},
   "outputs": [
    {
     "data": {
      "text/html": [
       "<div><style>\n",
       ".dataframe > thead > tr,\n",
       ".dataframe > tbody > tr {\n",
       "  text-align: right;\n",
       "  white-space: pre-wrap;\n",
       "}\n",
       "</style>\n",
       "<small>shape: (1, 5)</small><table border=\"1\" class=\"dataframe\"><thead><tr><th>Navn</th><th>Totalt antall treninger</th><th>Første trening</th><th>Siste trening</th><th>Streak</th></tr><tr><td>str</td><td>u32</td><td>date</td><td>date</td><td>u32</td></tr></thead><tbody><tr><td>&quot;Sindre Haukefer Hauan&quot;</td><td>12</td><td>2025-01-20</td><td>2025-04-27</td><td>6</td></tr></tbody></table></div>"
      ],
      "text/plain": [
       "shape: (1, 5)\n",
       "┌───────────────────────┬─────────────────────────┬────────────────┬───────────────┬────────┐\n",
       "│ Navn                  ┆ Totalt antall treninger ┆ Første trening ┆ Siste trening ┆ Streak │\n",
       "│ ---                   ┆ ---                     ┆ ---            ┆ ---           ┆ ---    │\n",
       "│ str                   ┆ u32                     ┆ date           ┆ date          ┆ u32    │\n",
       "╞═══════════════════════╪═════════════════════════╪════════════════╪═══════════════╪════════╡\n",
       "│ Sindre Haukefer Hauan ┆ 12                      ┆ 2025-01-20     ┆ 2025-04-27    ┆ 6      │\n",
       "└───────────────────────┴─────────────────────────┴────────────────┴───────────────┴────────┘"
      ]
     },
     "execution_count": 12,
     "metadata": {},
     "output_type": "execute_result"
    }
   ],
   "source": [
    "treningsstreak = (df\n",
    ".filter(pl.col('Avlyst trening')=='Nei',\n",
    "        pl.col('Navn')=='Sindre Haukefer Hauan',\n",
    "        pl.col('År')==2025\n",
    "        )       \n",
    ".group_by('Navn')\n",
    ".agg(pl.col('Dato').filter(pl.col('Deltok')=='Ja').n_unique().alias('Totalt antall treninger'),\n",
    "     pl.col('Dato').filter(pl.col('Deltok')=='Ja').min().cast(pl.Date).alias('Første trening'),\n",
    "     pl.col('Dato').filter(pl.col('Deltok')=='Ja').max().cast(pl.Date).alias('Siste trening'),\n",
    "     pds.query_longest_streak(pl.col('Deltok')=='Ja').alias('Streak')\n",
    "     )\n",
    ")\n",
    "\n",
    "treningsstreak"
   ]
  },
  {
   "cell_type": "code",
   "execution_count": 28,
   "metadata": {},
   "outputs": [
    {
     "name": "stderr",
     "output_type": "stream",
     "text": [
      "c:\\Users\\Yafee Ishraq\\AppData\\Local\\Programs\\Python\\Python311\\Lib\\site-packages\\seaborn\\_base.py:948: FutureWarning: When grouping with a length-1 list-like, you will need to pass a length-1 tuple to get_group in a future version of pandas. Pass `(name,)` instead of `name` to silence this warning.\n",
      "  data_subset = grouped_data.get_group(pd_key)\n",
      "c:\\Users\\Yafee Ishraq\\AppData\\Local\\Programs\\Python\\Python311\\Lib\\site-packages\\seaborn\\_base.py:948: FutureWarning: When grouping with a length-1 list-like, you will need to pass a length-1 tuple to get_group in a future version of pandas. Pass `(name,)` instead of `name` to silence this warning.\n",
      "  data_subset = grouped_data.get_group(pd_key)\n"
     ]
    },
    {
     "data": {
      "image/png": "[encoded data removed]",
      "text/plain": [
       "<Figure size 640x480 with 1 Axes>"
      ]
     },
     "metadata": {},
     "output_type": "display_data"
    }
   ],
   "source": [
    "aar = 2025\n",
    "\n",
    "from matplotlib.ticker import MaxNLocator\n",
    "\n",
    "# Henter ut sortert liste over måneder\n",
    "maaned_sort = df.select('Måned', 'Måned navn').unique().sort(by ='Måned',descending=False)['Måned'].to_list()\n",
    "\n",
    "topp_10 = (df\n",
    ".filter(pl.col('Avlyst trening')=='Nei',\n",
    "        pl.col('Deltok')=='Ja',\n",
    "        pl.col('Navn')=='Yafee Ishraq',\n",
    "        pl.col('År').is_in([aar,aar-1])\n",
    "        )\n",
    ".group_by('Navn','År','Måned')\n",
    ".agg(pl.col('Dato').n_unique().cast(pl.Int64).alias('Antall treninger'))\n",
    ".sort(by = ['Måned','År'],descending=[False,False])\n",
    ".with_columns(pl.col(['Måned', 'År']).cast(pl.Utf8))\n",
    ")\n",
    "\n",
    "fig, ax = plt.subplots()\n",
    "sns.barplot(data=topp_10.to_pandas(), x='Måned', y='Antall treninger',hue = 'År',ax = ax,order=maaned_sort)\n",
    "ax.set_title(f'Antall treninger per måned for Sinde')\n",
    "ax.yaxis.set_major_locator(MaxNLocator(integer=True))\n",
    "ax.set(ylabel=None) \n",
    "\n",
    "# Roter x-labels\n",
    "ax.tick_params(axis='x', rotation=50)\n"
   ]
  },
  {
   "cell_type": "code",
   "execution_count": 7,
   "metadata": {},
   "outputs": [
    {
     "data": {
      "text/html": [
       "<div><style>\n",
       ".dataframe > thead > tr,\n",
       ".dataframe > tbody > tr {\n",
       "  text-align: right;\n",
       "  white-space: pre-wrap;\n",
       "}\n",
       "</style>\n",
       "<small>shape: (1, 2)</small><table border=\"1\" class=\"dataframe\"><thead><tr><th>Måned</th><th>Antall per trening</th></tr><tr><td>i8</td><td>f64</td></tr></thead><tbody><tr><td>9</td><td>5.5</td></tr></tbody></table></div>"
      ],
      "text/plain": [
       "shape: (1, 2)\n",
       "┌───────┬────────────────────┐\n",
       "│ Måned ┆ Antall per trening │\n",
       "│ ---   ┆ ---                │\n",
       "│ i8    ┆ f64                │\n",
       "╞═══════╪════════════════════╡\n",
       "│ 9     ┆ 5.5                │\n",
       "└───────┴────────────────────┘"
      ]
     },
     "execution_count": 7,
     "metadata": {},
     "output_type": "execute_result"
    }
   ],
   "source": [
    "(df\n",
    ".filter(pl.col('Treningsdato').dt.year()==2024,\n",
    "        pl.col('Treningsdato').dt.month()==9\n",
    "        )\n",
    ".group_by('Måned')\n",
    ".agg( \n",
    "      pl.when(pl.col('Treningsdato').filter(pl.col('Avlyst trening')=='Nei').n_unique()==1)\n",
    "      .then(\n",
    "      pl.col('Navn')\n",
    "      .filter(pl.col('Deltok')=='Ja')\n",
    "      .n_unique()\n",
    "      )\n",
    "      .otherwise(\n",
    "      pl.col('Navn')\n",
    "      .filter(pl.col('Deltok')=='Ja')\n",
    "      .len()\n",
    "      .truediv(pl.col('Treningsdato').filter(pl.col('Avlyst trening')=='Nei').n_unique())\n",
    "     )\n",
    "     .alias('Antall per trening')\n",
    "     )\n",
    ")"
   ]
  },
  {
   "cell_type": "code",
   "execution_count": 6,
   "metadata": {},
   "outputs": [
    {
     "data": {
      "text/html": [
       "<div><style>\n",
       ".dataframe > thead > tr,\n",
       ".dataframe > tbody > tr {\n",
       "  text-align: right;\n",
       "  white-space: pre-wrap;\n",
       "}\n",
       "</style>\n",
       "<small>shape: (660, 10)</small><table border=\"1\" class=\"dataframe\"><thead><tr><th>Dato</th><th>Navn</th><th>Deltok</th><th>Avlyst trening</th><th>Treningsdato</th><th>År</th><th>Måned</th><th>Dag</th><th>Måned navn</th><th>Årstid</th></tr><tr><td>date</td><td>str</td><td>str</td><td>str</td><td>date</td><td>i32</td><td>i8</td><td>i8</td><td>str</td><td>str</td></tr></thead><tbody><tr><td>2024-01-06</td><td>&quot;Erlend Haukefer Hauan&quot;</td><td>&quot;Ja&quot;</td><td>&quot;Ja&quot;</td><td>2024-01-08</td><td>2024</td><td>1</td><td>1</td><td>&quot;Januar&quot;</td><td>&quot;vinter&quot;</td></tr><tr><td>2024-01-06</td><td>&quot;Bakary Jang Konateh&quot;</td><td>&quot;Ja&quot;</td><td>&quot;Ja&quot;</td><td>2024-01-08</td><td>2024</td><td>1</td><td>1</td><td>&quot;Januar&quot;</td><td>&quot;vinter&quot;</td></tr><tr><td>2024-01-06</td><td>&quot;Sindre Haukefer Hauan&quot;</td><td>&quot;Ja&quot;</td><td>&quot;Ja&quot;</td><td>2024-01-08</td><td>2024</td><td>1</td><td>1</td><td>&quot;Januar&quot;</td><td>&quot;vinter&quot;</td></tr><tr><td>2024-02-04</td><td>&quot;Yafee Ishraq&quot;</td><td>&quot;Nei&quot;</td><td>&quot;Ja&quot;</td><td>2024-02-05</td><td>2024</td><td>2</td><td>1</td><td>&quot;Februar&quot;</td><td>&quot;vinter&quot;</td></tr><tr><td>2024-02-04</td><td>&quot;Erlend Haukefer Hauan&quot;</td><td>&quot;Nei&quot;</td><td>&quot;Ja&quot;</td><td>2024-02-05</td><td>2024</td><td>2</td><td>1</td><td>&quot;Februar&quot;</td><td>&quot;vinter&quot;</td></tr><tr><td>&hellip;</td><td>&hellip;</td><td>&hellip;</td><td>&hellip;</td><td>&hellip;</td><td>&hellip;</td><td>&hellip;</td><td>&hellip;</td><td>&hellip;</td><td>&hellip;</td></tr><tr><td>2025-05-18</td><td>&quot;Magnus Alexander Gjerde Bevan&quot;</td><td>&quot;Ja&quot;</td><td>&quot;Nei&quot;</td><td>2025-05-21</td><td>2025</td><td>5</td><td>3</td><td>&quot;Mai&quot;</td><td>&quot;vår&quot;</td></tr><tr><td>2025-05-18</td><td>&quot;Johannes Aarra&quot;</td><td>&quot;Ja&quot;</td><td>&quot;Nei&quot;</td><td>2025-05-21</td><td>2025</td><td>5</td><td>3</td><td>&quot;Mai&quot;</td><td>&quot;vår&quot;</td></tr><tr><td>2025-05-18</td><td>&quot;Markus Bjånesøy&quot;</td><td>&quot;Ja&quot;</td><td>&quot;Nei&quot;</td><td>2025-05-21</td><td>2025</td><td>5</td><td>3</td><td>&quot;Mai&quot;</td><td>&quot;vår&quot;</td></tr><tr><td>2025-05-18</td><td>&quot;Thomas Thorbjørnsen&quot;</td><td>&quot;Nei&quot;</td><td>&quot;Nei&quot;</td><td>2025-05-21</td><td>2025</td><td>5</td><td>3</td><td>&quot;Mai&quot;</td><td>&quot;vår&quot;</td></tr><tr><td>2025-05-18</td><td>&quot;Kristoffer Fauskanger&quot;</td><td>&quot;Nei&quot;</td><td>&quot;Nei&quot;</td><td>2025-05-21</td><td>2025</td><td>5</td><td>3</td><td>&quot;Mai&quot;</td><td>&quot;vår&quot;</td></tr></tbody></table></div>"
      ],
      "text/plain": [
       "shape: (660, 10)\n",
       "┌────────────┬───────────────────┬────────┬────────────────┬───┬───────┬─────┬────────────┬────────┐\n",
       "│ Dato       ┆ Navn              ┆ Deltok ┆ Avlyst trening ┆ … ┆ Måned ┆ Dag ┆ Måned navn ┆ Årstid │\n",
       "│ ---        ┆ ---               ┆ ---    ┆ ---            ┆   ┆ ---   ┆ --- ┆ ---        ┆ ---    │\n",
       "│ date       ┆ str               ┆ str    ┆ str            ┆   ┆ i8    ┆ i8  ┆ str        ┆ str    │\n",
       "╞════════════╪═══════════════════╪════════╪════════════════╪═══╪═══════╪═════╪════════════╪════════╡\n",
       "│ 2024-01-06 ┆ Erlend Haukefer   ┆ Ja     ┆ Ja             ┆ … ┆ 1     ┆ 1   ┆ Januar     ┆ vinter │\n",
       "│            ┆ Hauan             ┆        ┆                ┆   ┆       ┆     ┆            ┆        │\n",
       "│ 2024-01-06 ┆ Bakary Jang       ┆ Ja     ┆ Ja             ┆ … ┆ 1     ┆ 1   ┆ Januar     ┆ vinter │\n",
       "│            ┆ Konateh           ┆        ┆                ┆   ┆       ┆     ┆            ┆        │\n",
       "│ 2024-01-06 ┆ Sindre Haukefer   ┆ Ja     ┆ Ja             ┆ … ┆ 1     ┆ 1   ┆ Januar     ┆ vinter │\n",
       "│            ┆ Hauan             ┆        ┆                ┆   ┆       ┆     ┆            ┆        │\n",
       "│ 2024-02-04 ┆ Yafee Ishraq      ┆ Nei    ┆ Ja             ┆ … ┆ 2     ┆ 1   ┆ Februar    ┆ vinter │\n",
       "│ 2024-02-04 ┆ Erlend Haukefer   ┆ Nei    ┆ Ja             ┆ … ┆ 2     ┆ 1   ┆ Februar    ┆ vinter │\n",
       "│            ┆ Hauan             ┆        ┆                ┆   ┆       ┆     ┆            ┆        │\n",
       "│ …          ┆ …                 ┆ …      ┆ …              ┆ … ┆ …     ┆ …   ┆ …          ┆ …      │\n",
       "│ 2025-05-18 ┆ Magnus Alexander  ┆ Ja     ┆ Nei            ┆ … ┆ 5     ┆ 3   ┆ Mai        ┆ vår    │\n",
       "│            ┆ Gjerde Bevan      ┆        ┆                ┆   ┆       ┆     ┆            ┆        │\n",
       "│ 2025-05-18 ┆ Johannes Aarra    ┆ Ja     ┆ Nei            ┆ … ┆ 5     ┆ 3   ┆ Mai        ┆ vår    │\n",
       "│ 2025-05-18 ┆ Markus Bjånesøy   ┆ Ja     ┆ Nei            ┆ … ┆ 5     ┆ 3   ┆ Mai        ┆ vår    │\n",
       "│ 2025-05-18 ┆ Thomas            ┆ Nei    ┆ Nei            ┆ … ┆ 5     ┆ 3   ┆ Mai        ┆ vår    │\n",
       "│            ┆ Thorbjørnsen      ┆        ┆                ┆   ┆       ┆     ┆            ┆        │\n",
       "│ 2025-05-18 ┆ Kristoffer        ┆ Nei    ┆ Nei            ┆ … ┆ 5     ┆ 3   ┆ Mai        ┆ vår    │\n",
       "│            ┆ Fauskanger        ┆        ┆                ┆   ┆       ┆     ┆            ┆        │\n",
       "└────────────┴───────────────────┴────────┴────────────────┴───┴───────┴─────┴────────────┴────────┘"
      ]
     },
     "execution_count": 6,
     "metadata": {},
     "output_type": "execute_result"
    }
   ],
   "source": [
    "df"
   ]
  },
  {
   "cell_type": "code",
   "execution_count": 12,
   "metadata": {},
   "outputs": [
    {
     "data": {
      "text/html": [
       "<div><style>\n",
       ".dataframe > thead > tr,\n",
       ".dataframe > tbody > tr {\n",
       "  text-align: right;\n",
       "  white-space: pre-wrap;\n",
       "}\n",
       "</style>\n",
       "<small>shape: (22, 3)</small><table border=\"1\" class=\"dataframe\"><thead><tr><th>Dato</th><th>Måned nr</th><th>Måned</th></tr><tr><td>date</td><td>i8</td><td>str</td></tr></thead><tbody><tr><td>2024-09-02</td><td>8</td><td>&quot;August&quot;</td></tr><tr><td>2024-09-02</td><td>8</td><td>&quot;August&quot;</td></tr><tr><td>2024-09-02</td><td>8</td><td>&quot;August&quot;</td></tr><tr><td>2024-09-02</td><td>8</td><td>&quot;August&quot;</td></tr><tr><td>2024-09-02</td><td>8</td><td>&quot;August&quot;</td></tr><tr><td>&hellip;</td><td>&hellip;</td><td>&hellip;</td></tr><tr><td>2024-09-09</td><td>9</td><td>&quot;September&quot;</td></tr><tr><td>2024-09-09</td><td>9</td><td>&quot;September&quot;</td></tr><tr><td>2024-09-09</td><td>9</td><td>&quot;September&quot;</td></tr><tr><td>2024-09-09</td><td>9</td><td>&quot;September&quot;</td></tr><tr><td>2024-09-09</td><td>9</td><td>&quot;September&quot;</td></tr></tbody></table></div>"
      ],
      "text/plain": [
       "shape: (22, 3)\n",
       "┌────────────┬──────────┬───────────┐\n",
       "│ Dato       ┆ Måned nr ┆ Måned     │\n",
       "│ ---        ┆ ---      ┆ ---       │\n",
       "│ date       ┆ i8       ┆ str       │\n",
       "╞════════════╪══════════╪═══════════╡\n",
       "│ 2024-09-02 ┆ 8        ┆ August    │\n",
       "│ 2024-09-02 ┆ 8        ┆ August    │\n",
       "│ 2024-09-02 ┆ 8        ┆ August    │\n",
       "│ 2024-09-02 ┆ 8        ┆ August    │\n",
       "│ 2024-09-02 ┆ 8        ┆ August    │\n",
       "│ …          ┆ …        ┆ …         │\n",
       "│ 2024-09-09 ┆ 9        ┆ September │\n",
       "│ 2024-09-09 ┆ 9        ┆ September │\n",
       "│ 2024-09-09 ┆ 9        ┆ September │\n",
       "│ 2024-09-09 ┆ 9        ┆ September │\n",
       "│ 2024-09-09 ┆ 9        ┆ September │\n",
       "└────────────┴──────────┴───────────┘"
      ]
     },
     "execution_count": 12,
     "metadata": {},
     "output_type": "execute_result"
    }
   ],
   "source": [
    "(df\n",
    ".select('Dato','Måned nr','Måned')\n",
    ".filter(pl.col('Dato').dt.year()==2024,pl.col('Dato').dt.month()==9)\n",
    "\n",
    ")"
   ]
  },
  {
   "cell_type": "code",
   "execution_count": 10,
   "metadata": {},
   "outputs": [],
   "source": [
    "# Skal koble på den første mandagen etter publiseringsdato\n",
    "\n",
    "# Henter ut max og min dato\n",
    "aar_max = int(df.select('År').max().item())\n",
    "aar_min = int(df.select('År').min().item())\n",
    "\n",
    "alle_datoer = pl.DataFrame({'alle_dato':pl.date_range(date(aar_min, 1, 1), date(aar_max, 12, 1), \"1d\", eager=True)})\n",
    "\n",
    "publiseringsdato = df.select('Dato').unique().rename({'Dato':'publiseringsdato'})\n"
   ]
  },
  {
   "cell_type": "code",
   "execution_count": null,
   "metadata": {},
   "outputs": [
    {
     "data": {
      "text/html": [
       "<div><style>\n",
       ".dataframe > thead > tr,\n",
       ".dataframe > tbody > tr {\n",
       "  text-align: right;\n",
       "  white-space: pre-wrap;\n",
       "}\n",
       "</style>\n",
       "<small>shape: (660, 8)</small><table border=\"1\" class=\"dataframe\"><thead><tr><th>Navn</th><th>Deltok</th><th>Avlyst trening</th><th>År</th><th>Måned</th><th>Dag</th><th>Måned nr</th><th>Dato</th></tr><tr><td>str</td><td>str</td><td>str</td><td>str</td><td>str</td><td>i64</td><td>i64</td><td>date</td></tr></thead><tbody><tr><td>&quot;Erlend Haukefer Hauan&quot;</td><td>&quot;Ja&quot;</td><td>&quot;Ja&quot;</td><td>&quot;2024&quot;</td><td>&quot;Januar&quot;</td><td>6</td><td>1</td><td>2024-01-08</td></tr><tr><td>&quot;Bakary Jang Konateh&quot;</td><td>&quot;Ja&quot;</td><td>&quot;Ja&quot;</td><td>&quot;2024&quot;</td><td>&quot;Januar&quot;</td><td>6</td><td>1</td><td>2024-01-08</td></tr><tr><td>&quot;Sindre Haukefer Hauan&quot;</td><td>&quot;Ja&quot;</td><td>&quot;Ja&quot;</td><td>&quot;2024&quot;</td><td>&quot;Januar&quot;</td><td>6</td><td>1</td><td>2024-01-08</td></tr><tr><td>&quot;Yafee Ishraq&quot;</td><td>&quot;Nei&quot;</td><td>&quot;Ja&quot;</td><td>&quot;2024&quot;</td><td>&quot;Februar&quot;</td><td>4</td><td>2</td><td>2024-02-05</td></tr><tr><td>&quot;Erlend Haukefer Hauan&quot;</td><td>&quot;Nei&quot;</td><td>&quot;Ja&quot;</td><td>&quot;2024&quot;</td><td>&quot;Februar&quot;</td><td>4</td><td>2</td><td>2024-02-05</td></tr><tr><td>&hellip;</td><td>&hellip;</td><td>&hellip;</td><td>&hellip;</td><td>&hellip;</td><td>&hellip;</td><td>&hellip;</td><td>&hellip;</td></tr><tr><td>&quot;Magnus Alexander Gjerde Bevan&quot;</td><td>&quot;Ja&quot;</td><td>&quot;Nei&quot;</td><td>&quot;2025&quot;</td><td>&quot;Mai&quot;</td><td>18</td><td>5</td><td>2025-05-21</td></tr><tr><td>&quot;Johannes Aarra&quot;</td><td>&quot;Ja&quot;</td><td>&quot;Nei&quot;</td><td>&quot;2025&quot;</td><td>&quot;Mai&quot;</td><td>18</td><td>5</td><td>2025-05-21</td></tr><tr><td>&quot;Markus Bjånesøy&quot;</td><td>&quot;Ja&quot;</td><td>&quot;Nei&quot;</td><td>&quot;2025&quot;</td><td>&quot;Mai&quot;</td><td>18</td><td>5</td><td>2025-05-21</td></tr><tr><td>&quot;Thomas Thorbjørnsen&quot;</td><td>&quot;Nei&quot;</td><td>&quot;Nei&quot;</td><td>&quot;2025&quot;</td><td>&quot;Mai&quot;</td><td>18</td><td>5</td><td>2025-05-21</td></tr><tr><td>&quot;Kristoffer Fauskanger&quot;</td><td>&quot;Nei&quot;</td><td>&quot;Nei&quot;</td><td>&quot;2025&quot;</td><td>&quot;Mai&quot;</td><td>18</td><td>5</td><td>2025-05-21</td></tr></tbody></table></div>"
      ],
      "text/plain": [
       "shape: (660, 8)\n",
       "┌─────────────────────────┬────────┬────────────────┬──────┬─────────┬─────┬──────────┬────────────┐\n",
       "│ Navn                    ┆ Deltok ┆ Avlyst trening ┆ År   ┆ Måned   ┆ Dag ┆ Måned nr ┆ Dato       │\n",
       "│ ---                     ┆ ---    ┆ ---            ┆ ---  ┆ ---     ┆ --- ┆ ---      ┆ ---        │\n",
       "│ str                     ┆ str    ┆ str            ┆ str  ┆ str     ┆ i64 ┆ i64      ┆ date       │\n",
       "╞═════════════════════════╪════════╪════════════════╪══════╪═════════╪═════╪══════════╪════════════╡\n",
       "│ Erlend Haukefer Hauan   ┆ Ja     ┆ Ja             ┆ 2024 ┆ Januar  ┆ 6   ┆ 1        ┆ 2024-01-08 │\n",
       "│ Bakary Jang Konateh     ┆ Ja     ┆ Ja             ┆ 2024 ┆ Januar  ┆ 6   ┆ 1        ┆ 2024-01-08 │\n",
       "│ Sindre Haukefer Hauan   ┆ Ja     ┆ Ja             ┆ 2024 ┆ Januar  ┆ 6   ┆ 1        ┆ 2024-01-08 │\n",
       "│ Yafee Ishraq            ┆ Nei    ┆ Ja             ┆ 2024 ┆ Februar ┆ 4   ┆ 2        ┆ 2024-02-05 │\n",
       "│ Erlend Haukefer Hauan   ┆ Nei    ┆ Ja             ┆ 2024 ┆ Februar ┆ 4   ┆ 2        ┆ 2024-02-05 │\n",
       "│ …                       ┆ …      ┆ …              ┆ …    ┆ …       ┆ …   ┆ …        ┆ …          │\n",
       "│ Magnus Alexander Gjerde ┆ Ja     ┆ Nei            ┆ 2025 ┆ Mai     ┆ 18  ┆ 5        ┆ 2025-05-21 │\n",
       "│ Bevan                   ┆        ┆                ┆      ┆         ┆     ┆          ┆            │\n",
       "│ Johannes Aarra          ┆ Ja     ┆ Nei            ┆ 2025 ┆ Mai     ┆ 18  ┆ 5        ┆ 2025-05-21 │\n",
       "│ Markus Bjånesøy         ┆ Ja     ┆ Nei            ┆ 2025 ┆ Mai     ┆ 18  ┆ 5        ┆ 2025-05-21 │\n",
       "│ Thomas Thorbjørnsen     ┆ Nei    ┆ Nei            ┆ 2025 ┆ Mai     ┆ 18  ┆ 5        ┆ 2025-05-21 │\n",
       "│ Kristoffer Fauskanger   ┆ Nei    ┆ Nei            ┆ 2025 ┆ Mai     ┆ 18  ┆ 5        ┆ 2025-05-21 │\n",
       "└─────────────────────────┴────────┴────────────────┴──────┴─────────┴─────┴──────────┴────────────┘"
      ]
     },
     "execution_count": 12,
     "metadata": {},
     "output_type": "execute_result"
    }
   ],
   "source": [
    "publiseringsdato = (publiseringsdato\n",
    "\n",
    "# Kobler på alle datoer som er større enn publiseringsdato\n",
    ".join_where(\n",
    "alle_datoer,\n",
    "\n",
    "# Denne inequalitien vil sikre at dersom èn har publisert trening samme dag som det skal være trening\n",
    "pl.col('publiseringsdato')<=pl.col('alle_dato')\n",
    ")\n",
    "\n",
    "# Ekstraherer ukedag\n",
    ".with_columns(pl.col('alle_dato').dt.weekday().alias('dag'))\n",
    "\n",
    "# Identifiserer hva som er den første mandagen ellers onsdag\n",
    " .group_by('publiseringsdato')\n",
    " .agg(\n",
    "     \n",
    "    # Første mandag  \n",
    "    pl.col('alle_dato').filter(pl.col('dag')==1).min().alias('forste_mandag'),\n",
    "\n",
    "    # Første onsdag\n",
    "    pl.col('alle_dato').filter(pl.col('dag')==3).min().alias('forste_onsdag')\n",
    "    \n",
    "    )\n",
    "\n",
    "# Dersom det er 2024 brukes mandag, hvis ikke brukes onsdag. Må sannsynligvis endre på logikken om flere år inkluderes i datasettet\n",
    ".with_columns(pl.when(pl.col('publiseringsdato').dt.year()==2024)\n",
    "              .then(pl.col('forste_mandag'))\n",
    "              .otherwise(pl.col('forste_onsdag'))\n",
    "              .alias('treningsdato')\n",
    ")\n",
    "\n",
    "# Fjerner forste_ kolonnene\n",
    ".select(~cs.starts_with('forste'))\n",
    "\n",
    "# Det kan være tilfeller hvor treningsdato har to eller flere publiseringsdato. Dette kan for eksempel forekomme dersom èn har publisert trening to ganger etter første mandagen i uken, som foreksempel\n",
    "# 2024-07-25 (torsdag) og 2024-07-28 (søndag). Derfor tas det unike radene av treningsdato\n",
    ".unique(subset='treningsdato')\n",
    "\n",
    ")\n",
    "\n",
    "\n",
    "\n",
    "# Må ta en inner join fordi vi fjerner duplikater av tilfeller hvor treningsdato har 2 eller flere publiseringsdato\n",
    "df = (df\n",
    ".join(other = publiseringsdato,left_on='Dato',right_on='publiseringsdato',how = 'inner')\n",
    ".drop('Dato')\n",
    ".rename({'treningsdato':'Dato'})\n",
    ")\n"
   ]
  },
  {
   "cell_type": "code",
   "execution_count": 9,
   "metadata": {},
   "outputs": [
    {
     "data": {
      "text/html": [
       "<div><style>\n",
       ".dataframe > thead > tr,\n",
       ".dataframe > tbody > tr {\n",
       "  text-align: right;\n",
       "  white-space: pre-wrap;\n",
       "}\n",
       "</style>\n",
       "<small>shape: (173, 3)</small><table border=\"1\" class=\"dataframe\"><thead><tr><th>Navn</th><th>Måned</th><th>Streak</th></tr><tr><td>str</td><td>str</td><td>u32</td></tr></thead><tbody><tr><td>&quot;Carlos Tveit&quot;</td><td>&quot;September&quot;</td><td>0</td></tr><tr><td>&quot;Patrick Waage Seljenes&quot;</td><td>&quot;Oktober&quot;</td><td>0</td></tr><tr><td>&quot;Thomas Thorbjørnsen&quot;</td><td>&quot;Mai&quot;</td><td>0</td></tr><tr><td>&quot;Patrick Waage Seljenes&quot;</td><td>&quot;Juni&quot;</td><td>0</td></tr><tr><td>&quot;Ruben André M. Njøtøy&quot;</td><td>&quot;Mai&quot;</td><td>0</td></tr><tr><td>&hellip;</td><td>&hellip;</td><td>&hellip;</td></tr><tr><td>&quot;Sindre Jakobsen&quot;</td><td>&quot;April&quot;</td><td>4</td></tr><tr><td>&quot;Sindre Jakobsen&quot;</td><td>&quot;August&quot;</td><td>5</td></tr><tr><td>&quot;Thomas Thorbjørnsen&quot;</td><td>&quot;August&quot;</td><td>5</td></tr><tr><td>&quot;Yafee Ishraq&quot;</td><td>&quot;August&quot;</td><td>5</td></tr><tr><td>&quot;Stian Nyheim&quot;</td><td>&quot;August&quot;</td><td>5</td></tr></tbody></table></div>"
      ],
      "text/plain": [
       "shape: (173, 3)\n",
       "┌────────────────────────┬───────────┬────────┐\n",
       "│ Navn                   ┆ Måned     ┆ Streak │\n",
       "│ ---                    ┆ ---       ┆ ---    │\n",
       "│ str                    ┆ str       ┆ u32    │\n",
       "╞════════════════════════╪═══════════╪════════╡\n",
       "│ Carlos Tveit           ┆ September ┆ 0      │\n",
       "│ Patrick Waage Seljenes ┆ Oktober   ┆ 0      │\n",
       "│ Thomas Thorbjørnsen    ┆ Mai       ┆ 0      │\n",
       "│ Patrick Waage Seljenes ┆ Juni      ┆ 0      │\n",
       "│ Ruben André M. Njøtøy  ┆ Mai       ┆ 0      │\n",
       "│ …                      ┆ …         ┆ …      │\n",
       "│ Sindre Jakobsen        ┆ April     ┆ 4      │\n",
       "│ Sindre Jakobsen        ┆ August    ┆ 5      │\n",
       "│ Thomas Thorbjørnsen    ┆ August    ┆ 5      │\n",
       "│ Yafee Ishraq           ┆ August    ┆ 5      │\n",
       "│ Stian Nyheim           ┆ August    ┆ 5      │\n",
       "└────────────────────────┴───────────┴────────┘"
      ]
     },
     "execution_count": 9,
     "metadata": {},
     "output_type": "execute_result"
    }
   ],
   "source": [
    "(df\n",
    ".group_by('Navn','Måned')\n",
    ".agg(pds.query_longest_streak(pl.col('Deltok')=='Ja').alias('Streak'))\n",
    "#.filter(pl.col('Navn').str.contains('Erlend'))\n",
    ".sort(by = 'Streak')\n",
    ")"
   ]
  },
  {
   "cell_type": "code",
   "execution_count": 44,
   "metadata": {},
   "outputs": [
    {
     "data": {
      "text/html": [
       "<div><style>\n",
       ".dataframe > thead > tr,\n",
       ".dataframe > tbody > tr {\n",
       "  text-align: right;\n",
       "  white-space: pre-wrap;\n",
       "}\n",
       "</style>\n",
       "<small>shape: (21, 8)</small><table border=\"1\" class=\"dataframe\"><thead><tr><th>Dato</th><th>Navn</th><th>Deltok</th><th>Avlyst trening</th><th>År</th><th>Måned</th><th>Dag</th><th>Måned nr</th></tr><tr><td>date</td><td>str</td><td>str</td><td>str</td><td>str</td><td>str</td><td>i64</td><td>i64</td></tr></thead><tbody><tr><td>2024-01-06</td><td>&quot;Erlend Haukefer Hauan&quot;</td><td>&quot;Ja&quot;</td><td>&quot;Ja&quot;</td><td>&quot;2024&quot;</td><td>&quot;Januar&quot;</td><td>6</td><td>1</td></tr><tr><td>2024-02-04</td><td>&quot;Erlend Haukefer Hauan&quot;</td><td>&quot;Nei&quot;</td><td>&quot;Ja&quot;</td><td>&quot;2024&quot;</td><td>&quot;Februar&quot;</td><td>4</td><td>2</td></tr><tr><td>2024-02-17</td><td>&quot;Erlend Haukefer Hauan&quot;</td><td>&quot;Nei&quot;</td><td>&quot;Nei&quot;</td><td>&quot;2024&quot;</td><td>&quot;Februar&quot;</td><td>17</td><td>2</td></tr><tr><td>2024-02-24</td><td>&quot;Erlend Haukefer Hauan&quot;</td><td>&quot;Ja&quot;</td><td>&quot;Nei&quot;</td><td>&quot;2024&quot;</td><td>&quot;Februar&quot;</td><td>24</td><td>2</td></tr><tr><td>2024-03-02</td><td>&quot;Erlend Haukefer Hauan&quot;</td><td>&quot;Ja&quot;</td><td>&quot;Ja&quot;</td><td>&quot;2024&quot;</td><td>&quot;Mars&quot;</td><td>2</td><td>3</td></tr><tr><td>2024-03-08</td><td>&quot;Erlend Haukefer Hauan&quot;</td><td>&quot;Ja&quot;</td><td>&quot;Nei&quot;</td><td>&quot;2024&quot;</td><td>&quot;Mars&quot;</td><td>8</td><td>3</td></tr><tr><td>2024-04-20</td><td>&quot;Erlend Haukefer Hauan&quot;</td><td>&quot;Ja&quot;</td><td>&quot;Nei&quot;</td><td>&quot;2024&quot;</td><td>&quot;April&quot;</td><td>20</td><td>4</td></tr><tr><td>2024-04-28</td><td>&quot;Erlend Haukefer Hauan&quot;</td><td>&quot;Ja&quot;</td><td>&quot;Nei&quot;</td><td>&quot;2024&quot;</td><td>&quot;April&quot;</td><td>28</td><td>4</td></tr><tr><td>2024-05-05</td><td>&quot;Erlend Haukefer Hauan&quot;</td><td>&quot;Ja&quot;</td><td>&quot;Ja&quot;</td><td>&quot;2024&quot;</td><td>&quot;Mai&quot;</td><td>5</td><td>5</td></tr><tr><td>2024-05-12</td><td>&quot;Erlend Haukefer Hauan&quot;</td><td>&quot;Nei&quot;</td><td>&quot;Nei&quot;</td><td>&quot;2024&quot;</td><td>&quot;Mai&quot;</td><td>12</td><td>5</td></tr><tr><td>2024-05-26</td><td>&quot;Erlend Haukefer Hauan&quot;</td><td>&quot;Ja&quot;</td><td>&quot;Nei&quot;</td><td>&quot;2024&quot;</td><td>&quot;Mai&quot;</td><td>26</td><td>5</td></tr><tr><td>2024-05-31</td><td>&quot;Erlend Haukefer Hauan&quot;</td><td>&quot;Ja&quot;</td><td>&quot;Nei&quot;</td><td>&quot;2024&quot;</td><td>&quot;Mai&quot;</td><td>31</td><td>5</td></tr><tr><td>2024-06-09</td><td>&quot;Erlend Haukefer Hauan&quot;</td><td>&quot;Nei&quot;</td><td>&quot;Nei&quot;</td><td>&quot;2024&quot;</td><td>&quot;Juni&quot;</td><td>9</td><td>6</td></tr><tr><td>2024-06-16</td><td>&quot;Erlend Haukefer Hauan&quot;</td><td>&quot;Nei&quot;</td><td>&quot;Ja&quot;</td><td>&quot;2024&quot;</td><td>&quot;Juni&quot;</td><td>16</td><td>6</td></tr><tr><td>2024-06-30</td><td>&quot;Erlend Haukefer Hauan&quot;</td><td>&quot;Ja&quot;</td><td>&quot;Nei&quot;</td><td>&quot;2024&quot;</td><td>&quot;Juni&quot;</td><td>30</td><td>6</td></tr><tr><td>2024-07-06</td><td>&quot;Erlend Haukefer Hauan&quot;</td><td>&quot;Nei&quot;</td><td>&quot;Ja&quot;</td><td>&quot;2024&quot;</td><td>&quot;Juli&quot;</td><td>6</td><td>7</td></tr><tr><td>2024-07-28</td><td>&quot;Erlend Haukefer Hauan&quot;</td><td>&quot;Ja&quot;</td><td>&quot;Nei&quot;</td><td>&quot;2024&quot;</td><td>&quot;Juli&quot;</td><td>28</td><td>7</td></tr><tr><td>2024-08-03</td><td>&quot;Erlend Haukefer Hauan&quot;</td><td>&quot;Ja&quot;</td><td>&quot;Nei&quot;</td><td>&quot;2024&quot;</td><td>&quot;August&quot;</td><td>3</td><td>8</td></tr><tr><td>2024-08-10</td><td>&quot;Erlend Haukefer Hauan&quot;</td><td>&quot;Nei&quot;</td><td>&quot;Nei&quot;</td><td>&quot;2024&quot;</td><td>&quot;August&quot;</td><td>10</td><td>8</td></tr><tr><td>2024-08-25</td><td>&quot;Erlend Haukefer Hauan&quot;</td><td>&quot;Ja&quot;</td><td>&quot;Nei&quot;</td><td>&quot;2024&quot;</td><td>&quot;August&quot;</td><td>25</td><td>8</td></tr><tr><td>2024-08-31</td><td>&quot;Erlend Haukefer Hauan&quot;</td><td>&quot;Ja&quot;</td><td>&quot;Nei&quot;</td><td>&quot;2024&quot;</td><td>&quot;August&quot;</td><td>31</td><td>8</td></tr></tbody></table></div>"
      ],
      "text/plain": [
       "shape: (21, 8)\n",
       "┌────────────┬───────────────────────┬────────┬────────────────┬──────┬─────────┬─────┬──────────┐\n",
       "│ Dato       ┆ Navn                  ┆ Deltok ┆ Avlyst trening ┆ År   ┆ Måned   ┆ Dag ┆ Måned nr │\n",
       "│ ---        ┆ ---                   ┆ ---    ┆ ---            ┆ ---  ┆ ---     ┆ --- ┆ ---      │\n",
       "│ date       ┆ str                   ┆ str    ┆ str            ┆ str  ┆ str     ┆ i64 ┆ i64      │\n",
       "╞════════════╪═══════════════════════╪════════╪════════════════╪══════╪═════════╪═════╪══════════╡\n",
       "│ 2024-01-06 ┆ Erlend Haukefer Hauan ┆ Ja     ┆ Ja             ┆ 2024 ┆ Januar  ┆ 6   ┆ 1        │\n",
       "│ 2024-02-04 ┆ Erlend Haukefer Hauan ┆ Nei    ┆ Ja             ┆ 2024 ┆ Februar ┆ 4   ┆ 2        │\n",
       "│ 2024-02-17 ┆ Erlend Haukefer Hauan ┆ Nei    ┆ Nei            ┆ 2024 ┆ Februar ┆ 17  ┆ 2        │\n",
       "│ 2024-02-24 ┆ Erlend Haukefer Hauan ┆ Ja     ┆ Nei            ┆ 2024 ┆ Februar ┆ 24  ┆ 2        │\n",
       "│ 2024-03-02 ┆ Erlend Haukefer Hauan ┆ Ja     ┆ Ja             ┆ 2024 ┆ Mars    ┆ 2   ┆ 3        │\n",
       "│ 2024-03-08 ┆ Erlend Haukefer Hauan ┆ Ja     ┆ Nei            ┆ 2024 ┆ Mars    ┆ 8   ┆ 3        │\n",
       "│ 2024-04-20 ┆ Erlend Haukefer Hauan ┆ Ja     ┆ Nei            ┆ 2024 ┆ April   ┆ 20  ┆ 4        │\n",
       "│ 2024-04-28 ┆ Erlend Haukefer Hauan ┆ Ja     ┆ Nei            ┆ 2024 ┆ April   ┆ 28  ┆ 4        │\n",
       "│ 2024-05-05 ┆ Erlend Haukefer Hauan ┆ Ja     ┆ Ja             ┆ 2024 ┆ Mai     ┆ 5   ┆ 5        │\n",
       "│ 2024-05-12 ┆ Erlend Haukefer Hauan ┆ Nei    ┆ Nei            ┆ 2024 ┆ Mai     ┆ 12  ┆ 5        │\n",
       "│ 2024-05-26 ┆ Erlend Haukefer Hauan ┆ Ja     ┆ Nei            ┆ 2024 ┆ Mai     ┆ 26  ┆ 5        │\n",
       "│ 2024-05-31 ┆ Erlend Haukefer Hauan ┆ Ja     ┆ Nei            ┆ 2024 ┆ Mai     ┆ 31  ┆ 5        │\n",
       "│ 2024-06-09 ┆ Erlend Haukefer Hauan ┆ Nei    ┆ Nei            ┆ 2024 ┆ Juni    ┆ 9   ┆ 6        │\n",
       "│ 2024-06-16 ┆ Erlend Haukefer Hauan ┆ Nei    ┆ Ja             ┆ 2024 ┆ Juni    ┆ 16  ┆ 6        │\n",
       "│ 2024-06-30 ┆ Erlend Haukefer Hauan ┆ Ja     ┆ Nei            ┆ 2024 ┆ Juni    ┆ 30  ┆ 6        │\n",
       "│ 2024-07-06 ┆ Erlend Haukefer Hauan ┆ Nei    ┆ Ja             ┆ 2024 ┆ Juli    ┆ 6   ┆ 7        │\n",
       "│ 2024-07-28 ┆ Erlend Haukefer Hauan ┆ Ja     ┆ Nei            ┆ 2024 ┆ Juli    ┆ 28  ┆ 7        │\n",
       "│ 2024-08-03 ┆ Erlend Haukefer Hauan ┆ Ja     ┆ Nei            ┆ 2024 ┆ August  ┆ 3   ┆ 8        │\n",
       "│ 2024-08-10 ┆ Erlend Haukefer Hauan ┆ Nei    ┆ Nei            ┆ 2024 ┆ August  ┆ 10  ┆ 8        │\n",
       "│ 2024-08-25 ┆ Erlend Haukefer Hauan ┆ Ja     ┆ Nei            ┆ 2024 ┆ August  ┆ 25  ┆ 8        │\n",
       "│ 2024-08-31 ┆ Erlend Haukefer Hauan ┆ Ja     ┆ Nei            ┆ 2024 ┆ August  ┆ 31  ┆ 8        │\n",
       "└────────────┴───────────────────────┴────────┴────────────────┴──────┴─────────┴─────┴──────────┘"
      ]
     },
     "execution_count": 44,
     "metadata": {},
     "output_type": "execute_result"
    }
   ],
   "source": [
    "pl.Config(tbl_rows=50)\n",
    "df.filter(pl.col('Navn')=='Erlend Haukefer Hauan')"
   ]
  },
  {
   "cell_type": "code",
   "execution_count": null,
   "metadata": {},
   "outputs": [],
   "source": []
  },
  {
   "cell_type": "code",
   "execution_count": 36,
   "metadata": {},
   "outputs": [
    {
     "data": {
      "text/plain": [
       "<Axes: xlabel='Antall treninger', ylabel='Count'>"
      ]
     },
     "execution_count": 36,
     "metadata": {},
     "output_type": "execute_result"
    },
    {
     "data": {
      "image/png": "[encoded data removed]",
      "text/plain": [
       "<Figure size 640x480 with 1 Axes>"
      ]
     },
     "metadata": {},
     "output_type": "display_data"
    }
   ],
   "source": [
    "antall_treninger_deltaker = df.filter(pl.col('Avlyst trening')=='Nei').group_by('Navn','Måned').agg(pl.col('Dato').n_unique().alias('Antall treninger'))\n",
    "\n",
    "fig, ax = plt.subplots()\n",
    "sns.histplot(data = antall_treninger_deltaker.to_pandas(),x='Antall treninger',ax = ax)\n",
    "\n",
    "# Roter x-labels\n",
    "#ax.tick_params(axis='x', rotation=50)\n",
    "#ax.set_ylabel(\"\")\n",
    "#ax.yaxis.set_major_locator(MaxNLocator(integer=True))\n",
    "#ax.set_title('Antall treninger per måned')"
   ]
  },
  {
   "cell_type": "code",
   "execution_count": 30,
   "metadata": {},
   "outputs": [
    {
     "data": {
      "text/html": [
       "<div><style>\n",
       ".dataframe > thead > tr,\n",
       ".dataframe > tbody > tr {\n",
       "  text-align: right;\n",
       "  white-space: pre-wrap;\n",
       "}\n",
       "</style>\n",
       "<small>shape: (2, 3)</small><table border=\"1\" class=\"dataframe\"><thead><tr><th>Måned</th><th>variable</th><th>value</th></tr><tr><td>str</td><td>str</td><td>u32</td></tr></thead><tbody><tr><td>&quot;April&quot;</td><td>&quot;Antall avlyste treninger&quot;</td><td>3</td></tr><tr><td>&quot;April&quot;</td><td>&quot;Antall treninger&quot;</td><td>3</td></tr></tbody></table></div>"
      ],
      "text/plain": [
       "shape: (2, 3)\n",
       "┌───────┬──────────────────────────┬───────┐\n",
       "│ Måned ┆ variable                 ┆ value │\n",
       "│ ---   ┆ ---                      ┆ ---   │\n",
       "│ str   ┆ str                      ┆ u32   │\n",
       "╞═══════╪══════════════════════════╪═══════╡\n",
       "│ April ┆ Antall avlyste treninger ┆ 3     │\n",
       "│ April ┆ Antall treninger         ┆ 3     │\n",
       "└───────┴──────────────────────────┴───────┘"
      ]
     },
     "execution_count": 30,
     "metadata": {},
     "output_type": "execute_result"
    }
   ],
   "source": [
    "antall_treninger.filter(pl.col('Måned')=='April')"
   ]
  },
  {
   "cell_type": "code",
   "execution_count": 6,
   "metadata": {},
   "outputs": [
    {
     "data": {
      "text/html": [
       "<div><style>\n",
       ".dataframe > thead > tr,\n",
       ".dataframe > tbody > tr {\n",
       "  text-align: right;\n",
       "  white-space: pre-wrap;\n",
       "}\n",
       "</style>\n",
       "<small>shape: (30, 3)</small><table border=\"1\" class=\"dataframe\"><thead><tr><th>Navn</th><th>Antall treninger</th><th>Andel treninger</th></tr><tr><td>str</td><td>u32</td><td>f64</td></tr></thead><tbody><tr><td>&quot;Håkon Halvorsen&quot;</td><td>1</td><td>0.5</td></tr><tr><td>&quot;Magnus Alexander Gjerde Bevan&quot;</td><td>2</td><td>0.5</td></tr><tr><td>&quot;Ahmed Abusaada&quot;</td><td>4</td><td>0.8</td></tr><tr><td>&quot;Markus Bjånesøy&quot;</td><td>4</td><td>0.210526</td></tr><tr><td>&quot;Helge Håvås&quot;</td><td>5</td><td>0.833333</td></tr><tr><td>&hellip;</td><td>&hellip;</td><td>&hellip;</td></tr><tr><td>&quot;Adrian S.Larsen&quot;</td><td>2</td><td>0.5</td></tr><tr><td>&quot;Magnus Jensen&quot;</td><td>0</td><td>0.0</td></tr><tr><td>&quot;Sondre Foldenes Gangdal&quot;</td><td>0</td><td>0.0</td></tr><tr><td>&quot;Joakim Rasdal&quot;</td><td>1</td><td>0.142857</td></tr><tr><td>&quot;Ruben André M. Njøtøy&quot;</td><td>9</td><td>0.310345</td></tr></tbody></table></div>"
      ],
      "text/plain": [
       "shape: (30, 3)\n",
       "┌───────────────────────────────┬──────────────────┬─────────────────┐\n",
       "│ Navn                          ┆ Antall treninger ┆ Andel treninger │\n",
       "│ ---                           ┆ ---              ┆ ---             │\n",
       "│ str                           ┆ u32              ┆ f64             │\n",
       "╞═══════════════════════════════╪══════════════════╪═════════════════╡\n",
       "│ Håkon Halvorsen               ┆ 1                ┆ 0.5             │\n",
       "│ Magnus Alexander Gjerde Bevan ┆ 2                ┆ 0.5             │\n",
       "│ Ahmed Abusaada                ┆ 4                ┆ 0.8             │\n",
       "│ Markus Bjånesøy               ┆ 4                ┆ 0.210526        │\n",
       "│ Helge Håvås                   ┆ 5                ┆ 0.833333        │\n",
       "│ …                             ┆ …                ┆ …               │\n",
       "│ Adrian S.Larsen               ┆ 2                ┆ 0.5             │\n",
       "│ Magnus Jensen                 ┆ 0                ┆ 0.0             │\n",
       "│ Sondre Foldenes Gangdal       ┆ 0                ┆ 0.0             │\n",
       "│ Joakim Rasdal                 ┆ 1                ┆ 0.142857        │\n",
       "│ Ruben André M. Njøtøy         ┆ 9                ┆ 0.310345        │\n",
       "└───────────────────────────────┴──────────────────┴─────────────────┘"
      ]
     },
     "execution_count": 6,
     "metadata": {},
     "output_type": "execute_result"
    }
   ],
   "source": [
    "(df\n",
    ".group_by('Navn')\n",
    ".agg(\n",
    "     pl.col('Dato').filter(pl.col('Deltok')=='Ja').n_unique().alias('Antall treninger'),\n",
    "     pl.col('Dato')\n",
    "     .filter(pl.col('Deltok')=='Ja')\n",
    "     .n_unique()\n",
    "     .truediv(pl.col('Dato').n_unique())\n",
    "     .alias('Andel treninger'))\n",
    "#.sort(by = ['Antall treninger'])\n",
    ")"
   ]
  },
  {
   "cell_type": "code",
   "execution_count": 18,
   "metadata": {},
   "outputs": [
    {
     "data": {
      "text/html": [
       "<div><style>\n",
       ".dataframe > thead > tr,\n",
       ".dataframe > tbody > tr {\n",
       "  text-align: right;\n",
       "  white-space: pre-wrap;\n",
       "}\n",
       "</style>\n",
       "<small>shape: (399, 8)</small><table border=\"1\" class=\"dataframe\"><thead><tr><th>Dato</th><th>Navn</th><th>Deltok</th><th>Avlyst trening</th><th>År</th><th>Måned</th><th>Dag</th><th>Måned nr</th></tr><tr><td>date</td><td>str</td><td>str</td><td>str</td><td>str</td><td>str</td><td>i64</td><td>i64</td></tr></thead><tbody><tr><td>2024-02-17</td><td>&quot;Adrian S.Larsen&quot;</td><td>&quot;Ja&quot;</td><td>&quot;Nei&quot;</td><td>&quot;2024&quot;</td><td>&quot;Februar&quot;</td><td>17</td><td>2</td></tr><tr><td>2024-02-24</td><td>&quot;Adrian S.Larsen&quot;</td><td>&quot;Ja&quot;</td><td>&quot;Nei&quot;</td><td>&quot;2024&quot;</td><td>&quot;Februar&quot;</td><td>24</td><td>2</td></tr><tr><td>2024-03-02</td><td>&quot;Adrian S.Larsen&quot;</td><td>&quot;Nei&quot;</td><td>&quot;Ja&quot;</td><td>&quot;2024&quot;</td><td>&quot;Mars&quot;</td><td>2</td><td>3</td></tr><tr><td>2024-03-08</td><td>&quot;Adrian S.Larsen&quot;</td><td>&quot;Nei&quot;</td><td>&quot;Nei&quot;</td><td>&quot;2024&quot;</td><td>&quot;Mars&quot;</td><td>8</td><td>3</td></tr><tr><td>2024-07-28</td><td>&quot;Adrian Torvund&quot;</td><td>&quot;Ja&quot;</td><td>&quot;Nei&quot;</td><td>&quot;2024&quot;</td><td>&quot;Juli&quot;</td><td>28</td><td>7</td></tr><tr><td>&hellip;</td><td>&hellip;</td><td>&hellip;</td><td>&hellip;</td><td>&hellip;</td><td>&hellip;</td><td>&hellip;</td><td>&hellip;</td></tr><tr><td>2024-10-02</td><td>&quot;Yafee Ishraq&quot;</td><td>&quot;Ja&quot;</td><td>&quot;Ja&quot;</td><td>&quot;2024&quot;</td><td>&quot;Oktober&quot;</td><td>2</td><td>10</td></tr><tr><td>2024-10-08</td><td>&quot;Yafee Ishraq&quot;</td><td>&quot;Ja&quot;</td><td>&quot;Ja&quot;</td><td>&quot;2024&quot;</td><td>&quot;Oktober&quot;</td><td>8</td><td>10</td></tr><tr><td>2024-10-30</td><td>&quot;Yafee Ishraq&quot;</td><td>&quot;Ja&quot;</td><td>&quot;Nei&quot;</td><td>&quot;2024&quot;</td><td>&quot;Oktober&quot;</td><td>30</td><td>10</td></tr><tr><td>2024-11-04</td><td>&quot;Yafee Ishraq&quot;</td><td>&quot;Ja&quot;</td><td>&quot;Ja&quot;</td><td>&quot;2024&quot;</td><td>&quot;November&quot;</td><td>4</td><td>11</td></tr><tr><td>2024-11-12</td><td>&quot;Yafee Ishraq&quot;</td><td>&quot;Ja&quot;</td><td>&quot;Ja&quot;</td><td>&quot;2024&quot;</td><td>&quot;November&quot;</td><td>12</td><td>11</td></tr></tbody></table></div>"
      ],
      "text/plain": [
       "shape: (399, 8)\n",
       "┌────────────┬─────────────────┬────────┬────────────────┬──────┬──────────┬─────┬──────────┐\n",
       "│ Dato       ┆ Navn            ┆ Deltok ┆ Avlyst trening ┆ År   ┆ Måned    ┆ Dag ┆ Måned nr │\n",
       "│ ---        ┆ ---             ┆ ---    ┆ ---            ┆ ---  ┆ ---      ┆ --- ┆ ---      │\n",
       "│ date       ┆ str             ┆ str    ┆ str            ┆ str  ┆ str      ┆ i64 ┆ i64      │\n",
       "╞════════════╪═════════════════╪════════╪════════════════╪══════╪══════════╪═════╪══════════╡\n",
       "│ 2024-02-17 ┆ Adrian S.Larsen ┆ Ja     ┆ Nei            ┆ 2024 ┆ Februar  ┆ 17  ┆ 2        │\n",
       "│ 2024-02-24 ┆ Adrian S.Larsen ┆ Ja     ┆ Nei            ┆ 2024 ┆ Februar  ┆ 24  ┆ 2        │\n",
       "│ 2024-03-02 ┆ Adrian S.Larsen ┆ Nei    ┆ Ja             ┆ 2024 ┆ Mars     ┆ 2   ┆ 3        │\n",
       "│ 2024-03-08 ┆ Adrian S.Larsen ┆ Nei    ┆ Nei            ┆ 2024 ┆ Mars     ┆ 8   ┆ 3        │\n",
       "│ 2024-07-28 ┆ Adrian Torvund  ┆ Ja     ┆ Nei            ┆ 2024 ┆ Juli     ┆ 28  ┆ 7        │\n",
       "│ …          ┆ …               ┆ …      ┆ …              ┆ …    ┆ …        ┆ …   ┆ …        │\n",
       "│ 2024-10-02 ┆ Yafee Ishraq    ┆ Ja     ┆ Ja             ┆ 2024 ┆ Oktober  ┆ 2   ┆ 10       │\n",
       "│ 2024-10-08 ┆ Yafee Ishraq    ┆ Ja     ┆ Ja             ┆ 2024 ┆ Oktober  ┆ 8   ┆ 10       │\n",
       "│ 2024-10-30 ┆ Yafee Ishraq    ┆ Ja     ┆ Nei            ┆ 2024 ┆ Oktober  ┆ 30  ┆ 10       │\n",
       "│ 2024-11-04 ┆ Yafee Ishraq    ┆ Ja     ┆ Ja             ┆ 2024 ┆ November ┆ 4   ┆ 11       │\n",
       "│ 2024-11-12 ┆ Yafee Ishraq    ┆ Ja     ┆ Ja             ┆ 2024 ┆ November ┆ 12  ┆ 11       │\n",
       "└────────────┴─────────────────┴────────┴────────────────┴──────┴──────────┴─────┴──────────┘"
      ]
     },
     "execution_count": 18,
     "metadata": {},
     "output_type": "execute_result"
    }
   ],
   "source": [
    "df.sort(by = ['Navn', 'Dato'])"
   ]
  },
  {
   "cell_type": "markdown",
   "metadata": {},
   "source": [
    "Databearbehandling"
   ]
  },
  {
   "cell_type": "code",
   "execution_count": null,
   "metadata": {},
   "outputs": [
    {
     "data": {
      "text/html": [
       "<div><style>\n",
       ".dataframe > thead > tr,\n",
       ".dataframe > tbody > tr {\n",
       "  text-align: right;\n",
       "  white-space: pre-wrap;\n",
       "}\n",
       "</style>\n",
       "<small>shape: (4, 8)</small><table border=\"1\" class=\"dataframe\"><thead><tr><th>Dato</th><th>Navn</th><th>Deltok</th><th>Avlyst trening</th><th>År</th><th>Måned</th><th>Dag</th><th>Måned nr</th></tr><tr><td>date</td><td>str</td><td>str</td><td>str</td><td>str</td><td>str</td><td>i64</td><td>i64</td></tr></thead><tbody><tr><td>2024-02-17</td><td>&quot;Adrian S.Larsen&quot;</td><td>&quot;Ja&quot;</td><td>&quot;Nei&quot;</td><td>&quot;2024&quot;</td><td>&quot;Februar&quot;</td><td>17</td><td>2</td></tr><tr><td>2024-02-24</td><td>&quot;Adrian S.Larsen&quot;</td><td>&quot;Ja&quot;</td><td>&quot;Nei&quot;</td><td>&quot;2024&quot;</td><td>&quot;Februar&quot;</td><td>24</td><td>2</td></tr><tr><td>2024-03-02</td><td>&quot;Adrian S.Larsen&quot;</td><td>&quot;Nei&quot;</td><td>&quot;Ja&quot;</td><td>&quot;2024&quot;</td><td>&quot;Mars&quot;</td><td>2</td><td>3</td></tr><tr><td>2024-03-08</td><td>&quot;Adrian S.Larsen&quot;</td><td>&quot;Nei&quot;</td><td>&quot;Nei&quot;</td><td>&quot;2024&quot;</td><td>&quot;Mars&quot;</td><td>8</td><td>3</td></tr></tbody></table></div>"
      ],
      "text/plain": [
       "shape: (4, 8)\n",
       "┌────────────┬─────────────────┬────────┬────────────────┬──────┬─────────┬─────┬──────────┐\n",
       "│ Dato       ┆ Navn            ┆ Deltok ┆ Avlyst trening ┆ År   ┆ Måned   ┆ Dag ┆ Måned nr │\n",
       "│ ---        ┆ ---             ┆ ---    ┆ ---            ┆ ---  ┆ ---     ┆ --- ┆ ---      │\n",
       "│ date       ┆ str             ┆ str    ┆ str            ┆ str  ┆ str     ┆ i64 ┆ i64      │\n",
       "╞════════════╪═════════════════╪════════╪════════════════╪══════╪═════════╪═════╪══════════╡\n",
       "│ 2024-02-17 ┆ Adrian S.Larsen ┆ Ja     ┆ Nei            ┆ 2024 ┆ Februar ┆ 17  ┆ 2        │\n",
       "│ 2024-02-24 ┆ Adrian S.Larsen ┆ Ja     ┆ Nei            ┆ 2024 ┆ Februar ┆ 24  ┆ 2        │\n",
       "│ 2024-03-02 ┆ Adrian S.Larsen ┆ Nei    ┆ Ja             ┆ 2024 ┆ Mars    ┆ 2   ┆ 3        │\n",
       "│ 2024-03-08 ┆ Adrian S.Larsen ┆ Nei    ┆ Nei            ┆ 2024 ┆ Mars    ┆ 8   ┆ 3        │\n",
       "└────────────┴─────────────────┴────────┴────────────────┴──────┴─────────┴─────┴──────────┘"
      ]
     },
     "execution_count": 7,
     "metadata": {},
     "output_type": "execute_result"
    }
   ],
   "source": [
    "df.filter(pl.col('Navn')==\"Adrian S.Larsen\")"
   ]
  },
  {
   "cell_type": "code",
   "execution_count": null,
   "metadata": {},
   "outputs": [
    {
     "data": {
      "text/html": [
       "<div><style>\n",
       ".dataframe > thead > tr,\n",
       ".dataframe > tbody > tr {\n",
       "  text-align: right;\n",
       "  white-space: pre-wrap;\n",
       "}\n",
       "</style>\n",
       "<small>shape: (19, 2)</small><table border=\"1\" class=\"dataframe\"><thead><tr><th>Navn</th><th>Antall treninger</th></tr><tr><td>str</td><td>u32</td></tr></thead><tbody><tr><td>&quot;Kristoffer Fauskanger&quot;</td><td>10</td></tr><tr><td>&quot;Carlos Tveit&quot;</td><td>9</td></tr><tr><td>&quot;Jørgen Vassenden&quot;</td><td>9</td></tr><tr><td>&quot;Sindre Jakobsen&quot;</td><td>9</td></tr><tr><td>&quot;Sindre Haukefer Hauan&quot;</td><td>9</td></tr><tr><td>&hellip;</td><td>&hellip;</td></tr><tr><td>&quot;Thomas Thorbjørnsen&quot;</td><td>2</td></tr><tr><td>&quot;Adrian S.Larsen&quot;</td><td>2</td></tr><tr><td>&quot;Håkon Halvorsen&quot;</td><td>1</td></tr><tr><td>&quot;Thomas Syversen&quot;</td><td>1</td></tr><tr><td>&quot;Markus Bjånesøy&quot;</td><td>1</td></tr></tbody></table></div>"
      ],
      "text/plain": [
       "shape: (19, 2)\n",
       "┌───────────────────────┬──────────────────┐\n",
       "│ Navn                  ┆ Antall treninger │\n",
       "│ ---                   ┆ ---              │\n",
       "│ str                   ┆ u32              │\n",
       "╞═══════════════════════╪══════════════════╡\n",
       "│ Kristoffer Fauskanger ┆ 10               │\n",
       "│ Carlos Tveit          ┆ 9                │\n",
       "│ Jørgen Vassenden      ┆ 9                │\n",
       "│ Sindre Jakobsen       ┆ 9                │\n",
       "│ Sindre Haukefer Hauan ┆ 9                │\n",
       "│ …                     ┆ …                │\n",
       "│ Thomas Thorbjørnsen   ┆ 2                │\n",
       "│ Adrian S.Larsen       ┆ 2                │\n",
       "│ Håkon Halvorsen       ┆ 1                │\n",
       "│ Thomas Syversen       ┆ 1                │\n",
       "│ Markus Bjånesøy       ┆ 1                │\n",
       "└───────────────────────┴──────────────────┘"
      ]
     },
     "execution_count": 8,
     "metadata": {},
     "output_type": "execute_result"
    }
   ],
   "source": [
    "(df\n",
    ".filter(pl.col('Avlyst trening')=='Nei',\n",
    "        pl.col('Deltok')=='Ja')\n",
    ".group_by('Navn')\n",
    ".agg(pl.col('Dato').n_unique().alias('Antall treninger'))\n",
    ".sort(by = ['Antall treninger'],descending=True)\n",
    ")"
   ]
  },
  {
   "cell_type": "code",
   "execution_count": null,
   "metadata": {},
   "outputs": [
    {
     "data": {
      "text/html": [
       "<div><style>\n",
       ".dataframe > thead > tr,\n",
       ".dataframe > tbody > tr {\n",
       "  text-align: right;\n",
       "  white-space: pre-wrap;\n",
       "}\n",
       "</style>\n",
       "<small>shape: (425, 3)</small><table border=\"1\" class=\"dataframe\"><thead><tr><th>kombi</th><th>Antall treninger</th><th>Kombinasjon</th></tr><tr><td>list[str]</td><td>u32</td><td>str</td></tr></thead><tbody><tr><td>[&quot;Kristoffer Fauskanger&quot;, &quot;Sindre Haukefer Hauan&quot;, &quot;Sindre Jakobsen&quot;]</td><td>8</td><td>&quot;Kristoffer Fauskanger,Sindre H…</td></tr><tr><td>[&quot;Jørgen Vassenden&quot;, &quot;Sindre Haukefer Hauan&quot;, &quot;Sindre Jakobsen&quot;]</td><td>7</td><td>&quot;Jørgen Vassenden,Sindre Haukef…</td></tr><tr><td>[&quot;Carlos Tveit&quot;, &quot;Kristoffer Fauskanger&quot;, &quot;Sindre Jakobsen&quot;]</td><td>7</td><td>&quot;Carlos Tveit,Kristoffer Fauska…</td></tr><tr><td>[&quot;Jørgen Vassenden&quot;, &quot;Kristoffer Fauskanger&quot;, &quot;Sindre Jakobsen&quot;]</td><td>7</td><td>&quot;Jørgen Vassenden,Kristoffer Fa…</td></tr><tr><td>[&quot;Jørgen Vassenden&quot;, &quot;Kristoffer Fauskanger&quot;, &quot;Sindre Haukefer Hauan&quot;]</td><td>7</td><td>&quot;Jørgen Vassenden,Kristoffer Fa…</td></tr><tr><td>&hellip;</td><td>&hellip;</td><td>&hellip;</td></tr><tr><td>[&quot;Magnus Alexander Gjerde Bevan&quot;, &quot;Sindre Jakobsen&quot;, &quot;Stian Nyheim&quot;]</td><td>1</td><td>&quot;Magnus Alexander Gjerde Bevan,…</td></tr><tr><td>[&quot;Carlos Tveit&quot;, &quot;Jørgen Vassenden&quot;, &quot;Thomas Thorbjørnsen&quot;]</td><td>1</td><td>&quot;Carlos Tveit,Jørgen Vassenden,…</td></tr><tr><td>[&quot;Jørgen Vassenden&quot;, &quot;Stian Nyheim&quot;, &quot;Thomas Syversen&quot;]</td><td>1</td><td>&quot;Jørgen Vassenden,Stian Nyheim,…</td></tr><tr><td>[&quot;Bjørn Nilsen&quot;, &quot;Ruben André M. Njøtøy&quot;, &quot;Sindre Jakobsen&quot;]</td><td>1</td><td>&quot;Bjørn Nilsen,Ruben André M. Nj…</td></tr><tr><td>[&quot;Bjørn Nilsen&quot;, &quot;Kristoffer Fauskanger&quot;, &quot;Thomas Thorbjørnsen&quot;]</td><td>1</td><td>&quot;Bjørn Nilsen,Kristoffer Fauska…</td></tr></tbody></table></div>"
      ],
      "text/plain": [
       "shape: (425, 3)\n",
       "┌─────────────────────────────────┬──────────────────┬─────────────────────────────────┐\n",
       "│ kombi                           ┆ Antall treninger ┆ Kombinasjon                     │\n",
       "│ ---                             ┆ ---              ┆ ---                             │\n",
       "│ list[str]                       ┆ u32              ┆ str                             │\n",
       "╞═════════════════════════════════╪══════════════════╪═════════════════════════════════╡\n",
       "│ [\"Kristoffer Fauskanger\", \"Sin… ┆ 8                ┆ Kristoffer Fauskanger,Sindre H… │\n",
       "│ [\"Jørgen Vassenden\", \"Sindre H… ┆ 7                ┆ Jørgen Vassenden,Sindre Haukef… │\n",
       "│ [\"Carlos Tveit\", \"Kristoffer F… ┆ 7                ┆ Carlos Tveit,Kristoffer Fauska… │\n",
       "│ [\"Jørgen Vassenden\", \"Kristoff… ┆ 7                ┆ Jørgen Vassenden,Kristoffer Fa… │\n",
       "│ [\"Jørgen Vassenden\", \"Kristoff… ┆ 7                ┆ Jørgen Vassenden,Kristoffer Fa… │\n",
       "│ …                               ┆ …                ┆ …                               │\n",
       "│ [\"Magnus Alexander Gjerde Beva… ┆ 1                ┆ Magnus Alexander Gjerde Bevan,… │\n",
       "│ [\"Carlos Tveit\", \"Jørgen Vasse… ┆ 1                ┆ Carlos Tveit,Jørgen Vassenden,… │\n",
       "│ [\"Jørgen Vassenden\", \"Stian Ny… ┆ 1                ┆ Jørgen Vassenden,Stian Nyheim,… │\n",
       "│ [\"Bjørn Nilsen\", \"Ruben André … ┆ 1                ┆ Bjørn Nilsen,Ruben André M. Nj… │\n",
       "│ [\"Bjørn Nilsen\", \"Kristoffer F… ┆ 1                ┆ Bjørn Nilsen,Kristoffer Fauska… │\n",
       "└─────────────────────────────────┴──────────────────┴─────────────────────────────────┘"
      ]
     },
     "execution_count": 6,
     "metadata": {},
     "output_type": "execute_result"
    }
   ],
   "source": [
    "(df\n",
    ".filter(pl.col('Avlyst trening')=='Nei',\n",
    "        pl.col('Deltok')=='Ja')\n",
    ".select('Dato','Navn')\n",
    ".unique()\n",
    ".group_by('Dato')\n",
    ".agg(pl.col('Navn').alias('navn_1'),\n",
    "     pl.col('Navn').alias('navn_2'),\n",
    "     pl.col('Navn').alias('navn_3')\n",
    ")\n",
    "\n",
    "# Finner 3 kombinasjoner\n",
    ".explode('navn_1')\n",
    ".explode('navn_2')\n",
    ".explode('navn_3')\n",
    "\n",
    "# Skal samle alle navnene i en liste for å telle unike navn. Skal fjerne lister som har kun ett navn        \n",
    ".with_columns(pl.concat_str(['navn_1', 'navn_2', 'navn_3'], separator=',').str.split(\",\").alias('kombi'))\n",
    "\n",
    "# Sorterer liste\n",
    ".with_columns(pl.col('kombi').list.sort())\n",
    "\n",
    "# Filtrerer på lister som har 3 unike navn (etter at duplikater er fjernet)\n",
    ".filter(pl.col('kombi').lbist.unique().list.n_unique()==3)\n",
    ".group_by('kombi')\n",
    ".agg(pl.col('Dato').n_unique().alias('Antall treninger'))\n",
    ".sort(by = ['Antall treninger'],descending=True)\n",
    ".with_columns(pl.col('kombi').list.join(\",\").alias('Kombinasjon'))\n",
    ")"
   ]
  },
  {
   "cell_type": "code",
   "execution_count": null,
   "metadata": {},
   "outputs": [],
   "source": [
    "\n",
    "\n",
    "# Funksjon for å få statistikk på kombinasjoner. Dersom antall_kombinasjon er lik 3 betyr det at vi er interessert i tripplett\n",
    "def kombi_statistikk(antall_kombinasjon):\n",
    "\n",
    " # Lager antall navn expr\n",
    " navn_init =[f'navn_{i+1}' for i in range(antall_kombinasjon)]\n",
    " navn_expr = [pl.col('Navn').alias(f'navn_{i+1}') for i in range(antall_kombinasjon)]\n",
    " \n",
    " # Initialiserer datasett\n",
    " df_init = (df\n",
    " .filter(pl.col('Avlyst trening')=='Nei',\n",
    "         pl.col('Deltok')=='Ja')\n",
    " .select('Dato','Navn')\n",
    " .unique()\n",
    " .group_by('Dato')\n",
    " .agg(*navn_expr)\n",
    " )\n",
    " \n",
    " # Exploder df for å finne alle kombinasjoner \n",
    " for i in range(antall_kombinasjon):\n",
    "    df_init = df_init.explode(navn_init[i])\n",
    " \n",
    " # Fjerner duplikater \n",
    " df_kombi = (\n",
    " \n",
    " df_init\n",
    " \n",
    " # Skal samle alle navnene i en liste for å telle unike navn. Skal fjerne lister som har kun ett navn        \n",
    " .with_columns(pl.concat_str(*navn_init, separator=',').str.split(\",\").alias('kombi'))\n",
    " \n",
    " # Sorterer liste\n",
    " .with_columns(pl.col('kombi').list.sort())\n",
    " \n",
    " # Filtrerer på lister som har x antall unike navn (etter at duplikater er fjernet)\n",
    " .filter(pl.col('kombi').list.unique().list.n_unique()==antall_kombinasjon)\n",
    " .group_by('kombi')\n",
    " .agg(pl.col('Dato').n_unique().alias('Antall treninger'))\n",
    " .sort(by = ['Antall treninger'],descending=True)\n",
    " .with_columns(pl.col('kombi').list.join(\",\").alias('Kombinasjon'))\n",
    " .select('Kombinasjon','Antall treninger')\n",
    " \n",
    " )\n",
    "\n",
    " return df_kombi\n",
    "\n"
   ]
  },
  {
   "cell_type": "code",
   "execution_count": null,
   "metadata": {},
   "outputs": [],
   "source": [
    "df_kombi = kombi_statistikk(3)"
   ]
  },
  {
   "cell_type": "code",
   "execution_count": null,
   "metadata": {},
   "outputs": [
    {
     "data": {
      "text/html": [
       "<div><style>\n",
       ".dataframe > thead > tr,\n",
       ".dataframe > tbody > tr {\n",
       "  text-align: right;\n",
       "  white-space: pre-wrap;\n",
       "}\n",
       "</style>\n",
       "<small>shape: (92, 2)</small><table border=\"1\" class=\"dataframe\"><thead><tr><th>Kombinasjon</th><th>Antall treninger</th></tr><tr><td>str</td><td>u32</td></tr></thead><tbody><tr><td>&quot;Erlend Haukefer Hauan,Kristoff…</td><td>6</td></tr><tr><td>&quot;Carlos Tveit,Erlend Haukefer H…</td><td>5</td></tr><tr><td>&quot;Erlend Haukefer Hauan,Kristoff…</td><td>5</td></tr><tr><td>&quot;Erlend Haukefer Hauan,Sindre H…</td><td>5</td></tr><tr><td>&quot;Carlos Tveit,Erlend Haukefer H…</td><td>5</td></tr><tr><td>&hellip;</td><td>&hellip;</td></tr><tr><td>&quot;Carlos Tveit,Erlend Haukefer H…</td><td>1</td></tr><tr><td>&quot;Bjørn Hisdal,Erlend Haukefer H…</td><td>1</td></tr><tr><td>&quot;Erlend Haukefer Hauan,Sindre H…</td><td>1</td></tr><tr><td>&quot;Erlend Haukefer Hauan,Jørgen V…</td><td>1</td></tr><tr><td>&quot;Erlend Haukefer Hauan,Helge Hå…</td><td>1</td></tr></tbody></table></div>"
      ],
      "text/plain": [
       "shape: (92, 2)\n",
       "┌─────────────────────────────────┬──────────────────┐\n",
       "│ Kombinasjon                     ┆ Antall treninger │\n",
       "│ ---                             ┆ ---              │\n",
       "│ str                             ┆ u32              │\n",
       "╞═════════════════════════════════╪══════════════════╡\n",
       "│ Erlend Haukefer Hauan,Kristoff… ┆ 6                │\n",
       "│ Carlos Tveit,Erlend Haukefer H… ┆ 5                │\n",
       "│ Erlend Haukefer Hauan,Kristoff… ┆ 5                │\n",
       "│ Erlend Haukefer Hauan,Sindre H… ┆ 5                │\n",
       "│ Carlos Tveit,Erlend Haukefer H… ┆ 5                │\n",
       "│ …                               ┆ …                │\n",
       "│ Carlos Tveit,Erlend Haukefer H… ┆ 1                │\n",
       "│ Bjørn Hisdal,Erlend Haukefer H… ┆ 1                │\n",
       "│ Erlend Haukefer Hauan,Sindre H… ┆ 1                │\n",
       "│ Erlend Haukefer Hauan,Jørgen V… ┆ 1                │\n",
       "│ Erlend Haukefer Hauan,Helge Hå… ┆ 1                │\n",
       "└─────────────────────────────────┴──────────────────┘"
      ]
     },
     "execution_count": 70,
     "metadata": {},
     "output_type": "execute_result"
    }
   ],
   "source": [
    "df_kombi.filter(pl.col('Kombinasjon').str.contains('Erlend Haukefer Hauan'))"
   ]
  },
  {
   "cell_type": "code",
   "execution_count": 170,
   "metadata": {},
   "outputs": [
    {
     "data": {
      "text/html": [
       "<div><style>\n",
       ".dataframe > thead > tr,\n",
       ".dataframe > tbody > tr {\n",
       "  text-align: right;\n",
       "  white-space: pre-wrap;\n",
       "}\n",
       "</style>\n",
       "<small>shape: (36, 2)</small><table border=\"1\" class=\"dataframe\"><thead><tr><th>Dato</th><th>Navn</th></tr><tr><td>date</td><td>u32</td></tr></thead><tbody><tr><td>2024-04-14</td><td>9</td></tr><tr><td>2024-07-25</td><td>0</td></tr><tr><td>2024-10-30</td><td>9</td></tr><tr><td>2024-08-31</td><td>7</td></tr><tr><td>2024-08-25</td><td>8</td></tr><tr><td>&hellip;</td><td>&hellip;</td></tr><tr><td>2024-03-08</td><td>6</td></tr><tr><td>2024-03-17</td><td>9</td></tr><tr><td>2024-02-24</td><td>12</td></tr><tr><td>2024-04-28</td><td>9</td></tr><tr><td>2024-02-17</td><td>7</td></tr></tbody></table></div>"
      ],
      "text/plain": [
       "shape: (36, 2)\n",
       "┌────────────┬──────┐\n",
       "│ Dato       ┆ Navn │\n",
       "│ ---        ┆ ---  │\n",
       "│ date       ┆ u32  │\n",
       "╞════════════╪══════╡\n",
       "│ 2024-04-14 ┆ 9    │\n",
       "│ 2024-07-25 ┆ 0    │\n",
       "│ 2024-10-30 ┆ 9    │\n",
       "│ 2024-08-31 ┆ 7    │\n",
       "│ 2024-08-25 ┆ 8    │\n",
       "│ …          ┆ …    │\n",
       "│ 2024-03-08 ┆ 6    │\n",
       "│ 2024-03-17 ┆ 9    │\n",
       "│ 2024-02-24 ┆ 12   │\n",
       "│ 2024-04-28 ┆ 9    │\n",
       "│ 2024-02-17 ┆ 7    │\n",
       "└────────────┴──────┘"
      ]
     },
     "execution_count": 170,
     "metadata": {},
     "output_type": "execute_result"
    }
   ],
   "source": [
    "df.group_by('Dato').agg(pl.col('Navn').filter(pl.col('Deltok')=='Ja').n_unique())"
   ]
  },
  {
   "cell_type": "code",
   "execution_count": 12,
   "metadata": {},
   "outputs": [
    {
     "data": {
      "text/html": [
       "<div><style>\n",
       ".dataframe > thead > tr,\n",
       ".dataframe > tbody > tr {\n",
       "  text-align: right;\n",
       "  white-space: pre-wrap;\n",
       "}\n",
       "</style>\n",
       "<small>shape: (5, 14)</small><table border=\"1\" class=\"dataframe\"><thead><tr><th>dato</th><th>navn</th><th>deltok</th><th>avlyst_trening</th><th>treningsdato</th><th>år</th><th>måned</th><th>dag</th><th>måned_navn</th><th>årstid</th><th>deltok_bool</th><th>avlyst_bool</th><th>deltok_forrige_trening</th><th>deltok_to_ganger_siden_trening</th></tr><tr><td>date</td><td>str</td><td>str</td><td>str</td><td>date</td><td>i32</td><td>i8</td><td>i8</td><td>str</td><td>str</td><td>i8</td><td>i8</td><td>i8</td><td>i8</td></tr></thead><tbody><tr><td>2024-03-02</td><td>&quot;Adrian S.Larsen&quot;</td><td>&quot;Nei&quot;</td><td>&quot;Ja&quot;</td><td>2024-03-04</td><td>2024</td><td>3</td><td>1</td><td>&quot;Mars&quot;</td><td>&quot;vår&quot;</td><td>0</td><td>1</td><td>1</td><td>1</td></tr><tr><td>2024-03-08</td><td>&quot;Adrian S.Larsen&quot;</td><td>&quot;Nei&quot;</td><td>&quot;Nei&quot;</td><td>2024-03-11</td><td>2024</td><td>3</td><td>1</td><td>&quot;Mars&quot;</td><td>&quot;vår&quot;</td><td>0</td><td>0</td><td>0</td><td>1</td></tr><tr><td>2025-02-03</td><td>&quot;Adrian Torvund&quot;</td><td>&quot;Ja&quot;</td><td>&quot;Nei&quot;</td><td>2025-02-05</td><td>2025</td><td>2</td><td>3</td><td>&quot;Februar&quot;</td><td>&quot;vinter&quot;</td><td>1</td><td>0</td><td>1</td><td>1</td></tr><tr><td>2025-02-09</td><td>&quot;Adrian Torvund&quot;</td><td>&quot;Ja&quot;</td><td>&quot;Nei&quot;</td><td>2025-02-12</td><td>2025</td><td>2</td><td>3</td><td>&quot;Februar&quot;</td><td>&quot;vinter&quot;</td><td>1</td><td>0</td><td>1</td><td>1</td></tr><tr><td>2025-02-18</td><td>&quot;Adrian Torvund&quot;</td><td>&quot;Nei&quot;</td><td>&quot;Ja&quot;</td><td>2025-02-19</td><td>2025</td><td>2</td><td>3</td><td>&quot;Februar&quot;</td><td>&quot;vinter&quot;</td><td>0</td><td>1</td><td>1</td><td>1</td></tr></tbody></table></div>"
      ],
      "text/plain": [
       "shape: (5, 14)\n",
       "┌────────────┬────────────┬────────┬───────────┬───┬───────────┬───────────┬───────────┬───────────┐\n",
       "│ dato       ┆ navn       ┆ deltok ┆ avlyst_tr ┆ … ┆ deltok_bo ┆ avlyst_bo ┆ deltok_fo ┆ deltok_to │\n",
       "│ ---        ┆ ---        ┆ ---    ┆ ening     ┆   ┆ ol        ┆ ol        ┆ rrige_tre ┆ _ganger_s │\n",
       "│ date       ┆ str        ┆ str    ┆ ---       ┆   ┆ ---       ┆ ---       ┆ ning      ┆ iden_tren │\n",
       "│            ┆            ┆        ┆ str       ┆   ┆ i8        ┆ i8        ┆ ---       ┆ ing       │\n",
       "│            ┆            ┆        ┆           ┆   ┆           ┆           ┆ i8        ┆ ---       │\n",
       "│            ┆            ┆        ┆           ┆   ┆           ┆           ┆           ┆ i8        │\n",
       "╞════════════╪════════════╪════════╪═══════════╪═══╪═══════════╪═══════════╪═══════════╪═══════════╡\n",
       "│ 2024-03-02 ┆ Adrian     ┆ Nei    ┆ Ja        ┆ … ┆ 0         ┆ 1         ┆ 1         ┆ 1         │\n",
       "│            ┆ S.Larsen   ┆        ┆           ┆   ┆           ┆           ┆           ┆           │\n",
       "│ 2024-03-08 ┆ Adrian     ┆ Nei    ┆ Nei       ┆ … ┆ 0         ┆ 0         ┆ 0         ┆ 1         │\n",
       "│            ┆ S.Larsen   ┆        ┆           ┆   ┆           ┆           ┆           ┆           │\n",
       "│ 2025-02-03 ┆ Adrian     ┆ Ja     ┆ Nei       ┆ … ┆ 1         ┆ 0         ┆ 1         ┆ 1         │\n",
       "│            ┆ Torvund    ┆        ┆           ┆   ┆           ┆           ┆           ┆           │\n",
       "│ 2025-02-09 ┆ Adrian     ┆ Ja     ┆ Nei       ┆ … ┆ 1         ┆ 0         ┆ 1         ┆ 1         │\n",
       "│            ┆ Torvund    ┆        ┆           ┆   ┆           ┆           ┆           ┆           │\n",
       "│ 2025-02-18 ┆ Adrian     ┆ Nei    ┆ Ja        ┆ … ┆ 0         ┆ 1         ┆ 1         ┆ 1         │\n",
       "│            ┆ Torvund    ┆        ┆           ┆   ┆           ┆           ┆           ┆           │\n",
       "└────────────┴────────────┴────────┴───────────┴───┴───────────┴───────────┴───────────┴───────────┘"
      ]
     },
     "execution_count": 12,
     "metadata": {},
     "output_type": "execute_result"
    }
   ],
   "source": [
    "\n",
    "df = (df\n",
    ".with_columns(pl.col('Deltok').replace('Ja',\"1\").replace(\"Nei\",\"0\").cast(pl.Int8).alias('deltok_bool'),\n",
    "              pl.col('Avlyst trening').replace('Ja',\"1\").replace(\"Nei\",\"0\").cast(pl.Int8).alias('avlyst_bool'))\n",
    ".sort(by = ['Navn','Dato'],descending=False)\n",
    ")\n",
    "\n",
    "df_ml = (df\n",
    ".with_columns(pl.col('deltok_bool').shift(1).over('Navn').alias('deltok_forrige_trening'),\n",
    "              pl.col('deltok_bool').shift(2).over('Navn').alias('deltok_to_ganger_siden_trening'))\n",
    ".drop_nulls()\n",
    ")\n",
    "\n",
    "df_ml = (df_ml\n",
    ".select(pl.all().name.map(lambda x:x.lower()))\n",
    ".select(pl.all().name.map(lambda x:x.replace(\"-\",\" \")))\n",
    ".select(pl.all().name.map(lambda x:x.replace(\" \",\"_\")))\n",
    ")\n",
    "\n",
    "df_ml.head()"
   ]
  },
  {
   "cell_type": "code",
   "execution_count": 63,
   "metadata": {},
   "outputs": [],
   "source": [
    "df_ml = (df_ml\n",
    ".to_dummies('navn')\n",
    ".group_by('dato')\n",
    ".agg(pl.all().exclude('dato').max())\n",
    ")"
   ]
  }
 ],
 "metadata": {
  "kernelspec": {
   "display_name": "Python 3",
   "language": "python",
   "name": "python3"
  },
  "language_info": {
   "codemirror_mode": {
    "name": "ipython",
    "version": 3
   },
   "file_extension": ".py",
   "mimetype": "text/x-python",
   "name": "python",
   "nbconvert_exporter": "python",
   "pygments_lexer": "ipython3",
   "version": "3.11.2"
  }
 },
 "nbformat": 4,
 "nbformat_minor": 2
}
