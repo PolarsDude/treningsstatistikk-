{
 "cells": [
  {
   "cell_type": "code",
   "execution_count": 1,
   "metadata": {},
   "outputs": [
    {
     "name": "stderr",
     "output_type": "stream",
     "text": [
      "c:\\Users\\Yafee Ishraq\\AppData\\Local\\Programs\\Python\\Python311\\Lib\\site-packages\\matplotlib\\projections\\__init__.py:63: UserWarning: Unable to import Axes3D. This may be due to multiple versions of Matplotlib being installed (e.g. as a system package and as a pip package). As a result, the 3D projection is not available.\n",
      "  warnings.warn(\"Unable to import Axes3D. This may be due to multiple versions of \"\n"
     ]
    }
   ],
   "source": [
    "import polars as pl\n",
    "import polars_ds as pds\n",
    "import polars.selectors as cs\n",
    "import seaborn as sns\n",
    "from utils import prep,dato_mapping_pub_trening,datoformat_mapping\n",
    "import matplotlib.pyplot as plt\n",
    "from datetime import date\n"
   ]
  },
  {
   "cell_type": "markdown",
   "metadata": {},
   "source": [
    "# Les inn data "
   ]
  },
  {
   "cell_type": "code",
   "execution_count": 2,
   "metadata": {},
   "outputs": [
    {
     "data": {
      "text/html": [
       "<div><style>\n",
       ".dataframe > thead > tr,\n",
       ".dataframe > tbody > tr {\n",
       "  text-align: right;\n",
       "  white-space: pre-wrap;\n",
       "}\n",
       "</style>\n",
       "<small>shape: (5, 4)</small><table border=\"1\" class=\"dataframe\"><thead><tr><th>Dato</th><th>Navn</th><th>Deltok</th><th>Avlyst trening</th></tr><tr><td>i64</td><td>str</td><td>str</td><td>str</td></tr></thead><tbody><tr><td>20240106</td><td>&quot;Erlend Haukefer Hauan&quot;</td><td>&quot;Ja&quot;</td><td>&quot;Ja&quot;</td></tr><tr><td>20240106</td><td>&quot;Bakary Jang Konateh&quot;</td><td>&quot;Ja&quot;</td><td>&quot;Ja&quot;</td></tr><tr><td>20240106</td><td>&quot;Sindre Haukefer Hauan&quot;</td><td>&quot;Ja&quot;</td><td>&quot;Ja&quot;</td></tr><tr><td>20240204</td><td>&quot;Yafee Ishraq&quot;</td><td>&quot;Nei&quot;</td><td>&quot;Ja&quot;</td></tr><tr><td>20240204</td><td>&quot;Erlend Haukefer Hauan&quot;</td><td>&quot;Nei&quot;</td><td>&quot;Ja&quot;</td></tr></tbody></table></div>"
      ],
      "text/plain": [
       "shape: (5, 4)\n",
       "┌──────────┬───────────────────────┬────────┬────────────────┐\n",
       "│ Dato     ┆ Navn                  ┆ Deltok ┆ Avlyst trening │\n",
       "│ ---      ┆ ---                   ┆ ---    ┆ ---            │\n",
       "│ i64      ┆ str                   ┆ str    ┆ str            │\n",
       "╞══════════╪═══════════════════════╪════════╪════════════════╡\n",
       "│ 20240106 ┆ Erlend Haukefer Hauan ┆ Ja     ┆ Ja             │\n",
       "│ 20240106 ┆ Bakary Jang Konateh   ┆ Ja     ┆ Ja             │\n",
       "│ 20240106 ┆ Sindre Haukefer Hauan ┆ Ja     ┆ Ja             │\n",
       "│ 20240204 ┆ Yafee Ishraq          ┆ Nei    ┆ Ja             │\n",
       "│ 20240204 ┆ Erlend Haukefer Hauan ┆ Nei    ┆ Ja             │\n",
       "└──────────┴───────────────────────┴────────┴────────────────┘"
      ]
     },
     "execution_count": 2,
     "metadata": {},
     "output_type": "execute_result"
    }
   ],
   "source": [
    "df = pl.read_excel(\"treningsdata.xlsx\")\n",
    "df.head()\n"
   ]
  },
  {
   "cell_type": "code",
   "execution_count": 3,
   "metadata": {},
   "outputs": [
    {
     "data": {
      "text/html": [
       "<div><style>\n",
       ".dataframe > thead > tr,\n",
       ".dataframe > tbody > tr {\n",
       "  text-align: right;\n",
       "  white-space: pre-wrap;\n",
       "}\n",
       "</style>\n",
       "<small>shape: (10, 5)</small><table border=\"1\" class=\"dataframe\"><thead><tr><th>Dato</th><th>Navn</th><th>Deltok</th><th>Avlyst trening</th><th>Ny Dato</th></tr><tr><td>i64</td><td>str</td><td>str</td><td>str</td><td>date</td></tr></thead><tbody><tr><td>20240908</td><td>&quot;Carlos Tveit&quot;</td><td>&quot;Nei&quot;</td><td>&quot;Ja&quot;</td><td>2024-09-08</td></tr><tr><td>20240908</td><td>&quot;Stian Nyheim&quot;</td><td>&quot;Nei&quot;</td><td>&quot;Ja&quot;</td><td>2024-09-08</td></tr><tr><td>20240908</td><td>&quot;Ruben André M. Njøtøy&quot;</td><td>&quot;Nei&quot;</td><td>&quot;Ja&quot;</td><td>2024-09-08</td></tr><tr><td>20240908</td><td>&quot;Jørgen Vassenden&quot;</td><td>&quot;Nei&quot;</td><td>&quot;Ja&quot;</td><td>2024-09-08</td></tr><tr><td>20240908</td><td>&quot;Ahmed Abusaada&quot;</td><td>&quot;Nei&quot;</td><td>&quot;Ja&quot;</td><td>2024-09-08</td></tr><tr><td>20240908</td><td>&quot;Sondre Foldenes Gangdal&quot;</td><td>&quot;Nei&quot;</td><td>&quot;Ja&quot;</td><td>2024-09-08</td></tr><tr><td>20240908</td><td>&quot;Yafee Ishraq&quot;</td><td>&quot;Ja&quot;</td><td>&quot;Nei&quot;</td><td>2024-09-08</td></tr><tr><td>20240908</td><td>&quot;Sindre Haukefer Hauan&quot;</td><td>&quot;Ja&quot;</td><td>&quot;Nei&quot;</td><td>2024-09-08</td></tr><tr><td>20240908</td><td>&quot;Thomas Thorbjørnsen&quot;</td><td>&quot;Ja&quot;</td><td>&quot;Nei&quot;</td><td>2024-09-08</td></tr><tr><td>20240908</td><td>&quot;Bjørn Hisdal&quot;</td><td>&quot;Ja&quot;</td><td>&quot;Nei&quot;</td><td>2024-09-08</td></tr></tbody></table></div>"
      ],
      "text/plain": [
       "shape: (10, 5)\n",
       "┌──────────┬─────────────────────────┬────────┬────────────────┬────────────┐\n",
       "│ Dato     ┆ Navn                    ┆ Deltok ┆ Avlyst trening ┆ Ny Dato    │\n",
       "│ ---      ┆ ---                     ┆ ---    ┆ ---            ┆ ---        │\n",
       "│ i64      ┆ str                     ┆ str    ┆ str            ┆ date       │\n",
       "╞══════════╪═════════════════════════╪════════╪════════════════╪════════════╡\n",
       "│ 20240908 ┆ Carlos Tveit            ┆ Nei    ┆ Ja             ┆ 2024-09-08 │\n",
       "│ 20240908 ┆ Stian Nyheim            ┆ Nei    ┆ Ja             ┆ 2024-09-08 │\n",
       "│ 20240908 ┆ Ruben André M. Njøtøy   ┆ Nei    ┆ Ja             ┆ 2024-09-08 │\n",
       "│ 20240908 ┆ Jørgen Vassenden        ┆ Nei    ┆ Ja             ┆ 2024-09-08 │\n",
       "│ 20240908 ┆ Ahmed Abusaada          ┆ Nei    ┆ Ja             ┆ 2024-09-08 │\n",
       "│ 20240908 ┆ Sondre Foldenes Gangdal ┆ Nei    ┆ Ja             ┆ 2024-09-08 │\n",
       "│ 20240908 ┆ Yafee Ishraq            ┆ Ja     ┆ Nei            ┆ 2024-09-08 │\n",
       "│ 20240908 ┆ Sindre Haukefer Hauan   ┆ Ja     ┆ Nei            ┆ 2024-09-08 │\n",
       "│ 20240908 ┆ Thomas Thorbjørnsen     ┆ Ja     ┆ Nei            ┆ 2024-09-08 │\n",
       "│ 20240908 ┆ Bjørn Hisdal            ┆ Ja     ┆ Nei            ┆ 2024-09-08 │\n",
       "└──────────┴─────────────────────────┴────────┴────────────────┴────────────┘"
      ]
     },
     "execution_count": 3,
     "metadata": {},
     "output_type": "execute_result"
    }
   ],
   "source": [
    "(df\n",
    ".with_columns(pl.col('Dato').cast(pl.String).str.strptime(pl.Date, \"%Y%m%d\", strict=False).alias('Ny Dato'))\n",
    ".filter(pl.col('Ny Dato').dt.year()==2024,\n",
    "        pl.col('Ny Dato').dt.month()==9\n",
    "        )\n",
    ")"
   ]
  },
  {
   "cell_type": "code",
   "execution_count": null,
   "metadata": {},
   "outputs": [
    {
     "data": {
      "text/html": [
       "<div><style>\n",
       ".dataframe > thead > tr,\n",
       ".dataframe > tbody > tr {\n",
       "  text-align: right;\n",
       "  white-space: pre-wrap;\n",
       "}\n",
       "</style>\n",
       "<small>shape: (660, 10)</small><table border=\"1\" class=\"dataframe\"><thead><tr><th>Dato</th><th>Navn</th><th>Deltok</th><th>Avlyst trening</th><th>År</th><th>Måned</th><th>Dag</th><th>Måned navn</th><th>Årstid</th><th>Treningsdato</th></tr><tr><td>date</td><td>str</td><td>str</td><td>str</td><td>i32</td><td>i8</td><td>i8</td><td>str</td><td>str</td><td>date</td></tr></thead><tbody><tr><td>2024-01-06</td><td>&quot;Erlend Haukefer Hauan&quot;</td><td>&quot;Ja&quot;</td><td>&quot;Ja&quot;</td><td>2024</td><td>1</td><td>6</td><td>&quot;Januar&quot;</td><td>&quot;vinter&quot;</td><td>2024-01-08</td></tr><tr><td>2024-01-06</td><td>&quot;Bakary Jang Konateh&quot;</td><td>&quot;Ja&quot;</td><td>&quot;Ja&quot;</td><td>2024</td><td>1</td><td>6</td><td>&quot;Januar&quot;</td><td>&quot;vinter&quot;</td><td>2024-01-08</td></tr><tr><td>2024-01-06</td><td>&quot;Sindre Haukefer Hauan&quot;</td><td>&quot;Ja&quot;</td><td>&quot;Ja&quot;</td><td>2024</td><td>1</td><td>6</td><td>&quot;Januar&quot;</td><td>&quot;vinter&quot;</td><td>2024-01-08</td></tr><tr><td>2024-02-04</td><td>&quot;Yafee Ishraq&quot;</td><td>&quot;Nei&quot;</td><td>&quot;Ja&quot;</td><td>2024</td><td>2</td><td>7</td><td>&quot;Februar&quot;</td><td>&quot;vinter&quot;</td><td>2024-02-05</td></tr><tr><td>2024-02-04</td><td>&quot;Erlend Haukefer Hauan&quot;</td><td>&quot;Nei&quot;</td><td>&quot;Ja&quot;</td><td>2024</td><td>2</td><td>7</td><td>&quot;Februar&quot;</td><td>&quot;vinter&quot;</td><td>2024-02-05</td></tr><tr><td>&hellip;</td><td>&hellip;</td><td>&hellip;</td><td>&hellip;</td><td>&hellip;</td><td>&hellip;</td><td>&hellip;</td><td>&hellip;</td><td>&hellip;</td><td>&hellip;</td></tr><tr><td>2025-05-18</td><td>&quot;Magnus Alexander Gjerde Bevan&quot;</td><td>&quot;Ja&quot;</td><td>&quot;Nei&quot;</td><td>2025</td><td>5</td><td>7</td><td>&quot;Mai&quot;</td><td>&quot;vår&quot;</td><td>2025-05-21</td></tr><tr><td>2025-05-18</td><td>&quot;Johannes Aarra&quot;</td><td>&quot;Ja&quot;</td><td>&quot;Nei&quot;</td><td>2025</td><td>5</td><td>7</td><td>&quot;Mai&quot;</td><td>&quot;vår&quot;</td><td>2025-05-21</td></tr><tr><td>2025-05-18</td><td>&quot;Markus Bjånesøy&quot;</td><td>&quot;Ja&quot;</td><td>&quot;Nei&quot;</td><td>2025</td><td>5</td><td>7</td><td>&quot;Mai&quot;</td><td>&quot;vår&quot;</td><td>2025-05-21</td></tr><tr><td>2025-05-18</td><td>&quot;Thomas Thorbjørnsen&quot;</td><td>&quot;Nei&quot;</td><td>&quot;Nei&quot;</td><td>2025</td><td>5</td><td>7</td><td>&quot;Mai&quot;</td><td>&quot;vår&quot;</td><td>2025-05-21</td></tr><tr><td>2025-05-18</td><td>&quot;Kristoffer Fauskanger&quot;</td><td>&quot;Nei&quot;</td><td>&quot;Nei&quot;</td><td>2025</td><td>5</td><td>7</td><td>&quot;Mai&quot;</td><td>&quot;vår&quot;</td><td>2025-05-21</td></tr></tbody></table></div>"
      ],
      "text/plain": [
       "shape: (660, 10)\n",
       "┌────────────┬───────────────────┬────────┬─────────┬───┬─────┬────────────┬────────┬──────────────┐\n",
       "│ Dato       ┆ Navn              ┆ Deltok ┆ Avlyst  ┆ … ┆ Dag ┆ Måned navn ┆ Årstid ┆ Treningsdato │\n",
       "│ ---        ┆ ---               ┆ ---    ┆ trening ┆   ┆ --- ┆ ---        ┆ ---    ┆ ---          │\n",
       "│ date       ┆ str               ┆ str    ┆ ---     ┆   ┆ i8  ┆ str        ┆ str    ┆ date         │\n",
       "│            ┆                   ┆        ┆ str     ┆   ┆     ┆            ┆        ┆              │\n",
       "╞════════════╪═══════════════════╪════════╪═════════╪═══╪═════╪════════════╪════════╪══════════════╡\n",
       "│ 2024-01-06 ┆ Erlend Haukefer   ┆ Ja     ┆ Ja      ┆ … ┆ 6   ┆ Januar     ┆ vinter ┆ 2024-01-08   │\n",
       "│            ┆ Hauan             ┆        ┆         ┆   ┆     ┆            ┆        ┆              │\n",
       "│ 2024-01-06 ┆ Bakary Jang       ┆ Ja     ┆ Ja      ┆ … ┆ 6   ┆ Januar     ┆ vinter ┆ 2024-01-08   │\n",
       "│            ┆ Konateh           ┆        ┆         ┆   ┆     ┆            ┆        ┆              │\n",
       "│ 2024-01-06 ┆ Sindre Haukefer   ┆ Ja     ┆ Ja      ┆ … ┆ 6   ┆ Januar     ┆ vinter ┆ 2024-01-08   │\n",
       "│            ┆ Hauan             ┆        ┆         ┆   ┆     ┆            ┆        ┆              │\n",
       "│ 2024-02-04 ┆ Yafee Ishraq      ┆ Nei    ┆ Ja      ┆ … ┆ 7   ┆ Februar    ┆ vinter ┆ 2024-02-05   │\n",
       "│ 2024-02-04 ┆ Erlend Haukefer   ┆ Nei    ┆ Ja      ┆ … ┆ 7   ┆ Februar    ┆ vinter ┆ 2024-02-05   │\n",
       "│            ┆ Hauan             ┆        ┆         ┆   ┆     ┆            ┆        ┆              │\n",
       "│ …          ┆ …                 ┆ …      ┆ …       ┆ … ┆ …   ┆ …          ┆ …      ┆ …            │\n",
       "│ 2025-05-18 ┆ Magnus Alexander  ┆ Ja     ┆ Nei     ┆ … ┆ 7   ┆ Mai        ┆ vår    ┆ 2025-05-21   │\n",
       "│            ┆ Gjerde Bevan      ┆        ┆         ┆   ┆     ┆            ┆        ┆              │\n",
       "│ 2025-05-18 ┆ Johannes Aarra    ┆ Ja     ┆ Nei     ┆ … ┆ 7   ┆ Mai        ┆ vår    ┆ 2025-05-21   │\n",
       "│ 2025-05-18 ┆ Markus Bjånesøy   ┆ Ja     ┆ Nei     ┆ … ┆ 7   ┆ Mai        ┆ vår    ┆ 2025-05-21   │\n",
       "│ 2025-05-18 ┆ Thomas            ┆ Nei    ┆ Nei     ┆ … ┆ 7   ┆ Mai        ┆ vår    ┆ 2025-05-21   │\n",
       "│            ┆ Thorbjørnsen      ┆        ┆         ┆   ┆     ┆            ┆        ┆              │\n",
       "│ 2025-05-18 ┆ Kristoffer        ┆ Nei    ┆ Nei     ┆ … ┆ 7   ┆ Mai        ┆ vår    ┆ 2025-05-21   │\n",
       "│            ┆ Fauskanger        ┆        ┆         ┆   ┆     ┆            ┆        ┆              │\n",
       "└────────────┴───────────────────┴────────┴─────────┴───┴─────┴────────────┴────────┴──────────────┘"
      ]
     },
     "execution_count": 4,
     "metadata": {},
     "output_type": "execute_result"
    }
   ],
   "source": [
    "df = (df\n",
    ".pipe(prep)\n",
    ".pipe(dato_mapping_pub_trening)\n",
    ")\n",
    "\n",
    "df"
   ]
  },
  {
   "cell_type": "code",
   "execution_count": 5,
   "metadata": {},
   "outputs": [],
   "source": [
    "df = (df\n",
    ".pipe(datoformat_mapping)\n",
    ".pipe(dato_mapping_pub_trening)\n",
    ".pipe(prep)\n",
    ")"
   ]
  },
  {
   "cell_type": "code",
   "execution_count": 7,
   "metadata": {},
   "outputs": [
    {
     "data": {
      "text/html": [
       "<div><style>\n",
       ".dataframe > thead > tr,\n",
       ".dataframe > tbody > tr {\n",
       "  text-align: right;\n",
       "  white-space: pre-wrap;\n",
       "}\n",
       "</style>\n",
       "<small>shape: (10, 8)</small><table border=\"1\" class=\"dataframe\"><thead><tr><th>Dato</th><th>Navn</th><th>Deltok</th><th>Avlyst trening</th><th>År</th><th>Måned</th><th>Dag</th><th>Måned nr</th></tr><tr><td>date</td><td>str</td><td>str</td><td>str</td><td>i32</td><td>str</td><td>i8</td><td>i8</td></tr></thead><tbody><tr><td>2024-09-08</td><td>&quot;Carlos Tveit&quot;</td><td>&quot;Nei&quot;</td><td>&quot;Ja&quot;</td><td>2024</td><td>&quot;September&quot;</td><td>7</td><td>9</td></tr><tr><td>2024-09-08</td><td>&quot;Stian Nyheim&quot;</td><td>&quot;Nei&quot;</td><td>&quot;Ja&quot;</td><td>2024</td><td>&quot;September&quot;</td><td>7</td><td>9</td></tr><tr><td>2024-09-08</td><td>&quot;Ruben André M. Njøtøy&quot;</td><td>&quot;Nei&quot;</td><td>&quot;Ja&quot;</td><td>2024</td><td>&quot;September&quot;</td><td>7</td><td>9</td></tr><tr><td>2024-09-08</td><td>&quot;Jørgen Vassenden&quot;</td><td>&quot;Nei&quot;</td><td>&quot;Ja&quot;</td><td>2024</td><td>&quot;September&quot;</td><td>7</td><td>9</td></tr><tr><td>2024-09-08</td><td>&quot;Ahmed Abusaada&quot;</td><td>&quot;Nei&quot;</td><td>&quot;Ja&quot;</td><td>2024</td><td>&quot;September&quot;</td><td>7</td><td>9</td></tr><tr><td>2024-09-08</td><td>&quot;Sondre Foldenes Gangdal&quot;</td><td>&quot;Nei&quot;</td><td>&quot;Ja&quot;</td><td>2024</td><td>&quot;September&quot;</td><td>7</td><td>9</td></tr><tr><td>2024-09-08</td><td>&quot;Yafee Ishraq&quot;</td><td>&quot;Ja&quot;</td><td>&quot;Nei&quot;</td><td>2024</td><td>&quot;September&quot;</td><td>7</td><td>9</td></tr><tr><td>2024-09-08</td><td>&quot;Sindre Haukefer Hauan&quot;</td><td>&quot;Ja&quot;</td><td>&quot;Nei&quot;</td><td>2024</td><td>&quot;September&quot;</td><td>7</td><td>9</td></tr><tr><td>2024-09-08</td><td>&quot;Thomas Thorbjørnsen&quot;</td><td>&quot;Ja&quot;</td><td>&quot;Nei&quot;</td><td>2024</td><td>&quot;September&quot;</td><td>7</td><td>9</td></tr><tr><td>2024-09-08</td><td>&quot;Bjørn Hisdal&quot;</td><td>&quot;Ja&quot;</td><td>&quot;Nei&quot;</td><td>2024</td><td>&quot;September&quot;</td><td>7</td><td>9</td></tr></tbody></table></div>"
      ],
      "text/plain": [
       "shape: (10, 8)\n",
       "┌────────────┬───────────────────────┬────────┬────────────────┬──────┬───────────┬─────┬──────────┐\n",
       "│ Dato       ┆ Navn                  ┆ Deltok ┆ Avlyst trening ┆ År   ┆ Måned     ┆ Dag ┆ Måned nr │\n",
       "│ ---        ┆ ---                   ┆ ---    ┆ ---            ┆ ---  ┆ ---       ┆ --- ┆ ---      │\n",
       "│ date       ┆ str                   ┆ str    ┆ str            ┆ i32  ┆ str       ┆ i8  ┆ i8       │\n",
       "╞════════════╪═══════════════════════╪════════╪════════════════╪══════╪═══════════╪═════╪══════════╡\n",
       "│ 2024-09-08 ┆ Carlos Tveit          ┆ Nei    ┆ Ja             ┆ 2024 ┆ September ┆ 7   ┆ 9        │\n",
       "│ 2024-09-08 ┆ Stian Nyheim          ┆ Nei    ┆ Ja             ┆ 2024 ┆ September ┆ 7   ┆ 9        │\n",
       "│ 2024-09-08 ┆ Ruben André M. Njøtøy ┆ Nei    ┆ Ja             ┆ 2024 ┆ September ┆ 7   ┆ 9        │\n",
       "│ 2024-09-08 ┆ Jørgen Vassenden      ┆ Nei    ┆ Ja             ┆ 2024 ┆ September ┆ 7   ┆ 9        │\n",
       "│ 2024-09-08 ┆ Ahmed Abusaada        ┆ Nei    ┆ Ja             ┆ 2024 ┆ September ┆ 7   ┆ 9        │\n",
       "│ 2024-09-08 ┆ Sondre Foldenes       ┆ Nei    ┆ Ja             ┆ 2024 ┆ September ┆ 7   ┆ 9        │\n",
       "│            ┆ Gangdal               ┆        ┆                ┆      ┆           ┆     ┆          │\n",
       "│ 2024-09-08 ┆ Yafee Ishraq          ┆ Ja     ┆ Nei            ┆ 2024 ┆ September ┆ 7   ┆ 9        │\n",
       "│ 2024-09-08 ┆ Sindre Haukefer Hauan ┆ Ja     ┆ Nei            ┆ 2024 ┆ September ┆ 7   ┆ 9        │\n",
       "│ 2024-09-08 ┆ Thomas Thorbjørnsen   ┆ Ja     ┆ Nei            ┆ 2024 ┆ September ┆ 7   ┆ 9        │\n",
       "│ 2024-09-08 ┆ Bjørn Hisdal          ┆ Ja     ┆ Nei            ┆ 2024 ┆ September ┆ 7   ┆ 9        │\n",
       "└────────────┴───────────────────────┴────────┴────────────────┴──────┴───────────┴─────┴──────────┘"
      ]
     },
     "execution_count": 7,
     "metadata": {},
     "output_type": "execute_result"
    }
   ],
   "source": [
    "\n",
    "\n",
    "\n",
    "df = (df\n",
    " .with_columns(\n",
    "             pl.col('Dato').cast(pl.String).str.strptime(pl.Date, \"%Y%m%d\", strict=False)\n",
    "               )\n",
    " \n",
    " # Henter ut år måned dag\n",
    " .with_columns(pl.col('Dato').dt.year().alias('År'),\n",
    "               pl.col('Dato').dt.month().alias('Måned'),\n",
    "               pl.col('Dato').dt.weekday().alias('Dag')\n",
    "               )\n",
    " )\n",
    " \n",
    " \n",
    "# Mapper måned nr til navn\n",
    "df = (df\n",
    "     .with_columns(pl.col(\"Måned\").alias('Måned nr'))\n",
    "     .with_columns(\n",
    "      pl.when(pl.col(\"Måned\") == 1).then(pl.lit(\"Januar\"))\n",
    "      .when(pl.col(\"Måned\") == 2).then(pl.lit(\"Februar\"))\n",
    "      .when(pl.col(\"Måned\") == 3).then(pl.lit(\"Mars\"))\n",
    "      .when(pl.col(\"Måned\") == 4).then(pl.lit(\"April\"))\n",
    "      .when(pl.col(\"Måned\") == 5).then(pl.lit(\"Mai\"))\n",
    "      .when(pl.col(\"Måned\") == 6).then(pl.lit(\"Juni\"))\n",
    "      .when(pl.col(\"Måned\") == 7).then(pl.lit(\"Juli\"))\n",
    "      .when(pl.col(\"Måned\") == 8).then(pl.lit(\"August\"))\n",
    "      .when(pl.col(\"Måned\") == 9).then(pl.lit(\"September\"))\n",
    "      .when(pl.col(\"Måned\") == 10).then(pl.lit(\"Oktober\"))\n",
    "      .when(pl.col(\"Måned\") == 11).then(pl.lit(\"November\"))\n",
    "      .when(pl.col(\"Måned\") == 12).then(pl.lit(\"Desember\"))\n",
    "      .otherwise(pl.lit(\"Ukjent\"))\n",
    "      .alias(\"Måned\")\n",
    "     ))\n",
    "\n",
    "df.filter(pl.col('Dato').dt.year()==2024,\n",
    "        pl.col('Dato').dt.month()==9\n",
    "        )"
   ]
  },
  {
   "cell_type": "code",
   "execution_count": 4,
   "metadata": {},
   "outputs": [
    {
     "ename": "InvalidOperationError",
     "evalue": "`month` operation not supported for dtype `i64`",
     "output_type": "error",
     "traceback": [
      "\u001b[1;31m---------------------------------------------------------------------------\u001b[0m",
      "\u001b[1;31mInvalidOperationError\u001b[0m                     Traceback (most recent call last)",
      "Cell \u001b[1;32mIn[4], line 2\u001b[0m\n\u001b[0;32m      1\u001b[0m (\u001b[43mdf\u001b[49m\n\u001b[1;32m----> 2\u001b[0m \u001b[38;5;241;43m.\u001b[39;49m\u001b[43mfilter\u001b[49m\u001b[43m(\u001b[49m\u001b[43mpl\u001b[49m\u001b[38;5;241;43m.\u001b[39;49m\u001b[43mcol\u001b[49m\u001b[43m(\u001b[49m\u001b[38;5;124;43m'\u001b[39;49m\u001b[38;5;124;43mDato\u001b[39;49m\u001b[38;5;124;43m'\u001b[39;49m\u001b[43m)\u001b[49m\u001b[38;5;241;43m.\u001b[39;49m\u001b[43mdt\u001b[49m\u001b[38;5;241;43m.\u001b[39;49m\u001b[43myear\u001b[49m\u001b[43m(\u001b[49m\u001b[43m)\u001b[49m\u001b[38;5;241;43m==\u001b[39;49m\u001b[38;5;241;43m2024\u001b[39;49m\u001b[43m,\u001b[49m\n\u001b[0;32m      3\u001b[0m \u001b[43m        \u001b[49m\u001b[43mpl\u001b[49m\u001b[38;5;241;43m.\u001b[39;49m\u001b[43mcol\u001b[49m\u001b[43m(\u001b[49m\u001b[38;5;124;43m'\u001b[39;49m\u001b[38;5;124;43mDato\u001b[39;49m\u001b[38;5;124;43m'\u001b[39;49m\u001b[43m)\u001b[49m\u001b[38;5;241;43m.\u001b[39;49m\u001b[43mdt\u001b[49m\u001b[38;5;241;43m.\u001b[39;49m\u001b[43mmonth\u001b[49m\u001b[43m(\u001b[49m\u001b[43m)\u001b[49m\u001b[38;5;241;43m==\u001b[39;49m\u001b[38;5;241;43m9\u001b[39;49m\n\u001b[0;32m      4\u001b[0m \u001b[43m        \u001b[49m\u001b[43m)\u001b[49m\n\u001b[0;32m      5\u001b[0m \u001b[38;5;241m.\u001b[39mgroup_by(\u001b[38;5;124m'\u001b[39m\u001b[38;5;124mMåned nr\u001b[39m\u001b[38;5;124m'\u001b[39m)\n\u001b[0;32m      6\u001b[0m \u001b[38;5;241m.\u001b[39magg( \n\u001b[0;32m      7\u001b[0m       pl\u001b[38;5;241m.\u001b[39mwhen(pl\u001b[38;5;241m.\u001b[39mcol(\u001b[38;5;124m'\u001b[39m\u001b[38;5;124mDato\u001b[39m\u001b[38;5;124m'\u001b[39m)\u001b[38;5;241m.\u001b[39mfilter(pl\u001b[38;5;241m.\u001b[39mcol(\u001b[38;5;124m'\u001b[39m\u001b[38;5;124mAvlyst trening\u001b[39m\u001b[38;5;124m'\u001b[39m)\u001b[38;5;241m==\u001b[39m\u001b[38;5;124m'\u001b[39m\u001b[38;5;124mNei\u001b[39m\u001b[38;5;124m'\u001b[39m)\u001b[38;5;241m.\u001b[39mn_unique()\u001b[38;5;241m==\u001b[39m\u001b[38;5;241m1\u001b[39m)\n\u001b[0;32m      8\u001b[0m       \u001b[38;5;241m.\u001b[39mthen(\n\u001b[0;32m      9\u001b[0m       pl\u001b[38;5;241m.\u001b[39mcol(\u001b[38;5;124m'\u001b[39m\u001b[38;5;124mNavn\u001b[39m\u001b[38;5;124m'\u001b[39m)\n\u001b[0;32m     10\u001b[0m       \u001b[38;5;241m.\u001b[39mfilter(pl\u001b[38;5;241m.\u001b[39mcol(\u001b[38;5;124m'\u001b[39m\u001b[38;5;124mDeltok\u001b[39m\u001b[38;5;124m'\u001b[39m)\u001b[38;5;241m==\u001b[39m\u001b[38;5;124m'\u001b[39m\u001b[38;5;124mJa\u001b[39m\u001b[38;5;124m'\u001b[39m)\n\u001b[0;32m     11\u001b[0m       \u001b[38;5;241m.\u001b[39mn_unique()\n\u001b[0;32m     12\u001b[0m       )\n\u001b[0;32m     13\u001b[0m       \u001b[38;5;241m.\u001b[39motherwise(\n\u001b[0;32m     14\u001b[0m       pl\u001b[38;5;241m.\u001b[39mcol(\u001b[38;5;124m'\u001b[39m\u001b[38;5;124mNavn\u001b[39m\u001b[38;5;124m'\u001b[39m)\n\u001b[0;32m     15\u001b[0m       \u001b[38;5;241m.\u001b[39mfilter(pl\u001b[38;5;241m.\u001b[39mcol(\u001b[38;5;124m'\u001b[39m\u001b[38;5;124mDeltok\u001b[39m\u001b[38;5;124m'\u001b[39m)\u001b[38;5;241m==\u001b[39m\u001b[38;5;124m'\u001b[39m\u001b[38;5;124mJa\u001b[39m\u001b[38;5;124m'\u001b[39m)\n\u001b[0;32m     16\u001b[0m       \u001b[38;5;241m.\u001b[39mlen()\n\u001b[0;32m     17\u001b[0m       \u001b[38;5;241m.\u001b[39mtruediv(pl\u001b[38;5;241m.\u001b[39mcol(\u001b[38;5;124m'\u001b[39m\u001b[38;5;124mDato\u001b[39m\u001b[38;5;124m'\u001b[39m)\u001b[38;5;241m.\u001b[39mfilter(pl\u001b[38;5;241m.\u001b[39mcol(\u001b[38;5;124m'\u001b[39m\u001b[38;5;124mAvlyst trening\u001b[39m\u001b[38;5;124m'\u001b[39m)\u001b[38;5;241m==\u001b[39m\u001b[38;5;124m'\u001b[39m\u001b[38;5;124mNei\u001b[39m\u001b[38;5;124m'\u001b[39m)\u001b[38;5;241m.\u001b[39mn_unique())\n\u001b[0;32m     18\u001b[0m      )\n\u001b[0;32m     19\u001b[0m      \u001b[38;5;241m.\u001b[39malias(\u001b[38;5;124m'\u001b[39m\u001b[38;5;124mAntall per trening\u001b[39m\u001b[38;5;124m'\u001b[39m)\n\u001b[0;32m     20\u001b[0m      )\n\u001b[0;32m     21\u001b[0m )\n",
      "File \u001b[1;32mc:\\Users\\Yafee Ishraq\\AppData\\Local\\Programs\\Python\\Python311\\Lib\\site-packages\\polars\\dataframe\\frame.py:4971\u001b[0m, in \u001b[0;36mDataFrame.filter\u001b[1;34m(self, *predicates, **constraints)\u001b[0m\n\u001b[0;32m   4817\u001b[0m \u001b[38;5;28;01mdef\u001b[39;00m \u001b[38;5;21mfilter\u001b[39m(\n\u001b[0;32m   4818\u001b[0m     \u001b[38;5;28mself\u001b[39m,\n\u001b[0;32m   4819\u001b[0m     \u001b[38;5;241m*\u001b[39mpredicates: (\n\u001b[1;32m   (...)\u001b[0m\n\u001b[0;32m   4826\u001b[0m     \u001b[38;5;241m*\u001b[39m\u001b[38;5;241m*\u001b[39mconstraints: Any,\n\u001b[0;32m   4827\u001b[0m ) \u001b[38;5;241m-\u001b[39m\u001b[38;5;241m>\u001b[39m DataFrame:\n\u001b[0;32m   4828\u001b[0m \u001b[38;5;250m    \u001b[39m\u001b[38;5;124;03m\"\"\"\u001b[39;00m\n\u001b[0;32m   4829\u001b[0m \u001b[38;5;124;03m    Filter the rows in the DataFrame based on one or more predicate expressions.\u001b[39;00m\n\u001b[0;32m   4830\u001b[0m \n\u001b[1;32m   (...)\u001b[0m\n\u001b[0;32m   4969\u001b[0m \n\u001b[0;32m   4970\u001b[0m \u001b[38;5;124;03m    \"\"\"\u001b[39;00m\n\u001b[1;32m-> 4971\u001b[0m     \u001b[38;5;28;01mreturn\u001b[39;00m \u001b[38;5;28;43mself\u001b[39;49m\u001b[38;5;241;43m.\u001b[39;49m\u001b[43mlazy\u001b[49m\u001b[43m(\u001b[49m\u001b[43m)\u001b[49m\u001b[38;5;241;43m.\u001b[39;49m\u001b[43mfilter\u001b[49m\u001b[43m(\u001b[49m\u001b[38;5;241;43m*\u001b[39;49m\u001b[43mpredicates\u001b[49m\u001b[43m,\u001b[49m\u001b[43m \u001b[49m\u001b[38;5;241;43m*\u001b[39;49m\u001b[38;5;241;43m*\u001b[39;49m\u001b[43mconstraints\u001b[49m\u001b[43m)\u001b[49m\u001b[38;5;241;43m.\u001b[39;49m\u001b[43mcollect\u001b[49m\u001b[43m(\u001b[49m\u001b[43m_eager\u001b[49m\u001b[38;5;241;43m=\u001b[39;49m\u001b[38;5;28;43;01mTrue\u001b[39;49;00m\u001b[43m)\u001b[49m\n",
      "File \u001b[1;32mc:\\Users\\Yafee Ishraq\\AppData\\Local\\Programs\\Python\\Python311\\Lib\\site-packages\\polars\\lazyframe\\frame.py:2031\u001b[0m, in \u001b[0;36mLazyFrame.collect\u001b[1;34m(self, type_coercion, predicate_pushdown, projection_pushdown, simplify_expression, slice_pushdown, comm_subplan_elim, comm_subexpr_elim, cluster_with_columns, collapse_joins, no_optimization, streaming, engine, background, _eager, **_kwargs)\u001b[0m\n\u001b[0;32m   2029\u001b[0m \u001b[38;5;66;03m# Only for testing purposes\u001b[39;00m\n\u001b[0;32m   2030\u001b[0m callback \u001b[38;5;241m=\u001b[39m _kwargs\u001b[38;5;241m.\u001b[39mget(\u001b[38;5;124m\"\u001b[39m\u001b[38;5;124mpost_opt_callback\u001b[39m\u001b[38;5;124m\"\u001b[39m, callback)\n\u001b[1;32m-> 2031\u001b[0m \u001b[38;5;28;01mreturn\u001b[39;00m wrap_df(\u001b[43mldf\u001b[49m\u001b[38;5;241;43m.\u001b[39;49m\u001b[43mcollect\u001b[49m\u001b[43m(\u001b[49m\u001b[43mcallback\u001b[49m\u001b[43m)\u001b[49m)\n",
      "\u001b[1;31mInvalidOperationError\u001b[0m: `month` operation not supported for dtype `i64`"
     ]
    }
   ],
   "source": [
    "(df\n",
    ".filter(pl.col('Dato').dt.year()==2024,\n",
    "        pl.col('Dato').dt.month()==9\n",
    "        )\n",
    ".group_by('Måned nr')\n",
    ".agg( \n",
    "      pl.when(pl.col('Dato').filter(pl.col('Avlyst trening')=='Nei').n_unique()==1)\n",
    "      .then(\n",
    "      pl.col('Navn')\n",
    "      .filter(pl.col('Deltok')=='Ja')\n",
    "      .n_unique()\n",
    "      )\n",
    "      .otherwise(\n",
    "      pl.col('Navn')\n",
    "      .filter(pl.col('Deltok')=='Ja')\n",
    "      .len()\n",
    "      .truediv(pl.col('Dato').filter(pl.col('Avlyst trening')=='Nei').n_unique())\n",
    "     )\n",
    "     .alias('Antall per trening')\n",
    "     )\n",
    ")"
   ]
  },
  {
   "cell_type": "code",
   "execution_count": 12,
   "metadata": {},
   "outputs": [
    {
     "data": {
      "text/html": [
       "<div><style>\n",
       ".dataframe > thead > tr,\n",
       ".dataframe > tbody > tr {\n",
       "  text-align: right;\n",
       "  white-space: pre-wrap;\n",
       "}\n",
       "</style>\n",
       "<small>shape: (22, 3)</small><table border=\"1\" class=\"dataframe\"><thead><tr><th>Dato</th><th>Måned nr</th><th>Måned</th></tr><tr><td>date</td><td>i8</td><td>str</td></tr></thead><tbody><tr><td>2024-09-02</td><td>8</td><td>&quot;August&quot;</td></tr><tr><td>2024-09-02</td><td>8</td><td>&quot;August&quot;</td></tr><tr><td>2024-09-02</td><td>8</td><td>&quot;August&quot;</td></tr><tr><td>2024-09-02</td><td>8</td><td>&quot;August&quot;</td></tr><tr><td>2024-09-02</td><td>8</td><td>&quot;August&quot;</td></tr><tr><td>&hellip;</td><td>&hellip;</td><td>&hellip;</td></tr><tr><td>2024-09-09</td><td>9</td><td>&quot;September&quot;</td></tr><tr><td>2024-09-09</td><td>9</td><td>&quot;September&quot;</td></tr><tr><td>2024-09-09</td><td>9</td><td>&quot;September&quot;</td></tr><tr><td>2024-09-09</td><td>9</td><td>&quot;September&quot;</td></tr><tr><td>2024-09-09</td><td>9</td><td>&quot;September&quot;</td></tr></tbody></table></div>"
      ],
      "text/plain": [
       "shape: (22, 3)\n",
       "┌────────────┬──────────┬───────────┐\n",
       "│ Dato       ┆ Måned nr ┆ Måned     │\n",
       "│ ---        ┆ ---      ┆ ---       │\n",
       "│ date       ┆ i8       ┆ str       │\n",
       "╞════════════╪══════════╪═══════════╡\n",
       "│ 2024-09-02 ┆ 8        ┆ August    │\n",
       "│ 2024-09-02 ┆ 8        ┆ August    │\n",
       "│ 2024-09-02 ┆ 8        ┆ August    │\n",
       "│ 2024-09-02 ┆ 8        ┆ August    │\n",
       "│ 2024-09-02 ┆ 8        ┆ August    │\n",
       "│ …          ┆ …        ┆ …         │\n",
       "│ 2024-09-09 ┆ 9        ┆ September │\n",
       "│ 2024-09-09 ┆ 9        ┆ September │\n",
       "│ 2024-09-09 ┆ 9        ┆ September │\n",
       "│ 2024-09-09 ┆ 9        ┆ September │\n",
       "│ 2024-09-09 ┆ 9        ┆ September │\n",
       "└────────────┴──────────┴───────────┘"
      ]
     },
     "execution_count": 12,
     "metadata": {},
     "output_type": "execute_result"
    }
   ],
   "source": [
    "(df\n",
    ".select('Dato','Måned nr','Måned')\n",
    ".filter(pl.col('Dato').dt.year()==2024,pl.col('Dato').dt.month()==9)\n",
    "\n",
    ")"
   ]
  },
  {
   "cell_type": "code",
   "execution_count": 10,
   "metadata": {},
   "outputs": [],
   "source": [
    "# Skal koble på den første mandagen etter publiseringsdato\n",
    "\n",
    "# Henter ut max og min dato\n",
    "aar_max = int(df.select('År').max().item())\n",
    "aar_min = int(df.select('År').min().item())\n",
    "\n",
    "alle_datoer = pl.DataFrame({'alle_dato':pl.date_range(date(aar_min, 1, 1), date(aar_max, 12, 1), \"1d\", eager=True)})\n",
    "\n",
    "publiseringsdato = df.select('Dato').unique().rename({'Dato':'publiseringsdato'})\n"
   ]
  },
  {
   "cell_type": "code",
   "execution_count": null,
   "metadata": {},
   "outputs": [
    {
     "data": {
      "text/html": [
       "<div><style>\n",
       ".dataframe > thead > tr,\n",
       ".dataframe > tbody > tr {\n",
       "  text-align: right;\n",
       "  white-space: pre-wrap;\n",
       "}\n",
       "</style>\n",
       "<small>shape: (660, 8)</small><table border=\"1\" class=\"dataframe\"><thead><tr><th>Navn</th><th>Deltok</th><th>Avlyst trening</th><th>År</th><th>Måned</th><th>Dag</th><th>Måned nr</th><th>Dato</th></tr><tr><td>str</td><td>str</td><td>str</td><td>str</td><td>str</td><td>i64</td><td>i64</td><td>date</td></tr></thead><tbody><tr><td>&quot;Erlend Haukefer Hauan&quot;</td><td>&quot;Ja&quot;</td><td>&quot;Ja&quot;</td><td>&quot;2024&quot;</td><td>&quot;Januar&quot;</td><td>6</td><td>1</td><td>2024-01-08</td></tr><tr><td>&quot;Bakary Jang Konateh&quot;</td><td>&quot;Ja&quot;</td><td>&quot;Ja&quot;</td><td>&quot;2024&quot;</td><td>&quot;Januar&quot;</td><td>6</td><td>1</td><td>2024-01-08</td></tr><tr><td>&quot;Sindre Haukefer Hauan&quot;</td><td>&quot;Ja&quot;</td><td>&quot;Ja&quot;</td><td>&quot;2024&quot;</td><td>&quot;Januar&quot;</td><td>6</td><td>1</td><td>2024-01-08</td></tr><tr><td>&quot;Yafee Ishraq&quot;</td><td>&quot;Nei&quot;</td><td>&quot;Ja&quot;</td><td>&quot;2024&quot;</td><td>&quot;Februar&quot;</td><td>4</td><td>2</td><td>2024-02-05</td></tr><tr><td>&quot;Erlend Haukefer Hauan&quot;</td><td>&quot;Nei&quot;</td><td>&quot;Ja&quot;</td><td>&quot;2024&quot;</td><td>&quot;Februar&quot;</td><td>4</td><td>2</td><td>2024-02-05</td></tr><tr><td>&hellip;</td><td>&hellip;</td><td>&hellip;</td><td>&hellip;</td><td>&hellip;</td><td>&hellip;</td><td>&hellip;</td><td>&hellip;</td></tr><tr><td>&quot;Magnus Alexander Gjerde Bevan&quot;</td><td>&quot;Ja&quot;</td><td>&quot;Nei&quot;</td><td>&quot;2025&quot;</td><td>&quot;Mai&quot;</td><td>18</td><td>5</td><td>2025-05-21</td></tr><tr><td>&quot;Johannes Aarra&quot;</td><td>&quot;Ja&quot;</td><td>&quot;Nei&quot;</td><td>&quot;2025&quot;</td><td>&quot;Mai&quot;</td><td>18</td><td>5</td><td>2025-05-21</td></tr><tr><td>&quot;Markus Bjånesøy&quot;</td><td>&quot;Ja&quot;</td><td>&quot;Nei&quot;</td><td>&quot;2025&quot;</td><td>&quot;Mai&quot;</td><td>18</td><td>5</td><td>2025-05-21</td></tr><tr><td>&quot;Thomas Thorbjørnsen&quot;</td><td>&quot;Nei&quot;</td><td>&quot;Nei&quot;</td><td>&quot;2025&quot;</td><td>&quot;Mai&quot;</td><td>18</td><td>5</td><td>2025-05-21</td></tr><tr><td>&quot;Kristoffer Fauskanger&quot;</td><td>&quot;Nei&quot;</td><td>&quot;Nei&quot;</td><td>&quot;2025&quot;</td><td>&quot;Mai&quot;</td><td>18</td><td>5</td><td>2025-05-21</td></tr></tbody></table></div>"
      ],
      "text/plain": [
       "shape: (660, 8)\n",
       "┌─────────────────────────┬────────┬────────────────┬──────┬─────────┬─────┬──────────┬────────────┐\n",
       "│ Navn                    ┆ Deltok ┆ Avlyst trening ┆ År   ┆ Måned   ┆ Dag ┆ Måned nr ┆ Dato       │\n",
       "│ ---                     ┆ ---    ┆ ---            ┆ ---  ┆ ---     ┆ --- ┆ ---      ┆ ---        │\n",
       "│ str                     ┆ str    ┆ str            ┆ str  ┆ str     ┆ i64 ┆ i64      ┆ date       │\n",
       "╞═════════════════════════╪════════╪════════════════╪══════╪═════════╪═════╪══════════╪════════════╡\n",
       "│ Erlend Haukefer Hauan   ┆ Ja     ┆ Ja             ┆ 2024 ┆ Januar  ┆ 6   ┆ 1        ┆ 2024-01-08 │\n",
       "│ Bakary Jang Konateh     ┆ Ja     ┆ Ja             ┆ 2024 ┆ Januar  ┆ 6   ┆ 1        ┆ 2024-01-08 │\n",
       "│ Sindre Haukefer Hauan   ┆ Ja     ┆ Ja             ┆ 2024 ┆ Januar  ┆ 6   ┆ 1        ┆ 2024-01-08 │\n",
       "│ Yafee Ishraq            ┆ Nei    ┆ Ja             ┆ 2024 ┆ Februar ┆ 4   ┆ 2        ┆ 2024-02-05 │\n",
       "│ Erlend Haukefer Hauan   ┆ Nei    ┆ Ja             ┆ 2024 ┆ Februar ┆ 4   ┆ 2        ┆ 2024-02-05 │\n",
       "│ …                       ┆ …      ┆ …              ┆ …    ┆ …       ┆ …   ┆ …        ┆ …          │\n",
       "│ Magnus Alexander Gjerde ┆ Ja     ┆ Nei            ┆ 2025 ┆ Mai     ┆ 18  ┆ 5        ┆ 2025-05-21 │\n",
       "│ Bevan                   ┆        ┆                ┆      ┆         ┆     ┆          ┆            │\n",
       "│ Johannes Aarra          ┆ Ja     ┆ Nei            ┆ 2025 ┆ Mai     ┆ 18  ┆ 5        ┆ 2025-05-21 │\n",
       "│ Markus Bjånesøy         ┆ Ja     ┆ Nei            ┆ 2025 ┆ Mai     ┆ 18  ┆ 5        ┆ 2025-05-21 │\n",
       "│ Thomas Thorbjørnsen     ┆ Nei    ┆ Nei            ┆ 2025 ┆ Mai     ┆ 18  ┆ 5        ┆ 2025-05-21 │\n",
       "│ Kristoffer Fauskanger   ┆ Nei    ┆ Nei            ┆ 2025 ┆ Mai     ┆ 18  ┆ 5        ┆ 2025-05-21 │\n",
       "└─────────────────────────┴────────┴────────────────┴──────┴─────────┴─────┴──────────┴────────────┘"
      ]
     },
     "execution_count": 12,
     "metadata": {},
     "output_type": "execute_result"
    }
   ],
   "source": [
    "publiseringsdato = (publiseringsdato\n",
    "\n",
    "# Kobler på alle datoer som er større enn publiseringsdato\n",
    ".join_where(\n",
    "alle_datoer,\n",
    "\n",
    "# Denne inequalitien vil sikre at dersom èn har publisert trening samme dag som det skal være trening\n",
    "pl.col('publiseringsdato')<=pl.col('alle_dato')\n",
    ")\n",
    "\n",
    "# Ekstraherer ukedag\n",
    ".with_columns(pl.col('alle_dato').dt.weekday().alias('dag'))\n",
    "\n",
    "# Identifiserer hva som er den første mandagen ellers onsdag\n",
    " .group_by('publiseringsdato')\n",
    " .agg(\n",
    "     \n",
    "    # Første mandag  \n",
    "    pl.col('alle_dato').filter(pl.col('dag')==1).min().alias('forste_mandag'),\n",
    "\n",
    "    # Første onsdag\n",
    "    pl.col('alle_dato').filter(pl.col('dag')==3).min().alias('forste_onsdag')\n",
    "    \n",
    "    )\n",
    "\n",
    "# Dersom det er 2024 brukes mandag, hvis ikke brukes onsdag. Må sannsynligvis endre på logikken om flere år inkluderes i datasettet\n",
    ".with_columns(pl.when(pl.col('publiseringsdato').dt.year()==2024)\n",
    "              .then(pl.col('forste_mandag'))\n",
    "              .otherwise(pl.col('forste_onsdag'))\n",
    "              .alias('treningsdato')\n",
    ")\n",
    "\n",
    "# Fjerner forste_ kolonnene\n",
    ".select(~cs.starts_with('forste'))\n",
    "\n",
    "# Det kan være tilfeller hvor treningsdato har to eller flere publiseringsdato. Dette kan for eksempel forekomme dersom èn har publisert trening to ganger etter første mandagen i uken, som foreksempel\n",
    "# 2024-07-25 (torsdag) og 2024-07-28 (søndag). Derfor tas det unike radene av treningsdato\n",
    ".unique(subset='treningsdato')\n",
    "\n",
    ")\n",
    "\n",
    "\n",
    "\n",
    "# Må ta en inner join fordi vi fjerner duplikater av tilfeller hvor treningsdato har 2 eller flere publiseringsdato\n",
    "df = (df\n",
    ".join(other = publiseringsdato,left_on='Dato',right_on='publiseringsdato',how = 'inner')\n",
    ".drop('Dato')\n",
    ".rename({'treningsdato':'Dato'})\n",
    ")\n"
   ]
  },
  {
   "cell_type": "code",
   "execution_count": 9,
   "metadata": {},
   "outputs": [
    {
     "data": {
      "text/html": [
       "<div><style>\n",
       ".dataframe > thead > tr,\n",
       ".dataframe > tbody > tr {\n",
       "  text-align: right;\n",
       "  white-space: pre-wrap;\n",
       "}\n",
       "</style>\n",
       "<small>shape: (173, 3)</small><table border=\"1\" class=\"dataframe\"><thead><tr><th>Navn</th><th>Måned</th><th>Streak</th></tr><tr><td>str</td><td>str</td><td>u32</td></tr></thead><tbody><tr><td>&quot;Carlos Tveit&quot;</td><td>&quot;September&quot;</td><td>0</td></tr><tr><td>&quot;Patrick Waage Seljenes&quot;</td><td>&quot;Oktober&quot;</td><td>0</td></tr><tr><td>&quot;Thomas Thorbjørnsen&quot;</td><td>&quot;Mai&quot;</td><td>0</td></tr><tr><td>&quot;Patrick Waage Seljenes&quot;</td><td>&quot;Juni&quot;</td><td>0</td></tr><tr><td>&quot;Ruben André M. Njøtøy&quot;</td><td>&quot;Mai&quot;</td><td>0</td></tr><tr><td>&hellip;</td><td>&hellip;</td><td>&hellip;</td></tr><tr><td>&quot;Sindre Jakobsen&quot;</td><td>&quot;April&quot;</td><td>4</td></tr><tr><td>&quot;Sindre Jakobsen&quot;</td><td>&quot;August&quot;</td><td>5</td></tr><tr><td>&quot;Thomas Thorbjørnsen&quot;</td><td>&quot;August&quot;</td><td>5</td></tr><tr><td>&quot;Yafee Ishraq&quot;</td><td>&quot;August&quot;</td><td>5</td></tr><tr><td>&quot;Stian Nyheim&quot;</td><td>&quot;August&quot;</td><td>5</td></tr></tbody></table></div>"
      ],
      "text/plain": [
       "shape: (173, 3)\n",
       "┌────────────────────────┬───────────┬────────┐\n",
       "│ Navn                   ┆ Måned     ┆ Streak │\n",
       "│ ---                    ┆ ---       ┆ ---    │\n",
       "│ str                    ┆ str       ┆ u32    │\n",
       "╞════════════════════════╪═══════════╪════════╡\n",
       "│ Carlos Tveit           ┆ September ┆ 0      │\n",
       "│ Patrick Waage Seljenes ┆ Oktober   ┆ 0      │\n",
       "│ Thomas Thorbjørnsen    ┆ Mai       ┆ 0      │\n",
       "│ Patrick Waage Seljenes ┆ Juni      ┆ 0      │\n",
       "│ Ruben André M. Njøtøy  ┆ Mai       ┆ 0      │\n",
       "│ …                      ┆ …         ┆ …      │\n",
       "│ Sindre Jakobsen        ┆ April     ┆ 4      │\n",
       "│ Sindre Jakobsen        ┆ August    ┆ 5      │\n",
       "│ Thomas Thorbjørnsen    ┆ August    ┆ 5      │\n",
       "│ Yafee Ishraq           ┆ August    ┆ 5      │\n",
       "│ Stian Nyheim           ┆ August    ┆ 5      │\n",
       "└────────────────────────┴───────────┴────────┘"
      ]
     },
     "execution_count": 9,
     "metadata": {},
     "output_type": "execute_result"
    }
   ],
   "source": [
    "(df\n",
    ".group_by('Navn','Måned')\n",
    ".agg(pds.query_longest_streak(pl.col('Deltok')=='Ja').alias('Streak'))\n",
    "#.filter(pl.col('Navn').str.contains('Erlend'))\n",
    ".sort(by = 'Streak')\n",
    ")"
   ]
  },
  {
   "cell_type": "code",
   "execution_count": 44,
   "metadata": {},
   "outputs": [
    {
     "data": {
      "text/html": [
       "<div><style>\n",
       ".dataframe > thead > tr,\n",
       ".dataframe > tbody > tr {\n",
       "  text-align: right;\n",
       "  white-space: pre-wrap;\n",
       "}\n",
       "</style>\n",
       "<small>shape: (21, 8)</small><table border=\"1\" class=\"dataframe\"><thead><tr><th>Dato</th><th>Navn</th><th>Deltok</th><th>Avlyst trening</th><th>År</th><th>Måned</th><th>Dag</th><th>Måned nr</th></tr><tr><td>date</td><td>str</td><td>str</td><td>str</td><td>str</td><td>str</td><td>i64</td><td>i64</td></tr></thead><tbody><tr><td>2024-01-06</td><td>&quot;Erlend Haukefer Hauan&quot;</td><td>&quot;Ja&quot;</td><td>&quot;Ja&quot;</td><td>&quot;2024&quot;</td><td>&quot;Januar&quot;</td><td>6</td><td>1</td></tr><tr><td>2024-02-04</td><td>&quot;Erlend Haukefer Hauan&quot;</td><td>&quot;Nei&quot;</td><td>&quot;Ja&quot;</td><td>&quot;2024&quot;</td><td>&quot;Februar&quot;</td><td>4</td><td>2</td></tr><tr><td>2024-02-17</td><td>&quot;Erlend Haukefer Hauan&quot;</td><td>&quot;Nei&quot;</td><td>&quot;Nei&quot;</td><td>&quot;2024&quot;</td><td>&quot;Februar&quot;</td><td>17</td><td>2</td></tr><tr><td>2024-02-24</td><td>&quot;Erlend Haukefer Hauan&quot;</td><td>&quot;Ja&quot;</td><td>&quot;Nei&quot;</td><td>&quot;2024&quot;</td><td>&quot;Februar&quot;</td><td>24</td><td>2</td></tr><tr><td>2024-03-02</td><td>&quot;Erlend Haukefer Hauan&quot;</td><td>&quot;Ja&quot;</td><td>&quot;Ja&quot;</td><td>&quot;2024&quot;</td><td>&quot;Mars&quot;</td><td>2</td><td>3</td></tr><tr><td>2024-03-08</td><td>&quot;Erlend Haukefer Hauan&quot;</td><td>&quot;Ja&quot;</td><td>&quot;Nei&quot;</td><td>&quot;2024&quot;</td><td>&quot;Mars&quot;</td><td>8</td><td>3</td></tr><tr><td>2024-04-20</td><td>&quot;Erlend Haukefer Hauan&quot;</td><td>&quot;Ja&quot;</td><td>&quot;Nei&quot;</td><td>&quot;2024&quot;</td><td>&quot;April&quot;</td><td>20</td><td>4</td></tr><tr><td>2024-04-28</td><td>&quot;Erlend Haukefer Hauan&quot;</td><td>&quot;Ja&quot;</td><td>&quot;Nei&quot;</td><td>&quot;2024&quot;</td><td>&quot;April&quot;</td><td>28</td><td>4</td></tr><tr><td>2024-05-05</td><td>&quot;Erlend Haukefer Hauan&quot;</td><td>&quot;Ja&quot;</td><td>&quot;Ja&quot;</td><td>&quot;2024&quot;</td><td>&quot;Mai&quot;</td><td>5</td><td>5</td></tr><tr><td>2024-05-12</td><td>&quot;Erlend Haukefer Hauan&quot;</td><td>&quot;Nei&quot;</td><td>&quot;Nei&quot;</td><td>&quot;2024&quot;</td><td>&quot;Mai&quot;</td><td>12</td><td>5</td></tr><tr><td>2024-05-26</td><td>&quot;Erlend Haukefer Hauan&quot;</td><td>&quot;Ja&quot;</td><td>&quot;Nei&quot;</td><td>&quot;2024&quot;</td><td>&quot;Mai&quot;</td><td>26</td><td>5</td></tr><tr><td>2024-05-31</td><td>&quot;Erlend Haukefer Hauan&quot;</td><td>&quot;Ja&quot;</td><td>&quot;Nei&quot;</td><td>&quot;2024&quot;</td><td>&quot;Mai&quot;</td><td>31</td><td>5</td></tr><tr><td>2024-06-09</td><td>&quot;Erlend Haukefer Hauan&quot;</td><td>&quot;Nei&quot;</td><td>&quot;Nei&quot;</td><td>&quot;2024&quot;</td><td>&quot;Juni&quot;</td><td>9</td><td>6</td></tr><tr><td>2024-06-16</td><td>&quot;Erlend Haukefer Hauan&quot;</td><td>&quot;Nei&quot;</td><td>&quot;Ja&quot;</td><td>&quot;2024&quot;</td><td>&quot;Juni&quot;</td><td>16</td><td>6</td></tr><tr><td>2024-06-30</td><td>&quot;Erlend Haukefer Hauan&quot;</td><td>&quot;Ja&quot;</td><td>&quot;Nei&quot;</td><td>&quot;2024&quot;</td><td>&quot;Juni&quot;</td><td>30</td><td>6</td></tr><tr><td>2024-07-06</td><td>&quot;Erlend Haukefer Hauan&quot;</td><td>&quot;Nei&quot;</td><td>&quot;Ja&quot;</td><td>&quot;2024&quot;</td><td>&quot;Juli&quot;</td><td>6</td><td>7</td></tr><tr><td>2024-07-28</td><td>&quot;Erlend Haukefer Hauan&quot;</td><td>&quot;Ja&quot;</td><td>&quot;Nei&quot;</td><td>&quot;2024&quot;</td><td>&quot;Juli&quot;</td><td>28</td><td>7</td></tr><tr><td>2024-08-03</td><td>&quot;Erlend Haukefer Hauan&quot;</td><td>&quot;Ja&quot;</td><td>&quot;Nei&quot;</td><td>&quot;2024&quot;</td><td>&quot;August&quot;</td><td>3</td><td>8</td></tr><tr><td>2024-08-10</td><td>&quot;Erlend Haukefer Hauan&quot;</td><td>&quot;Nei&quot;</td><td>&quot;Nei&quot;</td><td>&quot;2024&quot;</td><td>&quot;August&quot;</td><td>10</td><td>8</td></tr><tr><td>2024-08-25</td><td>&quot;Erlend Haukefer Hauan&quot;</td><td>&quot;Ja&quot;</td><td>&quot;Nei&quot;</td><td>&quot;2024&quot;</td><td>&quot;August&quot;</td><td>25</td><td>8</td></tr><tr><td>2024-08-31</td><td>&quot;Erlend Haukefer Hauan&quot;</td><td>&quot;Ja&quot;</td><td>&quot;Nei&quot;</td><td>&quot;2024&quot;</td><td>&quot;August&quot;</td><td>31</td><td>8</td></tr></tbody></table></div>"
      ],
      "text/plain": [
       "shape: (21, 8)\n",
       "┌────────────┬───────────────────────┬────────┬────────────────┬──────┬─────────┬─────┬──────────┐\n",
       "│ Dato       ┆ Navn                  ┆ Deltok ┆ Avlyst trening ┆ År   ┆ Måned   ┆ Dag ┆ Måned nr │\n",
       "│ ---        ┆ ---                   ┆ ---    ┆ ---            ┆ ---  ┆ ---     ┆ --- ┆ ---      │\n",
       "│ date       ┆ str                   ┆ str    ┆ str            ┆ str  ┆ str     ┆ i64 ┆ i64      │\n",
       "╞════════════╪═══════════════════════╪════════╪════════════════╪══════╪═════════╪═════╪══════════╡\n",
       "│ 2024-01-06 ┆ Erlend Haukefer Hauan ┆ Ja     ┆ Ja             ┆ 2024 ┆ Januar  ┆ 6   ┆ 1        │\n",
       "│ 2024-02-04 ┆ Erlend Haukefer Hauan ┆ Nei    ┆ Ja             ┆ 2024 ┆ Februar ┆ 4   ┆ 2        │\n",
       "│ 2024-02-17 ┆ Erlend Haukefer Hauan ┆ Nei    ┆ Nei            ┆ 2024 ┆ Februar ┆ 17  ┆ 2        │\n",
       "│ 2024-02-24 ┆ Erlend Haukefer Hauan ┆ Ja     ┆ Nei            ┆ 2024 ┆ Februar ┆ 24  ┆ 2        │\n",
       "│ 2024-03-02 ┆ Erlend Haukefer Hauan ┆ Ja     ┆ Ja             ┆ 2024 ┆ Mars    ┆ 2   ┆ 3        │\n",
       "│ 2024-03-08 ┆ Erlend Haukefer Hauan ┆ Ja     ┆ Nei            ┆ 2024 ┆ Mars    ┆ 8   ┆ 3        │\n",
       "│ 2024-04-20 ┆ Erlend Haukefer Hauan ┆ Ja     ┆ Nei            ┆ 2024 ┆ April   ┆ 20  ┆ 4        │\n",
       "│ 2024-04-28 ┆ Erlend Haukefer Hauan ┆ Ja     ┆ Nei            ┆ 2024 ┆ April   ┆ 28  ┆ 4        │\n",
       "│ 2024-05-05 ┆ Erlend Haukefer Hauan ┆ Ja     ┆ Ja             ┆ 2024 ┆ Mai     ┆ 5   ┆ 5        │\n",
       "│ 2024-05-12 ┆ Erlend Haukefer Hauan ┆ Nei    ┆ Nei            ┆ 2024 ┆ Mai     ┆ 12  ┆ 5        │\n",
       "│ 2024-05-26 ┆ Erlend Haukefer Hauan ┆ Ja     ┆ Nei            ┆ 2024 ┆ Mai     ┆ 26  ┆ 5        │\n",
       "│ 2024-05-31 ┆ Erlend Haukefer Hauan ┆ Ja     ┆ Nei            ┆ 2024 ┆ Mai     ┆ 31  ┆ 5        │\n",
       "│ 2024-06-09 ┆ Erlend Haukefer Hauan ┆ Nei    ┆ Nei            ┆ 2024 ┆ Juni    ┆ 9   ┆ 6        │\n",
       "│ 2024-06-16 ┆ Erlend Haukefer Hauan ┆ Nei    ┆ Ja             ┆ 2024 ┆ Juni    ┆ 16  ┆ 6        │\n",
       "│ 2024-06-30 ┆ Erlend Haukefer Hauan ┆ Ja     ┆ Nei            ┆ 2024 ┆ Juni    ┆ 30  ┆ 6        │\n",
       "│ 2024-07-06 ┆ Erlend Haukefer Hauan ┆ Nei    ┆ Ja             ┆ 2024 ┆ Juli    ┆ 6   ┆ 7        │\n",
       "│ 2024-07-28 ┆ Erlend Haukefer Hauan ┆ Ja     ┆ Nei            ┆ 2024 ┆ Juli    ┆ 28  ┆ 7        │\n",
       "│ 2024-08-03 ┆ Erlend Haukefer Hauan ┆ Ja     ┆ Nei            ┆ 2024 ┆ August  ┆ 3   ┆ 8        │\n",
       "│ 2024-08-10 ┆ Erlend Haukefer Hauan ┆ Nei    ┆ Nei            ┆ 2024 ┆ August  ┆ 10  ┆ 8        │\n",
       "│ 2024-08-25 ┆ Erlend Haukefer Hauan ┆ Ja     ┆ Nei            ┆ 2024 ┆ August  ┆ 25  ┆ 8        │\n",
       "│ 2024-08-31 ┆ Erlend Haukefer Hauan ┆ Ja     ┆ Nei            ┆ 2024 ┆ August  ┆ 31  ┆ 8        │\n",
       "└────────────┴───────────────────────┴────────┴────────────────┴──────┴─────────┴─────┴──────────┘"
      ]
     },
     "execution_count": 44,
     "metadata": {},
     "output_type": "execute_result"
    }
   ],
   "source": [
    "pl.Config(tbl_rows=50)\n",
    "df.filter(pl.col('Navn')=='Erlend Haukefer Hauan')"
   ]
  },
  {
   "cell_type": "code",
   "execution_count": null,
   "metadata": {},
   "outputs": [],
   "source": []
  },
  {
   "cell_type": "code",
   "execution_count": 36,
   "metadata": {},
   "outputs": [
    {
     "data": {
      "text/plain": [
       "<Axes: xlabel='Antall treninger', ylabel='Count'>"
      ]
     },
     "execution_count": 36,
     "metadata": {},
     "output_type": "execute_result"
    },
    {
     "data": {
      "image/png": "[encoded data removed]",
      "text/plain": [
       "<Figure size 640x480 with 1 Axes>"
      ]
     },
     "metadata": {},
     "output_type": "display_data"
    }
   ],
   "source": [
    "antall_treninger_deltaker = df.filter(pl.col('Avlyst trening')=='Nei').group_by('Navn','Måned').agg(pl.col('Dato').n_unique().alias('Antall treninger'))\n",
    "\n",
    "fig, ax = plt.subplots()\n",
    "sns.histplot(data = antall_treninger_deltaker.to_pandas(),x='Antall treninger',ax = ax)\n",
    "\n",
    "# Roter x-labels\n",
    "#ax.tick_params(axis='x', rotation=50)\n",
    "#ax.set_ylabel(\"\")\n",
    "#ax.yaxis.set_major_locator(MaxNLocator(integer=True))\n",
    "#ax.set_title('Antall treninger per måned')"
   ]
  },
  {
   "cell_type": "code",
   "execution_count": 30,
   "metadata": {},
   "outputs": [
    {
     "data": {
      "text/html": [
       "<div><style>\n",
       ".dataframe > thead > tr,\n",
       ".dataframe > tbody > tr {\n",
       "  text-align: right;\n",
       "  white-space: pre-wrap;\n",
       "}\n",
       "</style>\n",
       "<small>shape: (2, 3)</small><table border=\"1\" class=\"dataframe\"><thead><tr><th>Måned</th><th>variable</th><th>value</th></tr><tr><td>str</td><td>str</td><td>u32</td></tr></thead><tbody><tr><td>&quot;April&quot;</td><td>&quot;Antall avlyste treninger&quot;</td><td>3</td></tr><tr><td>&quot;April&quot;</td><td>&quot;Antall treninger&quot;</td><td>3</td></tr></tbody></table></div>"
      ],
      "text/plain": [
       "shape: (2, 3)\n",
       "┌───────┬──────────────────────────┬───────┐\n",
       "│ Måned ┆ variable                 ┆ value │\n",
       "│ ---   ┆ ---                      ┆ ---   │\n",
       "│ str   ┆ str                      ┆ u32   │\n",
       "╞═══════╪══════════════════════════╪═══════╡\n",
       "│ April ┆ Antall avlyste treninger ┆ 3     │\n",
       "│ April ┆ Antall treninger         ┆ 3     │\n",
       "└───────┴──────────────────────────┴───────┘"
      ]
     },
     "execution_count": 30,
     "metadata": {},
     "output_type": "execute_result"
    }
   ],
   "source": [
    "antall_treninger.filter(pl.col('Måned')=='April')"
   ]
  },
  {
   "cell_type": "code",
   "execution_count": 6,
   "metadata": {},
   "outputs": [
    {
     "data": {
      "text/html": [
       "<div><style>\n",
       ".dataframe > thead > tr,\n",
       ".dataframe > tbody > tr {\n",
       "  text-align: right;\n",
       "  white-space: pre-wrap;\n",
       "}\n",
       "</style>\n",
       "<small>shape: (30, 3)</small><table border=\"1\" class=\"dataframe\"><thead><tr><th>Navn</th><th>Antall treninger</th><th>Andel treninger</th></tr><tr><td>str</td><td>u32</td><td>f64</td></tr></thead><tbody><tr><td>&quot;Håkon Halvorsen&quot;</td><td>1</td><td>0.5</td></tr><tr><td>&quot;Magnus Alexander Gjerde Bevan&quot;</td><td>2</td><td>0.5</td></tr><tr><td>&quot;Ahmed Abusaada&quot;</td><td>4</td><td>0.8</td></tr><tr><td>&quot;Markus Bjånesøy&quot;</td><td>4</td><td>0.210526</td></tr><tr><td>&quot;Helge Håvås&quot;</td><td>5</td><td>0.833333</td></tr><tr><td>&hellip;</td><td>&hellip;</td><td>&hellip;</td></tr><tr><td>&quot;Adrian S.Larsen&quot;</td><td>2</td><td>0.5</td></tr><tr><td>&quot;Magnus Jensen&quot;</td><td>0</td><td>0.0</td></tr><tr><td>&quot;Sondre Foldenes Gangdal&quot;</td><td>0</td><td>0.0</td></tr><tr><td>&quot;Joakim Rasdal&quot;</td><td>1</td><td>0.142857</td></tr><tr><td>&quot;Ruben André M. Njøtøy&quot;</td><td>9</td><td>0.310345</td></tr></tbody></table></div>"
      ],
      "text/plain": [
       "shape: (30, 3)\n",
       "┌───────────────────────────────┬──────────────────┬─────────────────┐\n",
       "│ Navn                          ┆ Antall treninger ┆ Andel treninger │\n",
       "│ ---                           ┆ ---              ┆ ---             │\n",
       "│ str                           ┆ u32              ┆ f64             │\n",
       "╞═══════════════════════════════╪══════════════════╪═════════════════╡\n",
       "│ Håkon Halvorsen               ┆ 1                ┆ 0.5             │\n",
       "│ Magnus Alexander Gjerde Bevan ┆ 2                ┆ 0.5             │\n",
       "│ Ahmed Abusaada                ┆ 4                ┆ 0.8             │\n",
       "│ Markus Bjånesøy               ┆ 4                ┆ 0.210526        │\n",
       "│ Helge Håvås                   ┆ 5                ┆ 0.833333        │\n",
       "│ …                             ┆ …                ┆ …               │\n",
       "│ Adrian S.Larsen               ┆ 2                ┆ 0.5             │\n",
       "│ Magnus Jensen                 ┆ 0                ┆ 0.0             │\n",
       "│ Sondre Foldenes Gangdal       ┆ 0                ┆ 0.0             │\n",
       "│ Joakim Rasdal                 ┆ 1                ┆ 0.142857        │\n",
       "│ Ruben André M. Njøtøy         ┆ 9                ┆ 0.310345        │\n",
       "└───────────────────────────────┴──────────────────┴─────────────────┘"
      ]
     },
     "execution_count": 6,
     "metadata": {},
     "output_type": "execute_result"
    }
   ],
   "source": [
    "(df\n",
    ".group_by('Navn')\n",
    ".agg(\n",
    "     pl.col('Dato').filter(pl.col('Deltok')=='Ja').n_unique().alias('Antall treninger'),\n",
    "     pl.col('Dato')\n",
    "     .filter(pl.col('Deltok')=='Ja')\n",
    "     .n_unique()\n",
    "     .truediv(pl.col('Dato').n_unique())\n",
    "     .alias('Andel treninger'))\n",
    "#.sort(by = ['Antall treninger'])\n",
    ")"
   ]
  },
  {
   "cell_type": "code",
   "execution_count": 18,
   "metadata": {},
   "outputs": [
    {
     "data": {
      "text/html": [
       "<div><style>\n",
       ".dataframe > thead > tr,\n",
       ".dataframe > tbody > tr {\n",
       "  text-align: right;\n",
       "  white-space: pre-wrap;\n",
       "}\n",
       "</style>\n",
       "<small>shape: (399, 8)</small><table border=\"1\" class=\"dataframe\"><thead><tr><th>Dato</th><th>Navn</th><th>Deltok</th><th>Avlyst trening</th><th>År</th><th>Måned</th><th>Dag</th><th>Måned nr</th></tr><tr><td>date</td><td>str</td><td>str</td><td>str</td><td>str</td><td>str</td><td>i64</td><td>i64</td></tr></thead><tbody><tr><td>2024-02-17</td><td>&quot;Adrian S.Larsen&quot;</td><td>&quot;Ja&quot;</td><td>&quot;Nei&quot;</td><td>&quot;2024&quot;</td><td>&quot;Februar&quot;</td><td>17</td><td>2</td></tr><tr><td>2024-02-24</td><td>&quot;Adrian S.Larsen&quot;</td><td>&quot;Ja&quot;</td><td>&quot;Nei&quot;</td><td>&quot;2024&quot;</td><td>&quot;Februar&quot;</td><td>24</td><td>2</td></tr><tr><td>2024-03-02</td><td>&quot;Adrian S.Larsen&quot;</td><td>&quot;Nei&quot;</td><td>&quot;Ja&quot;</td><td>&quot;2024&quot;</td><td>&quot;Mars&quot;</td><td>2</td><td>3</td></tr><tr><td>2024-03-08</td><td>&quot;Adrian S.Larsen&quot;</td><td>&quot;Nei&quot;</td><td>&quot;Nei&quot;</td><td>&quot;2024&quot;</td><td>&quot;Mars&quot;</td><td>8</td><td>3</td></tr><tr><td>2024-07-28</td><td>&quot;Adrian Torvund&quot;</td><td>&quot;Ja&quot;</td><td>&quot;Nei&quot;</td><td>&quot;2024&quot;</td><td>&quot;Juli&quot;</td><td>28</td><td>7</td></tr><tr><td>&hellip;</td><td>&hellip;</td><td>&hellip;</td><td>&hellip;</td><td>&hellip;</td><td>&hellip;</td><td>&hellip;</td><td>&hellip;</td></tr><tr><td>2024-10-02</td><td>&quot;Yafee Ishraq&quot;</td><td>&quot;Ja&quot;</td><td>&quot;Ja&quot;</td><td>&quot;2024&quot;</td><td>&quot;Oktober&quot;</td><td>2</td><td>10</td></tr><tr><td>2024-10-08</td><td>&quot;Yafee Ishraq&quot;</td><td>&quot;Ja&quot;</td><td>&quot;Ja&quot;</td><td>&quot;2024&quot;</td><td>&quot;Oktober&quot;</td><td>8</td><td>10</td></tr><tr><td>2024-10-30</td><td>&quot;Yafee Ishraq&quot;</td><td>&quot;Ja&quot;</td><td>&quot;Nei&quot;</td><td>&quot;2024&quot;</td><td>&quot;Oktober&quot;</td><td>30</td><td>10</td></tr><tr><td>2024-11-04</td><td>&quot;Yafee Ishraq&quot;</td><td>&quot;Ja&quot;</td><td>&quot;Ja&quot;</td><td>&quot;2024&quot;</td><td>&quot;November&quot;</td><td>4</td><td>11</td></tr><tr><td>2024-11-12</td><td>&quot;Yafee Ishraq&quot;</td><td>&quot;Ja&quot;</td><td>&quot;Ja&quot;</td><td>&quot;2024&quot;</td><td>&quot;November&quot;</td><td>12</td><td>11</td></tr></tbody></table></div>"
      ],
      "text/plain": [
       "shape: (399, 8)\n",
       "┌────────────┬─────────────────┬────────┬────────────────┬──────┬──────────┬─────┬──────────┐\n",
       "│ Dato       ┆ Navn            ┆ Deltok ┆ Avlyst trening ┆ År   ┆ Måned    ┆ Dag ┆ Måned nr │\n",
       "│ ---        ┆ ---             ┆ ---    ┆ ---            ┆ ---  ┆ ---      ┆ --- ┆ ---      │\n",
       "│ date       ┆ str             ┆ str    ┆ str            ┆ str  ┆ str      ┆ i64 ┆ i64      │\n",
       "╞════════════╪═════════════════╪════════╪════════════════╪══════╪══════════╪═════╪══════════╡\n",
       "│ 2024-02-17 ┆ Adrian S.Larsen ┆ Ja     ┆ Nei            ┆ 2024 ┆ Februar  ┆ 17  ┆ 2        │\n",
       "│ 2024-02-24 ┆ Adrian S.Larsen ┆ Ja     ┆ Nei            ┆ 2024 ┆ Februar  ┆ 24  ┆ 2        │\n",
       "│ 2024-03-02 ┆ Adrian S.Larsen ┆ Nei    ┆ Ja             ┆ 2024 ┆ Mars     ┆ 2   ┆ 3        │\n",
       "│ 2024-03-08 ┆ Adrian S.Larsen ┆ Nei    ┆ Nei            ┆ 2024 ┆ Mars     ┆ 8   ┆ 3        │\n",
       "│ 2024-07-28 ┆ Adrian Torvund  ┆ Ja     ┆ Nei            ┆ 2024 ┆ Juli     ┆ 28  ┆ 7        │\n",
       "│ …          ┆ …               ┆ …      ┆ …              ┆ …    ┆ …        ┆ …   ┆ …        │\n",
       "│ 2024-10-02 ┆ Yafee Ishraq    ┆ Ja     ┆ Ja             ┆ 2024 ┆ Oktober  ┆ 2   ┆ 10       │\n",
       "│ 2024-10-08 ┆ Yafee Ishraq    ┆ Ja     ┆ Ja             ┆ 2024 ┆ Oktober  ┆ 8   ┆ 10       │\n",
       "│ 2024-10-30 ┆ Yafee Ishraq    ┆ Ja     ┆ Nei            ┆ 2024 ┆ Oktober  ┆ 30  ┆ 10       │\n",
       "│ 2024-11-04 ┆ Yafee Ishraq    ┆ Ja     ┆ Ja             ┆ 2024 ┆ November ┆ 4   ┆ 11       │\n",
       "│ 2024-11-12 ┆ Yafee Ishraq    ┆ Ja     ┆ Ja             ┆ 2024 ┆ November ┆ 12  ┆ 11       │\n",
       "└────────────┴─────────────────┴────────┴────────────────┴──────┴──────────┴─────┴──────────┘"
      ]
     },
     "execution_count": 18,
     "metadata": {},
     "output_type": "execute_result"
    }
   ],
   "source": [
    "df.sort(by = ['Navn', 'Dato'])"
   ]
  },
  {
   "cell_type": "markdown",
   "metadata": {},
   "source": [
    "Databearbehandling"
   ]
  },
  {
   "cell_type": "code",
   "execution_count": null,
   "metadata": {},
   "outputs": [
    {
     "data": {
      "text/html": [
       "<div><style>\n",
       ".dataframe > thead > tr,\n",
       ".dataframe > tbody > tr {\n",
       "  text-align: right;\n",
       "  white-space: pre-wrap;\n",
       "}\n",
       "</style>\n",
       "<small>shape: (4, 8)</small><table border=\"1\" class=\"dataframe\"><thead><tr><th>Dato</th><th>Navn</th><th>Deltok</th><th>Avlyst trening</th><th>År</th><th>Måned</th><th>Dag</th><th>Måned nr</th></tr><tr><td>date</td><td>str</td><td>str</td><td>str</td><td>str</td><td>str</td><td>i64</td><td>i64</td></tr></thead><tbody><tr><td>2024-02-17</td><td>&quot;Adrian S.Larsen&quot;</td><td>&quot;Ja&quot;</td><td>&quot;Nei&quot;</td><td>&quot;2024&quot;</td><td>&quot;Februar&quot;</td><td>17</td><td>2</td></tr><tr><td>2024-02-24</td><td>&quot;Adrian S.Larsen&quot;</td><td>&quot;Ja&quot;</td><td>&quot;Nei&quot;</td><td>&quot;2024&quot;</td><td>&quot;Februar&quot;</td><td>24</td><td>2</td></tr><tr><td>2024-03-02</td><td>&quot;Adrian S.Larsen&quot;</td><td>&quot;Nei&quot;</td><td>&quot;Ja&quot;</td><td>&quot;2024&quot;</td><td>&quot;Mars&quot;</td><td>2</td><td>3</td></tr><tr><td>2024-03-08</td><td>&quot;Adrian S.Larsen&quot;</td><td>&quot;Nei&quot;</td><td>&quot;Nei&quot;</td><td>&quot;2024&quot;</td><td>&quot;Mars&quot;</td><td>8</td><td>3</td></tr></tbody></table></div>"
      ],
      "text/plain": [
       "shape: (4, 8)\n",
       "┌────────────┬─────────────────┬────────┬────────────────┬──────┬─────────┬─────┬──────────┐\n",
       "│ Dato       ┆ Navn            ┆ Deltok ┆ Avlyst trening ┆ År   ┆ Måned   ┆ Dag ┆ Måned nr │\n",
       "│ ---        ┆ ---             ┆ ---    ┆ ---            ┆ ---  ┆ ---     ┆ --- ┆ ---      │\n",
       "│ date       ┆ str             ┆ str    ┆ str            ┆ str  ┆ str     ┆ i64 ┆ i64      │\n",
       "╞════════════╪═════════════════╪════════╪════════════════╪══════╪═════════╪═════╪══════════╡\n",
       "│ 2024-02-17 ┆ Adrian S.Larsen ┆ Ja     ┆ Nei            ┆ 2024 ┆ Februar ┆ 17  ┆ 2        │\n",
       "│ 2024-02-24 ┆ Adrian S.Larsen ┆ Ja     ┆ Nei            ┆ 2024 ┆ Februar ┆ 24  ┆ 2        │\n",
       "│ 2024-03-02 ┆ Adrian S.Larsen ┆ Nei    ┆ Ja             ┆ 2024 ┆ Mars    ┆ 2   ┆ 3        │\n",
       "│ 2024-03-08 ┆ Adrian S.Larsen ┆ Nei    ┆ Nei            ┆ 2024 ┆ Mars    ┆ 8   ┆ 3        │\n",
       "└────────────┴─────────────────┴────────┴────────────────┴──────┴─────────┴─────┴──────────┘"
      ]
     },
     "execution_count": 7,
     "metadata": {},
     "output_type": "execute_result"
    }
   ],
   "source": [
    "df.filter(pl.col('Navn')==\"Adrian S.Larsen\")"
   ]
  },
  {
   "cell_type": "code",
   "execution_count": null,
   "metadata": {},
   "outputs": [
    {
     "data": {
      "text/html": [
       "<div><style>\n",
       ".dataframe > thead > tr,\n",
       ".dataframe > tbody > tr {\n",
       "  text-align: right;\n",
       "  white-space: pre-wrap;\n",
       "}\n",
       "</style>\n",
       "<small>shape: (19, 2)</small><table border=\"1\" class=\"dataframe\"><thead><tr><th>Navn</th><th>Antall treninger</th></tr><tr><td>str</td><td>u32</td></tr></thead><tbody><tr><td>&quot;Kristoffer Fauskanger&quot;</td><td>10</td></tr><tr><td>&quot;Carlos Tveit&quot;</td><td>9</td></tr><tr><td>&quot;Jørgen Vassenden&quot;</td><td>9</td></tr><tr><td>&quot;Sindre Jakobsen&quot;</td><td>9</td></tr><tr><td>&quot;Sindre Haukefer Hauan&quot;</td><td>9</td></tr><tr><td>&hellip;</td><td>&hellip;</td></tr><tr><td>&quot;Thomas Thorbjørnsen&quot;</td><td>2</td></tr><tr><td>&quot;Adrian S.Larsen&quot;</td><td>2</td></tr><tr><td>&quot;Håkon Halvorsen&quot;</td><td>1</td></tr><tr><td>&quot;Thomas Syversen&quot;</td><td>1</td></tr><tr><td>&quot;Markus Bjånesøy&quot;</td><td>1</td></tr></tbody></table></div>"
      ],
      "text/plain": [
       "shape: (19, 2)\n",
       "┌───────────────────────┬──────────────────┐\n",
       "│ Navn                  ┆ Antall treninger │\n",
       "│ ---                   ┆ ---              │\n",
       "│ str                   ┆ u32              │\n",
       "╞═══════════════════════╪══════════════════╡\n",
       "│ Kristoffer Fauskanger ┆ 10               │\n",
       "│ Carlos Tveit          ┆ 9                │\n",
       "│ Jørgen Vassenden      ┆ 9                │\n",
       "│ Sindre Jakobsen       ┆ 9                │\n",
       "│ Sindre Haukefer Hauan ┆ 9                │\n",
       "│ …                     ┆ …                │\n",
       "│ Thomas Thorbjørnsen   ┆ 2                │\n",
       "│ Adrian S.Larsen       ┆ 2                │\n",
       "│ Håkon Halvorsen       ┆ 1                │\n",
       "│ Thomas Syversen       ┆ 1                │\n",
       "│ Markus Bjånesøy       ┆ 1                │\n",
       "└───────────────────────┴──────────────────┘"
      ]
     },
     "execution_count": 8,
     "metadata": {},
     "output_type": "execute_result"
    }
   ],
   "source": [
    "(df\n",
    ".filter(pl.col('Avlyst trening')=='Nei',\n",
    "        pl.col('Deltok')=='Ja')\n",
    ".group_by('Navn')\n",
    ".agg(pl.col('Dato').n_unique().alias('Antall treninger'))\n",
    ".sort(by = ['Antall treninger'],descending=True)\n",
    ")"
   ]
  },
  {
   "cell_type": "code",
   "execution_count": null,
   "metadata": {},
   "outputs": [
    {
     "data": {
      "text/html": [
       "<div><style>\n",
       ".dataframe > thead > tr,\n",
       ".dataframe > tbody > tr {\n",
       "  text-align: right;\n",
       "  white-space: pre-wrap;\n",
       "}\n",
       "</style>\n",
       "<small>shape: (425, 3)</small><table border=\"1\" class=\"dataframe\"><thead><tr><th>kombi</th><th>Antall treninger</th><th>Kombinasjon</th></tr><tr><td>list[str]</td><td>u32</td><td>str</td></tr></thead><tbody><tr><td>[&quot;Kristoffer Fauskanger&quot;, &quot;Sindre Haukefer Hauan&quot;, &quot;Sindre Jakobsen&quot;]</td><td>8</td><td>&quot;Kristoffer Fauskanger,Sindre H…</td></tr><tr><td>[&quot;Jørgen Vassenden&quot;, &quot;Sindre Haukefer Hauan&quot;, &quot;Sindre Jakobsen&quot;]</td><td>7</td><td>&quot;Jørgen Vassenden,Sindre Haukef…</td></tr><tr><td>[&quot;Carlos Tveit&quot;, &quot;Kristoffer Fauskanger&quot;, &quot;Sindre Jakobsen&quot;]</td><td>7</td><td>&quot;Carlos Tveit,Kristoffer Fauska…</td></tr><tr><td>[&quot;Jørgen Vassenden&quot;, &quot;Kristoffer Fauskanger&quot;, &quot;Sindre Jakobsen&quot;]</td><td>7</td><td>&quot;Jørgen Vassenden,Kristoffer Fa…</td></tr><tr><td>[&quot;Jørgen Vassenden&quot;, &quot;Kristoffer Fauskanger&quot;, &quot;Sindre Haukefer Hauan&quot;]</td><td>7</td><td>&quot;Jørgen Vassenden,Kristoffer Fa…</td></tr><tr><td>&hellip;</td><td>&hellip;</td><td>&hellip;</td></tr><tr><td>[&quot;Magnus Alexander Gjerde Bevan&quot;, &quot;Sindre Jakobsen&quot;, &quot;Stian Nyheim&quot;]</td><td>1</td><td>&quot;Magnus Alexander Gjerde Bevan,…</td></tr><tr><td>[&quot;Carlos Tveit&quot;, &quot;Jørgen Vassenden&quot;, &quot;Thomas Thorbjørnsen&quot;]</td><td>1</td><td>&quot;Carlos Tveit,Jørgen Vassenden,…</td></tr><tr><td>[&quot;Jørgen Vassenden&quot;, &quot;Stian Nyheim&quot;, &quot;Thomas Syversen&quot;]</td><td>1</td><td>&quot;Jørgen Vassenden,Stian Nyheim,…</td></tr><tr><td>[&quot;Bjørn Nilsen&quot;, &quot;Ruben André M. Njøtøy&quot;, &quot;Sindre Jakobsen&quot;]</td><td>1</td><td>&quot;Bjørn Nilsen,Ruben André M. Nj…</td></tr><tr><td>[&quot;Bjørn Nilsen&quot;, &quot;Kristoffer Fauskanger&quot;, &quot;Thomas Thorbjørnsen&quot;]</td><td>1</td><td>&quot;Bjørn Nilsen,Kristoffer Fauska…</td></tr></tbody></table></div>"
      ],
      "text/plain": [
       "shape: (425, 3)\n",
       "┌─────────────────────────────────┬──────────────────┬─────────────────────────────────┐\n",
       "│ kombi                           ┆ Antall treninger ┆ Kombinasjon                     │\n",
       "│ ---                             ┆ ---              ┆ ---                             │\n",
       "│ list[str]                       ┆ u32              ┆ str                             │\n",
       "╞═════════════════════════════════╪══════════════════╪═════════════════════════════════╡\n",
       "│ [\"Kristoffer Fauskanger\", \"Sin… ┆ 8                ┆ Kristoffer Fauskanger,Sindre H… │\n",
       "│ [\"Jørgen Vassenden\", \"Sindre H… ┆ 7                ┆ Jørgen Vassenden,Sindre Haukef… │\n",
       "│ [\"Carlos Tveit\", \"Kristoffer F… ┆ 7                ┆ Carlos Tveit,Kristoffer Fauska… │\n",
       "│ [\"Jørgen Vassenden\", \"Kristoff… ┆ 7                ┆ Jørgen Vassenden,Kristoffer Fa… │\n",
       "│ [\"Jørgen Vassenden\", \"Kristoff… ┆ 7                ┆ Jørgen Vassenden,Kristoffer Fa… │\n",
       "│ …                               ┆ …                ┆ …                               │\n",
       "│ [\"Magnus Alexander Gjerde Beva… ┆ 1                ┆ Magnus Alexander Gjerde Bevan,… │\n",
       "│ [\"Carlos Tveit\", \"Jørgen Vasse… ┆ 1                ┆ Carlos Tveit,Jørgen Vassenden,… │\n",
       "│ [\"Jørgen Vassenden\", \"Stian Ny… ┆ 1                ┆ Jørgen Vassenden,Stian Nyheim,… │\n",
       "│ [\"Bjørn Nilsen\", \"Ruben André … ┆ 1                ┆ Bjørn Nilsen,Ruben André M. Nj… │\n",
       "│ [\"Bjørn Nilsen\", \"Kristoffer F… ┆ 1                ┆ Bjørn Nilsen,Kristoffer Fauska… │\n",
       "└─────────────────────────────────┴──────────────────┴─────────────────────────────────┘"
      ]
     },
     "execution_count": 6,
     "metadata": {},
     "output_type": "execute_result"
    }
   ],
   "source": [
    "(df\n",
    ".filter(pl.col('Avlyst trening')=='Nei',\n",
    "        pl.col('Deltok')=='Ja')\n",
    ".select('Dato','Navn')\n",
    ".unique()\n",
    ".group_by('Dato')\n",
    ".agg(pl.col('Navn').alias('navn_1'),\n",
    "     pl.col('Navn').alias('navn_2'),\n",
    "     pl.col('Navn').alias('navn_3')\n",
    ")\n",
    "\n",
    "# Finner 3 kombinasjoner\n",
    ".explode('navn_1')\n",
    ".explode('navn_2')\n",
    ".explode('navn_3')\n",
    "\n",
    "# Skal samle alle navnene i en liste for å telle unike navn. Skal fjerne lister som har kun ett navn        \n",
    ".with_columns(pl.concat_str(['navn_1', 'navn_2', 'navn_3'], separator=',').str.split(\",\").alias('kombi'))\n",
    "\n",
    "# Sorterer liste\n",
    ".with_columns(pl.col('kombi').list.sort())\n",
    "\n",
    "# Filtrerer på lister som har 3 unike navn (etter at duplikater er fjernet)\n",
    ".filter(pl.col('kombi').lbist.unique().list.n_unique()==3)\n",
    ".group_by('kombi')\n",
    ".agg(pl.col('Dato').n_unique().alias('Antall treninger'))\n",
    ".sort(by = ['Antall treninger'],descending=True)\n",
    ".with_columns(pl.col('kombi').list.join(\",\").alias('Kombinasjon'))\n",
    ")"
   ]
  },
  {
   "cell_type": "code",
   "execution_count": null,
   "metadata": {},
   "outputs": [],
   "source": [
    "\n",
    "\n",
    "# Funksjon for å få statistikk på kombinasjoner. Dersom antall_kombinasjon er lik 3 betyr det at vi er interessert i tripplett\n",
    "def kombi_statistikk(antall_kombinasjon):\n",
    "\n",
    " # Lager antall navn expr\n",
    " navn_init =[f'navn_{i+1}' for i in range(antall_kombinasjon)]\n",
    " navn_expr = [pl.col('Navn').alias(f'navn_{i+1}') for i in range(antall_kombinasjon)]\n",
    " \n",
    " # Initialiserer datasett\n",
    " df_init = (df\n",
    " .filter(pl.col('Avlyst trening')=='Nei',\n",
    "         pl.col('Deltok')=='Ja')\n",
    " .select('Dato','Navn')\n",
    " .unique()\n",
    " .group_by('Dato')\n",
    " .agg(*navn_expr)\n",
    " )\n",
    " \n",
    " # Exploder df for å finne alle kombinasjoner \n",
    " for i in range(antall_kombinasjon):\n",
    "    df_init = df_init.explode(navn_init[i])\n",
    " \n",
    " # Fjerner duplikater \n",
    " df_kombi = (\n",
    " \n",
    " df_init\n",
    " \n",
    " # Skal samle alle navnene i en liste for å telle unike navn. Skal fjerne lister som har kun ett navn        \n",
    " .with_columns(pl.concat_str(*navn_init, separator=',').str.split(\",\").alias('kombi'))\n",
    " \n",
    " # Sorterer liste\n",
    " .with_columns(pl.col('kombi').list.sort())\n",
    " \n",
    " # Filtrerer på lister som har x antall unike navn (etter at duplikater er fjernet)\n",
    " .filter(pl.col('kombi').list.unique().list.n_unique()==antall_kombinasjon)\n",
    " .group_by('kombi')\n",
    " .agg(pl.col('Dato').n_unique().alias('Antall treninger'))\n",
    " .sort(by = ['Antall treninger'],descending=True)\n",
    " .with_columns(pl.col('kombi').list.join(\",\").alias('Kombinasjon'))\n",
    " .select('Kombinasjon','Antall treninger')\n",
    " \n",
    " )\n",
    "\n",
    " return df_kombi\n",
    "\n"
   ]
  },
  {
   "cell_type": "code",
   "execution_count": null,
   "metadata": {},
   "outputs": [],
   "source": [
    "df_kombi = kombi_statistikk(3)"
   ]
  },
  {
   "cell_type": "code",
   "execution_count": null,
   "metadata": {},
   "outputs": [
    {
     "data": {
      "text/html": [
       "<div><style>\n",
       ".dataframe > thead > tr,\n",
       ".dataframe > tbody > tr {\n",
       "  text-align: right;\n",
       "  white-space: pre-wrap;\n",
       "}\n",
       "</style>\n",
       "<small>shape: (92, 2)</small><table border=\"1\" class=\"dataframe\"><thead><tr><th>Kombinasjon</th><th>Antall treninger</th></tr><tr><td>str</td><td>u32</td></tr></thead><tbody><tr><td>&quot;Erlend Haukefer Hauan,Kristoff…</td><td>6</td></tr><tr><td>&quot;Carlos Tveit,Erlend Haukefer H…</td><td>5</td></tr><tr><td>&quot;Erlend Haukefer Hauan,Kristoff…</td><td>5</td></tr><tr><td>&quot;Erlend Haukefer Hauan,Sindre H…</td><td>5</td></tr><tr><td>&quot;Carlos Tveit,Erlend Haukefer H…</td><td>5</td></tr><tr><td>&hellip;</td><td>&hellip;</td></tr><tr><td>&quot;Carlos Tveit,Erlend Haukefer H…</td><td>1</td></tr><tr><td>&quot;Bjørn Hisdal,Erlend Haukefer H…</td><td>1</td></tr><tr><td>&quot;Erlend Haukefer Hauan,Sindre H…</td><td>1</td></tr><tr><td>&quot;Erlend Haukefer Hauan,Jørgen V…</td><td>1</td></tr><tr><td>&quot;Erlend Haukefer Hauan,Helge Hå…</td><td>1</td></tr></tbody></table></div>"
      ],
      "text/plain": [
       "shape: (92, 2)\n",
       "┌─────────────────────────────────┬──────────────────┐\n",
       "│ Kombinasjon                     ┆ Antall treninger │\n",
       "│ ---                             ┆ ---              │\n",
       "│ str                             ┆ u32              │\n",
       "╞═════════════════════════════════╪══════════════════╡\n",
       "│ Erlend Haukefer Hauan,Kristoff… ┆ 6                │\n",
       "│ Carlos Tveit,Erlend Haukefer H… ┆ 5                │\n",
       "│ Erlend Haukefer Hauan,Kristoff… ┆ 5                │\n",
       "│ Erlend Haukefer Hauan,Sindre H… ┆ 5                │\n",
       "│ Carlos Tveit,Erlend Haukefer H… ┆ 5                │\n",
       "│ …                               ┆ …                │\n",
       "│ Carlos Tveit,Erlend Haukefer H… ┆ 1                │\n",
       "│ Bjørn Hisdal,Erlend Haukefer H… ┆ 1                │\n",
       "│ Erlend Haukefer Hauan,Sindre H… ┆ 1                │\n",
       "│ Erlend Haukefer Hauan,Jørgen V… ┆ 1                │\n",
       "│ Erlend Haukefer Hauan,Helge Hå… ┆ 1                │\n",
       "└─────────────────────────────────┴──────────────────┘"
      ]
     },
     "execution_count": 70,
     "metadata": {},
     "output_type": "execute_result"
    }
   ],
   "source": [
    "df_kombi.filter(pl.col('Kombinasjon').str.contains('Erlend Haukefer Hauan'))"
   ]
  },
  {
   "cell_type": "code",
   "execution_count": 170,
   "metadata": {},
   "outputs": [
    {
     "data": {
      "text/html": [
       "<div><style>\n",
       ".dataframe > thead > tr,\n",
       ".dataframe > tbody > tr {\n",
       "  text-align: right;\n",
       "  white-space: pre-wrap;\n",
       "}\n",
       "</style>\n",
       "<small>shape: (36, 2)</small><table border=\"1\" class=\"dataframe\"><thead><tr><th>Dato</th><th>Navn</th></tr><tr><td>date</td><td>u32</td></tr></thead><tbody><tr><td>2024-04-14</td><td>9</td></tr><tr><td>2024-07-25</td><td>0</td></tr><tr><td>2024-10-30</td><td>9</td></tr><tr><td>2024-08-31</td><td>7</td></tr><tr><td>2024-08-25</td><td>8</td></tr><tr><td>&hellip;</td><td>&hellip;</td></tr><tr><td>2024-03-08</td><td>6</td></tr><tr><td>2024-03-17</td><td>9</td></tr><tr><td>2024-02-24</td><td>12</td></tr><tr><td>2024-04-28</td><td>9</td></tr><tr><td>2024-02-17</td><td>7</td></tr></tbody></table></div>"
      ],
      "text/plain": [
       "shape: (36, 2)\n",
       "┌────────────┬──────┐\n",
       "│ Dato       ┆ Navn │\n",
       "│ ---        ┆ ---  │\n",
       "│ date       ┆ u32  │\n",
       "╞════════════╪══════╡\n",
       "│ 2024-04-14 ┆ 9    │\n",
       "│ 2024-07-25 ┆ 0    │\n",
       "│ 2024-10-30 ┆ 9    │\n",
       "│ 2024-08-31 ┆ 7    │\n",
       "│ 2024-08-25 ┆ 8    │\n",
       "│ …          ┆ …    │\n",
       "│ 2024-03-08 ┆ 6    │\n",
       "│ 2024-03-17 ┆ 9    │\n",
       "│ 2024-02-24 ┆ 12   │\n",
       "│ 2024-04-28 ┆ 9    │\n",
       "│ 2024-02-17 ┆ 7    │\n",
       "└────────────┴──────┘"
      ]
     },
     "execution_count": 170,
     "metadata": {},
     "output_type": "execute_result"
    }
   ],
   "source": [
    "df.group_by('Dato').agg(pl.col('Navn').filter(pl.col('Deltok')=='Ja').n_unique())"
   ]
  },
  {
   "cell_type": "code",
   "execution_count": 66,
   "metadata": {},
   "outputs": [],
   "source": [
    "df = (df\n",
    ".with_columns(pl.col('Deltok').replace('Ja',\"1\").replace(\"Nei\",\"0\").cast(pl.Int8).alias('deltok_bool'),\n",
    "              pl.col('Avlyst trening').replace('Ja',\"1\").replace(\"Nei\",\"0\").cast(pl.Int8).alias('avlyst_bool'))\n",
    ".sort(by = ['Navn','Dato'],descending=False)\n",
    ")\n"
   ]
  },
  {
   "cell_type": "code",
   "execution_count": 83,
   "metadata": {},
   "outputs": [
    {
     "data": {
      "text/html": [
       "<div><style>\n",
       ".dataframe > thead > tr,\n",
       ".dataframe > tbody > tr {\n",
       "  text-align: right;\n",
       "  white-space: pre-wrap;\n",
       "}\n",
       "</style>\n",
       "<small>shape: (5, 12)</small><table border=\"1\" class=\"dataframe\"><thead><tr><th>dato</th><th>navn</th><th>deltok</th><th>avlyst_trening</th><th>år</th><th>måned</th><th>dag</th><th>måned_nr</th><th>deltok_bool</th><th>avlyst_bool</th><th>deltok_forrige_trening</th><th>deltok_to_ganger_siden_trening</th></tr><tr><td>date</td><td>str</td><td>str</td><td>str</td><td>str</td><td>str</td><td>i64</td><td>i64</td><td>i8</td><td>i8</td><td>i8</td><td>i8</td></tr></thead><tbody><tr><td>2024-03-02</td><td>&quot;Adrian S.Larsen&quot;</td><td>&quot;Nei&quot;</td><td>&quot;Ja&quot;</td><td>&quot;2024&quot;</td><td>&quot;Mars&quot;</td><td>2</td><td>3</td><td>0</td><td>1</td><td>1</td><td>1</td></tr><tr><td>2024-03-08</td><td>&quot;Adrian S.Larsen&quot;</td><td>&quot;Nei&quot;</td><td>&quot;Nei&quot;</td><td>&quot;2024&quot;</td><td>&quot;Mars&quot;</td><td>8</td><td>3</td><td>0</td><td>0</td><td>0</td><td>1</td></tr><tr><td>2024-08-10</td><td>&quot;Ahmed Abusaada&quot;</td><td>&quot;Ja&quot;</td><td>&quot;Nei&quot;</td><td>&quot;2024&quot;</td><td>&quot;August&quot;</td><td>10</td><td>8</td><td>1</td><td>0</td><td>1</td><td>1</td></tr><tr><td>2024-08-17</td><td>&quot;Ahmed Abusaada&quot;</td><td>&quot;Ja&quot;</td><td>&quot;Nei&quot;</td><td>&quot;2024&quot;</td><td>&quot;August&quot;</td><td>17</td><td>8</td><td>1</td><td>0</td><td>1</td><td>1</td></tr><tr><td>2024-09-08</td><td>&quot;Ahmed Abusaada&quot;</td><td>&quot;Nei&quot;</td><td>&quot;Ja&quot;</td><td>&quot;2024&quot;</td><td>&quot;September&quot;</td><td>8</td><td>9</td><td>0</td><td>1</td><td>1</td><td>1</td></tr></tbody></table></div>"
      ],
      "text/plain": [
       "shape: (5, 12)\n",
       "┌────────────┬────────────┬────────┬───────────┬───┬───────────┬───────────┬───────────┬───────────┐\n",
       "│ dato       ┆ navn       ┆ deltok ┆ avlyst_tr ┆ … ┆ deltok_bo ┆ avlyst_bo ┆ deltok_fo ┆ deltok_to │\n",
       "│ ---        ┆ ---        ┆ ---    ┆ ening     ┆   ┆ ol        ┆ ol        ┆ rrige_tre ┆ _ganger_s │\n",
       "│ date       ┆ str        ┆ str    ┆ ---       ┆   ┆ ---       ┆ ---       ┆ ning      ┆ iden_tren │\n",
       "│            ┆            ┆        ┆ str       ┆   ┆ i8        ┆ i8        ┆ ---       ┆ ing       │\n",
       "│            ┆            ┆        ┆           ┆   ┆           ┆           ┆ i8        ┆ ---       │\n",
       "│            ┆            ┆        ┆           ┆   ┆           ┆           ┆           ┆ i8        │\n",
       "╞════════════╪════════════╪════════╪═══════════╪═══╪═══════════╪═══════════╪═══════════╪═══════════╡\n",
       "│ 2024-03-02 ┆ Adrian     ┆ Nei    ┆ Ja        ┆ … ┆ 0         ┆ 1         ┆ 1         ┆ 1         │\n",
       "│            ┆ S.Larsen   ┆        ┆           ┆   ┆           ┆           ┆           ┆           │\n",
       "│ 2024-03-08 ┆ Adrian     ┆ Nei    ┆ Nei       ┆ … ┆ 0         ┆ 0         ┆ 0         ┆ 1         │\n",
       "│            ┆ S.Larsen   ┆        ┆           ┆   ┆           ┆           ┆           ┆           │\n",
       "│ 2024-08-10 ┆ Ahmed      ┆ Ja     ┆ Nei       ┆ … ┆ 1         ┆ 0         ┆ 1         ┆ 1         │\n",
       "│            ┆ Abusaada   ┆        ┆           ┆   ┆           ┆           ┆           ┆           │\n",
       "│ 2024-08-17 ┆ Ahmed      ┆ Ja     ┆ Nei       ┆ … ┆ 1         ┆ 0         ┆ 1         ┆ 1         │\n",
       "│            ┆ Abusaada   ┆        ┆           ┆   ┆           ┆           ┆           ┆           │\n",
       "│ 2024-09-08 ┆ Ahmed      ┆ Nei    ┆ Ja        ┆ … ┆ 0         ┆ 1         ┆ 1         ┆ 1         │\n",
       "│            ┆ Abusaada   ┆        ┆           ┆   ┆           ┆           ┆           ┆           │\n",
       "└────────────┴────────────┴────────┴───────────┴───┴───────────┴───────────┴───────────┴───────────┘"
      ]
     },
     "execution_count": 83,
     "metadata": {},
     "output_type": "execute_result"
    }
   ],
   "source": [
    "df_ml = (df\n",
    ".with_columns(pl.col('deltok_bool').shift(1).over('Navn').alias('deltok_forrige_trening'),\n",
    "              pl.col('deltok_bool').shift(2).over('Navn').alias('deltok_to_ganger_siden_trening'))\n",
    ".drop_nulls()\n",
    ")\n",
    "\n",
    "df_ml = (df_ml\n",
    ".select(pl.all().name.map(lambda x:x.lower()))\n",
    ".select(pl.all().name.map(lambda x:x.replace(\"-\",\" \")))\n",
    ".select(pl.all().name.map(lambda x:x.replace(\" \",\"_\")))\n",
    ")\n",
    "\n",
    "df_ml.head()"
   ]
  },
  {
   "cell_type": "code",
   "execution_count": 123,
   "metadata": {},
   "outputs": [],
   "source": [
    "import xgboost as xgb\n",
    "import polars_ds as pds\n",
    "from sklearn.model_selection import train_test_split\n",
    "from sklearn.pipeline import Pipeline,FeatureUnion\n",
    "from sklearn.metrics import accuracy_score\n",
    "from sklearn.metrics import recall_score\n",
    "from sklearn.metrics import precision_score\n"
   ]
  },
  {
   "cell_type": "code",
   "execution_count": 160,
   "metadata": {},
   "outputs": [],
   "source": [
    "alle_datoer = df_ml.select('dato').unique().sort(by='dato',descending=False)\n",
    "X_train_dato = alle_datoer.head(30)\n",
    "X_test_dato = alle_datoer.tail(1)\n",
    "\n",
    "features = ['deltok_forrige_trening','deltok_to_ganger_siden_trening']\n",
    "\n",
    "X_train = (df_ml\n",
    ".join(other=X_train_dato, on='dato', how='semi')\n",
    ".sort(by = ['navn','dato'],descending=False)\n",
    ".select('deltok_bool',*features)\n",
    ")\n",
    "\n",
    "X_test = (df_ml\n",
    ".join(other=X_test_dato, on='dato', how='semi')\n",
    ".sort(by = ['navn','dato'],descending=False)\n",
    ".select('deltok_bool',*features)\n",
    ")\n",
    "\n",
    "y_train = X_train.select('deltok_bool')\n",
    "y_test = X_test.select('deltok_bool')\n",
    "\n",
    "\n",
    "X_train = X_train.drop('deltok_bool')\n",
    "X_test = X_test.drop('deltok_bool')"
   ]
  },
  {
   "cell_type": "code",
   "execution_count": 161,
   "metadata": {},
   "outputs": [],
   "source": [
    "model = xgb.XGBClassifier()\n",
    "model.fit(X_train, y_train)\n",
    "\n",
    "y_pred = model.predict_proba(X_test)[:, 1]\n",
    "y_pred_train =  model.predict_proba(X_train)[:, 1]\n",
    "\n",
    "# Test\n",
    "y_pred = pl.from_numpy(y_pred).rename({'column_0':'deltok_prob'})\n",
    "y_pred = y_pred.with_columns(pl.col('deltok_prob').gt(pl.lit(0.50)).cast(pl.Int8).alias('deltok_pred'))\n",
    "\n",
    "# Train\n",
    "y_pred_train = pl.from_numpy(y_pred_train).rename({'column_0':'deltok_prob'})\n",
    "y_pred_train = y_pred_train.with_columns(pl.col('deltok_prob').gt(pl.lit(0.50)).cast(pl.Int8).alias('deltok_pred'))"
   ]
  },
  {
   "cell_type": "code",
   "execution_count": 168,
   "metadata": {},
   "outputs": [
    {
     "data": {
      "text/html": [
       "<div><style>\n",
       ".dataframe > thead > tr,\n",
       ".dataframe > tbody > tr {\n",
       "  text-align: right;\n",
       "  white-space: pre-wrap;\n",
       "}\n",
       "</style>\n",
       "<small>shape: (307, 5)</small><table border=\"1\" class=\"dataframe\"><thead><tr><th>deltok_forrige_trening</th><th>deltok_to_ganger_siden_trening</th><th>deltok_prob</th><th>deltok_pred</th><th>deltok_bool</th></tr><tr><td>i8</td><td>i8</td><td>f32</td><td>i8</td><td>i8</td></tr></thead><tbody><tr><td>1</td><td>1</td><td>0.675648</td><td>1</td><td>0</td></tr><tr><td>0</td><td>1</td><td>0.529399</td><td>1</td><td>0</td></tr><tr><td>1</td><td>1</td><td>0.675648</td><td>1</td><td>1</td></tr><tr><td>1</td><td>1</td><td>0.675648</td><td>1</td><td>1</td></tr><tr><td>1</td><td>1</td><td>0.675648</td><td>1</td><td>0</td></tr><tr><td>&hellip;</td><td>&hellip;</td><td>&hellip;</td><td>&hellip;</td><td>&hellip;</td></tr><tr><td>1</td><td>1</td><td>0.675648</td><td>1</td><td>1</td></tr><tr><td>1</td><td>1</td><td>0.675648</td><td>1</td><td>1</td></tr><tr><td>1</td><td>1</td><td>0.675648</td><td>1</td><td>1</td></tr><tr><td>1</td><td>1</td><td>0.675648</td><td>1</td><td>1</td></tr><tr><td>1</td><td>1</td><td>0.675648</td><td>1</td><td>1</td></tr></tbody></table></div>"
      ],
      "text/plain": [
       "shape: (307, 5)\n",
       "┌────────────────────────┬───────────────────────────────┬─────────────┬─────────────┬─────────────┐\n",
       "│ deltok_forrige_trening ┆ deltok_to_ganger_siden_trenin ┆ deltok_prob ┆ deltok_pred ┆ deltok_bool │\n",
       "│ ---                    ┆ g                             ┆ ---         ┆ ---         ┆ ---         │\n",
       "│ i8                     ┆ ---                           ┆ f32         ┆ i8          ┆ i8          │\n",
       "│                        ┆ i8                            ┆             ┆             ┆             │\n",
       "╞════════════════════════╪═══════════════════════════════╪═════════════╪═════════════╪═════════════╡\n",
       "│ 1                      ┆ 1                             ┆ 0.675648    ┆ 1           ┆ 0           │\n",
       "│ 0                      ┆ 1                             ┆ 0.529399    ┆ 1           ┆ 0           │\n",
       "│ 1                      ┆ 1                             ┆ 0.675648    ┆ 1           ┆ 1           │\n",
       "│ 1                      ┆ 1                             ┆ 0.675648    ┆ 1           ┆ 1           │\n",
       "│ 1                      ┆ 1                             ┆ 0.675648    ┆ 1           ┆ 0           │\n",
       "│ …                      ┆ …                             ┆ …           ┆ …           ┆ …           │\n",
       "│ 1                      ┆ 1                             ┆ 0.675648    ┆ 1           ┆ 1           │\n",
       "│ 1                      ┆ 1                             ┆ 0.675648    ┆ 1           ┆ 1           │\n",
       "│ 1                      ┆ 1                             ┆ 0.675648    ┆ 1           ┆ 1           │\n",
       "│ 1                      ┆ 1                             ┆ 0.675648    ┆ 1           ┆ 1           │\n",
       "│ 1                      ┆ 1                             ┆ 0.675648    ┆ 1           ┆ 1           │\n",
       "└────────────────────────┴───────────────────────────────┴─────────────┴─────────────┴─────────────┘"
      ]
     },
     "execution_count": 168,
     "metadata": {},
     "output_type": "execute_result"
    }
   ],
   "source": [
    "results_test  = pl.concat([X_test, y_pred,y_test], how='horizontal')\n",
    "results_train = pl.concat([X_train, y_pred_train,y_train], how='horizontal')\n",
    "results_train"
   ]
  },
  {
   "cell_type": "code",
   "execution_count": 166,
   "metadata": {},
   "outputs": [
    {
     "data": {
      "text/plain": [
       "0.6401869158878505"
      ]
     },
     "execution_count": 166,
     "metadata": {},
     "output_type": "execute_result"
    }
   ],
   "source": [
    "results_train\n",
    "accuracy_score(results_train.select('deltok_bool'),results_train.select('deltok_pred'))\n",
    "recall_score(results_train.select('deltok_bool'),results_train.select('deltok_pred'))\n",
    "precision_score(results_train.select('deltok_bool'),results_train.select('deltok_pred'))"
   ]
  },
  {
   "cell_type": "code",
   "execution_count": null,
   "metadata": {},
   "outputs": [
    {
     "data": {
      "text/plain": [
       "0.7142857142857143"
      ]
     },
     "execution_count": 130,
     "metadata": {},
     "output_type": "execute_result"
    }
   ],
   "source": [
    "accuracy_score(results_test.select('deltok_bool'),results_test.select('deltok_pred'))"
   ]
  },
  {
   "cell_type": "code",
   "execution_count": null,
   "metadata": {},
   "outputs": [
    {
     "data": {
      "text/plain": [
       "0.0"
      ]
     },
     "execution_count": 122,
     "metadata": {},
     "output_type": "execute_result"
    }
   ],
   "source": [
    "recall_score(results_test.select('deltok_bool'),results_test.select('deltok_pred'))"
   ]
  },
  {
   "cell_type": "code",
   "execution_count": null,
   "metadata": {},
   "outputs": [
    {
     "name": "stderr",
     "output_type": "stream",
     "text": [
      "c:\\Users\\Yafee Ishraq\\AppData\\Local\\Programs\\Python\\Python311\\Lib\\site-packages\\sklearn\\metrics\\_classification.py:1509: UndefinedMetricWarning: Precision is ill-defined and being set to 0.0 due to no predicted samples. Use `zero_division` parameter to control this behavior.\n",
      "  _warn_prf(average, modifier, f\"{metric.capitalize()} is\", len(result))\n"
     ]
    },
    {
     "data": {
      "text/plain": [
       "0.0"
      ]
     },
     "execution_count": 124,
     "metadata": {},
     "output_type": "execute_result"
    }
   ],
   "source": [
    "precision_score(results_test.select('deltok_bool'),results_test.select('deltok_pred'))"
   ]
  },
  {
   "cell_type": "code",
   "execution_count": 129,
   "metadata": {},
   "outputs": [
    {
     "data": {
      "text/html": [
       "<div><style>\n",
       ".dataframe > thead > tr,\n",
       ".dataframe > tbody > tr {\n",
       "  text-align: right;\n",
       "  white-space: pre-wrap;\n",
       "}\n",
       "</style>\n",
       "<small>shape: (7, 12)</small><table border=\"1\" class=\"dataframe\"><thead><tr><th>dato</th><th>navn</th><th>deltok</th><th>avlyst_trening</th><th>år</th><th>måned</th><th>dag</th><th>måned_nr</th><th>deltok_bool</th><th>avlyst_bool</th><th>deltok_forrige_trening</th><th>deltok_to_ganger_siden_trening</th></tr><tr><td>date</td><td>str</td><td>str</td><td>str</td><td>str</td><td>str</td><td>i64</td><td>i64</td><td>i8</td><td>i8</td><td>i8</td><td>i8</td></tr></thead><tbody><tr><td>2024-11-12</td><td>&quot;Bakary Jang Konateh&quot;</td><td>&quot;Nei&quot;</td><td>&quot;Ja&quot;</td><td>&quot;2024&quot;</td><td>&quot;November&quot;</td><td>12</td><td>11</td><td>0</td><td>1</td><td>0</td><td>0</td></tr><tr><td>2024-11-12</td><td>&quot;Carlos Tveit&quot;</td><td>&quot;Ja&quot;</td><td>&quot;Ja&quot;</td><td>&quot;2024&quot;</td><td>&quot;November&quot;</td><td>12</td><td>11</td><td>1</td><td>1</td><td>0</td><td>1</td></tr><tr><td>2024-11-12</td><td>&quot;Jørgen Vassenden&quot;</td><td>&quot;Nei&quot;</td><td>&quot;Ja&quot;</td><td>&quot;2024&quot;</td><td>&quot;November&quot;</td><td>12</td><td>11</td><td>0</td><td>1</td><td>0</td><td>0</td></tr><tr><td>2024-11-12</td><td>&quot;Ruben André M. Njøtøy&quot;</td><td>&quot;Nei&quot;</td><td>&quot;Ja&quot;</td><td>&quot;2024&quot;</td><td>&quot;November&quot;</td><td>12</td><td>11</td><td>0</td><td>1</td><td>1</td><td>1</td></tr><tr><td>2024-11-12</td><td>&quot;Sindre Jakobsen&quot;</td><td>&quot;Nei&quot;</td><td>&quot;Ja&quot;</td><td>&quot;2024&quot;</td><td>&quot;November&quot;</td><td>12</td><td>11</td><td>0</td><td>1</td><td>0</td><td>1</td></tr><tr><td>2024-11-12</td><td>&quot;Thomas Thorbjørnsen&quot;</td><td>&quot;Nei&quot;</td><td>&quot;Ja&quot;</td><td>&quot;2024&quot;</td><td>&quot;November&quot;</td><td>12</td><td>11</td><td>0</td><td>1</td><td>0</td><td>0</td></tr><tr><td>2024-11-12</td><td>&quot;Yafee Ishraq&quot;</td><td>&quot;Ja&quot;</td><td>&quot;Ja&quot;</td><td>&quot;2024&quot;</td><td>&quot;November&quot;</td><td>12</td><td>11</td><td>1</td><td>1</td><td>1</td><td>1</td></tr></tbody></table></div>"
      ],
      "text/plain": [
       "shape: (7, 12)\n",
       "┌────────────┬────────────┬────────┬───────────┬───┬───────────┬───────────┬───────────┬───────────┐\n",
       "│ dato       ┆ navn       ┆ deltok ┆ avlyst_tr ┆ … ┆ deltok_bo ┆ avlyst_bo ┆ deltok_fo ┆ deltok_to │\n",
       "│ ---        ┆ ---        ┆ ---    ┆ ening     ┆   ┆ ol        ┆ ol        ┆ rrige_tre ┆ _ganger_s │\n",
       "│ date       ┆ str        ┆ str    ┆ ---       ┆   ┆ ---       ┆ ---       ┆ ning      ┆ iden_tren │\n",
       "│            ┆            ┆        ┆ str       ┆   ┆ i8        ┆ i8        ┆ ---       ┆ ing       │\n",
       "│            ┆            ┆        ┆           ┆   ┆           ┆           ┆ i8        ┆ ---       │\n",
       "│            ┆            ┆        ┆           ┆   ┆           ┆           ┆           ┆ i8        │\n",
       "╞════════════╪════════════╪════════╪═══════════╪═══╪═══════════╪═══════════╪═══════════╪═══════════╡\n",
       "│ 2024-11-12 ┆ Bakary     ┆ Nei    ┆ Ja        ┆ … ┆ 0         ┆ 1         ┆ 0         ┆ 0         │\n",
       "│            ┆ Jang       ┆        ┆           ┆   ┆           ┆           ┆           ┆           │\n",
       "│            ┆ Konateh    ┆        ┆           ┆   ┆           ┆           ┆           ┆           │\n",
       "│ 2024-11-12 ┆ Carlos     ┆ Ja     ┆ Ja        ┆ … ┆ 1         ┆ 1         ┆ 0         ┆ 1         │\n",
       "│            ┆ Tveit      ┆        ┆           ┆   ┆           ┆           ┆           ┆           │\n",
       "│ 2024-11-12 ┆ Jørgen     ┆ Nei    ┆ Ja        ┆ … ┆ 0         ┆ 1         ┆ 0         ┆ 0         │\n",
       "│            ┆ Vassenden  ┆        ┆           ┆   ┆           ┆           ┆           ┆           │\n",
       "│ 2024-11-12 ┆ Ruben      ┆ Nei    ┆ Ja        ┆ … ┆ 0         ┆ 1         ┆ 1         ┆ 1         │\n",
       "│            ┆ André M.   ┆        ┆           ┆   ┆           ┆           ┆           ┆           │\n",
       "│            ┆ Njøtøy     ┆        ┆           ┆   ┆           ┆           ┆           ┆           │\n",
       "│ 2024-11-12 ┆ Sindre     ┆ Nei    ┆ Ja        ┆ … ┆ 0         ┆ 1         ┆ 0         ┆ 1         │\n",
       "│            ┆ Jakobsen   ┆        ┆           ┆   ┆           ┆           ┆           ┆           │\n",
       "│ 2024-11-12 ┆ Thomas Tho ┆ Nei    ┆ Ja        ┆ … ┆ 0         ┆ 1         ┆ 0         ┆ 0         │\n",
       "│            ┆ rbjørnsen  ┆        ┆           ┆   ┆           ┆           ┆           ┆           │\n",
       "│ 2024-11-12 ┆ Yafee      ┆ Ja     ┆ Ja        ┆ … ┆ 1         ┆ 1         ┆ 1         ┆ 1         │\n",
       "│            ┆ Ishraq     ┆        ┆           ┆   ┆           ┆           ┆           ┆           │\n",
       "└────────────┴────────────┴────────┴───────────┴───┴───────────┴───────────┴───────────┴───────────┘"
      ]
     },
     "execution_count": 129,
     "metadata": {},
     "output_type": "execute_result"
    }
   ],
   "source": [
    "(df_ml\n",
    ".join(other=X_test_dato, on='dato', how='semi')\n",
    ".sort(by = ['navn','dato'],descending=False)\n",
    ")"
   ]
  },
  {
   "cell_type": "code",
   "execution_count": 133,
   "metadata": {},
   "outputs": [
    {
     "data": {
      "text/html": [
       "<div><style>\n",
       ".dataframe > thead > tr,\n",
       ".dataframe > tbody > tr {\n",
       "  text-align: right;\n",
       "  white-space: pre-wrap;\n",
       "}\n",
       "</style>\n",
       "<small>shape: (30, 12)</small><table border=\"1\" class=\"dataframe\"><thead><tr><th>dato</th><th>navn</th><th>deltok</th><th>avlyst_trening</th><th>år</th><th>måned</th><th>dag</th><th>måned_nr</th><th>deltok_bool</th><th>avlyst_bool</th><th>deltok_forrige_trening</th><th>deltok_to_ganger_siden_trening</th></tr><tr><td>date</td><td>str</td><td>str</td><td>str</td><td>str</td><td>str</td><td>i64</td><td>i64</td><td>i8</td><td>i8</td><td>i8</td><td>i8</td></tr></thead><tbody><tr><td>2024-02-24</td><td>&quot;Yafee Ishraq&quot;</td><td>&quot;Ja&quot;</td><td>&quot;Nei&quot;</td><td>&quot;2024&quot;</td><td>&quot;Februar&quot;</td><td>24</td><td>2</td><td>1</td><td>0</td><td>1</td><td>0</td></tr><tr><td>2024-03-02</td><td>&quot;Yafee Ishraq&quot;</td><td>&quot;Nei&quot;</td><td>&quot;Ja&quot;</td><td>&quot;2024&quot;</td><td>&quot;Mars&quot;</td><td>2</td><td>3</td><td>0</td><td>1</td><td>1</td><td>1</td></tr><tr><td>2024-03-17</td><td>&quot;Yafee Ishraq&quot;</td><td>&quot;Ja&quot;</td><td>&quot;Nei&quot;</td><td>&quot;2024&quot;</td><td>&quot;Mars&quot;</td><td>17</td><td>3</td><td>1</td><td>0</td><td>0</td><td>1</td></tr><tr><td>2024-03-25</td><td>&quot;Yafee Ishraq&quot;</td><td>&quot;Nei&quot;</td><td>&quot;Ja&quot;</td><td>&quot;2024&quot;</td><td>&quot;Mars&quot;</td><td>25</td><td>3</td><td>0</td><td>1</td><td>1</td><td>0</td></tr><tr><td>2024-04-01</td><td>&quot;Yafee Ishraq&quot;</td><td>&quot;Nei&quot;</td><td>&quot;Ja&quot;</td><td>&quot;2024&quot;</td><td>&quot;April&quot;</td><td>1</td><td>4</td><td>0</td><td>1</td><td>0</td><td>1</td></tr><tr><td>&hellip;</td><td>&hellip;</td><td>&hellip;</td><td>&hellip;</td><td>&hellip;</td><td>&hellip;</td><td>&hellip;</td><td>&hellip;</td><td>&hellip;</td><td>&hellip;</td><td>&hellip;</td><td>&hellip;</td></tr><tr><td>2024-10-02</td><td>&quot;Yafee Ishraq&quot;</td><td>&quot;Ja&quot;</td><td>&quot;Ja&quot;</td><td>&quot;2024&quot;</td><td>&quot;Oktober&quot;</td><td>2</td><td>10</td><td>1</td><td>1</td><td>1</td><td>1</td></tr><tr><td>2024-10-08</td><td>&quot;Yafee Ishraq&quot;</td><td>&quot;Ja&quot;</td><td>&quot;Ja&quot;</td><td>&quot;2024&quot;</td><td>&quot;Oktober&quot;</td><td>8</td><td>10</td><td>1</td><td>1</td><td>1</td><td>1</td></tr><tr><td>2024-10-30</td><td>&quot;Yafee Ishraq&quot;</td><td>&quot;Ja&quot;</td><td>&quot;Nei&quot;</td><td>&quot;2024&quot;</td><td>&quot;Oktober&quot;</td><td>30</td><td>10</td><td>1</td><td>0</td><td>1</td><td>1</td></tr><tr><td>2024-11-04</td><td>&quot;Yafee Ishraq&quot;</td><td>&quot;Ja&quot;</td><td>&quot;Ja&quot;</td><td>&quot;2024&quot;</td><td>&quot;November&quot;</td><td>4</td><td>11</td><td>1</td><td>1</td><td>1</td><td>1</td></tr><tr><td>2024-11-12</td><td>&quot;Yafee Ishraq&quot;</td><td>&quot;Ja&quot;</td><td>&quot;Ja&quot;</td><td>&quot;2024&quot;</td><td>&quot;November&quot;</td><td>12</td><td>11</td><td>1</td><td>1</td><td>1</td><td>1</td></tr></tbody></table></div>"
      ],
      "text/plain": [
       "shape: (30, 12)\n",
       "┌────────────┬────────┬────────┬────────────┬───┬────────────┬────────────┬────────────┬───────────┐\n",
       "│ dato       ┆ navn   ┆ deltok ┆ avlyst_tre ┆ … ┆ deltok_boo ┆ avlyst_boo ┆ deltok_for ┆ deltok_to │\n",
       "│ ---        ┆ ---    ┆ ---    ┆ ning       ┆   ┆ l          ┆ l          ┆ rige_treni ┆ _ganger_s │\n",
       "│ date       ┆ str    ┆ str    ┆ ---        ┆   ┆ ---        ┆ ---        ┆ ng         ┆ iden_tren │\n",
       "│            ┆        ┆        ┆ str        ┆   ┆ i8         ┆ i8         ┆ ---        ┆ ing       │\n",
       "│            ┆        ┆        ┆            ┆   ┆            ┆            ┆ i8         ┆ ---       │\n",
       "│            ┆        ┆        ┆            ┆   ┆            ┆            ┆            ┆ i8        │\n",
       "╞════════════╪════════╪════════╪════════════╪═══╪════════════╪════════════╪════════════╪═══════════╡\n",
       "│ 2024-02-24 ┆ Yafee  ┆ Ja     ┆ Nei        ┆ … ┆ 1          ┆ 0          ┆ 1          ┆ 0         │\n",
       "│            ┆ Ishraq ┆        ┆            ┆   ┆            ┆            ┆            ┆           │\n",
       "│ 2024-03-02 ┆ Yafee  ┆ Nei    ┆ Ja         ┆ … ┆ 0          ┆ 1          ┆ 1          ┆ 1         │\n",
       "│            ┆ Ishraq ┆        ┆            ┆   ┆            ┆            ┆            ┆           │\n",
       "│ 2024-03-17 ┆ Yafee  ┆ Ja     ┆ Nei        ┆ … ┆ 1          ┆ 0          ┆ 0          ┆ 1         │\n",
       "│            ┆ Ishraq ┆        ┆            ┆   ┆            ┆            ┆            ┆           │\n",
       "│ 2024-03-25 ┆ Yafee  ┆ Nei    ┆ Ja         ┆ … ┆ 0          ┆ 1          ┆ 1          ┆ 0         │\n",
       "│            ┆ Ishraq ┆        ┆            ┆   ┆            ┆            ┆            ┆           │\n",
       "│ 2024-04-01 ┆ Yafee  ┆ Nei    ┆ Ja         ┆ … ┆ 0          ┆ 1          ┆ 0          ┆ 1         │\n",
       "│            ┆ Ishraq ┆        ┆            ┆   ┆            ┆            ┆            ┆           │\n",
       "│ …          ┆ …      ┆ …      ┆ …          ┆ … ┆ …          ┆ …          ┆ …          ┆ …         │\n",
       "│ 2024-10-02 ┆ Yafee  ┆ Ja     ┆ Ja         ┆ … ┆ 1          ┆ 1          ┆ 1          ┆ 1         │\n",
       "│            ┆ Ishraq ┆        ┆            ┆   ┆            ┆            ┆            ┆           │\n",
       "│ 2024-10-08 ┆ Yafee  ┆ Ja     ┆ Ja         ┆ … ┆ 1          ┆ 1          ┆ 1          ┆ 1         │\n",
       "│            ┆ Ishraq ┆        ┆            ┆   ┆            ┆            ┆            ┆           │\n",
       "│ 2024-10-30 ┆ Yafee  ┆ Ja     ┆ Nei        ┆ … ┆ 1          ┆ 0          ┆ 1          ┆ 1         │\n",
       "│            ┆ Ishraq ┆        ┆            ┆   ┆            ┆            ┆            ┆           │\n",
       "│ 2024-11-04 ┆ Yafee  ┆ Ja     ┆ Ja         ┆ … ┆ 1          ┆ 1          ┆ 1          ┆ 1         │\n",
       "│            ┆ Ishraq ┆        ┆            ┆   ┆            ┆            ┆            ┆           │\n",
       "│ 2024-11-12 ┆ Yafee  ┆ Ja     ┆ Ja         ┆ … ┆ 1          ┆ 1          ┆ 1          ┆ 1         │\n",
       "│            ┆ Ishraq ┆        ┆            ┆   ┆            ┆            ┆            ┆           │\n",
       "└────────────┴────────┴────────┴────────────┴───┴────────────┴────────────┴────────────┴───────────┘"
      ]
     },
     "execution_count": 133,
     "metadata": {},
     "output_type": "execute_result"
    }
   ],
   "source": [
    "df_ml.filter(pl.col('navn')=='Yafee Ishraq')"
   ]
  }
 ],
 "metadata": {
  "kernelspec": {
   "display_name": "Python 3",
   "language": "python",
   "name": "python3"
  },
  "language_info": {
   "codemirror_mode": {
    "name": "ipython",
    "version": 3
   },
   "file_extension": ".py",
   "mimetype": "text/x-python",
   "name": "python",
   "nbconvert_exporter": "python",
   "pygments_lexer": "ipython3",
   "version": "3.11.2"
  }
 },
 "nbformat": 4,
 "nbformat_minor": 2
}
