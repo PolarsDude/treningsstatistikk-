{
 "cells": [
  {
   "cell_type": "markdown",
   "metadata": {},
   "source": [
    "# Last inn relevante pakker"
   ]
  },
  {
   "cell_type": "code",
   "execution_count": 1,
   "metadata": {},
   "outputs": [
    {
     "name": "stderr",
     "output_type": "stream",
     "text": [
      "\u001b[2mUsing Python 3.11.2 environment at: c:\\Users\\Yafee Ishraq\\AppData\\Local\\Programs\\Python\\Python311\u001b[0m\n",
      "\u001b[2mAudited \u001b[1m1 package\u001b[0m \u001b[2min 18ms\u001b[0m\u001b[0m\n",
      "\u001b[2mUsing Python 3.11.2 environment at: c:\\Users\\Yafee Ishraq\\AppData\\Local\\Programs\\Python\\Python311\u001b[0m\n",
      "\u001b[2mAudited \u001b[1m1 package\u001b[0m \u001b[2min 11ms\u001b[0m\u001b[0m\n",
      "\u001b[2mUsing Python 3.11.2 environment at: c:\\Users\\Yafee Ishraq\\AppData\\Local\\Programs\\Python\\Python311\u001b[0m\n",
      "\u001b[2mAudited \u001b[1m1 package\u001b[0m \u001b[2min 15ms\u001b[0m\u001b[0m\n",
      "\u001b[2mUsing Python 3.11.2 environment at: c:\\Users\\Yafee Ishraq\\AppData\\Local\\Programs\\Python\\Python311\u001b[0m\n",
      "\u001b[2mAudited \u001b[1m1 package\u001b[0m \u001b[2min 13ms\u001b[0m\u001b[0m\n",
      "\u001b[2mUsing Python 3.11.2 environment at: c:\\Users\\Yafee Ishraq\\AppData\\Local\\Programs\\Python\\Python311\u001b[0m\n",
      "\u001b[2mAudited \u001b[1m1 package\u001b[0m \u001b[2min 12ms\u001b[0m\u001b[0m\n"
     ]
    }
   ],
   "source": [
    "!uv pip install --system polars\n",
    "!uv pip install --system polars-ds\n",
    "!uv pip install --system fastexcel\n",
    "!uv pip install --system seaborn\n",
    "!uv pip install --system matplotlib"
   ]
  },
  {
   "cell_type": "code",
   "execution_count": 2,
   "metadata": {},
   "outputs": [
    {
     "name": "stderr",
     "output_type": "stream",
     "text": [
      "c:\\Users\\Yafee Ishraq\\AppData\\Local\\Programs\\Python\\Python311\\Lib\\site-packages\\matplotlib\\projections\\__init__.py:63: UserWarning: Unable to import Axes3D. This may be due to multiple versions of Matplotlib being installed (e.g. as a system package and as a pip package). As a result, the 3D projection is not available.\n",
      "  warnings.warn(\"Unable to import Axes3D. This may be due to multiple versions of \"\n"
     ]
    }
   ],
   "source": [
    "import polars as pl\n",
    "import polars_ds as pds\n",
    "import seaborn as sns\n",
    "import matplotlib.pyplot as plt"
   ]
  },
  {
   "cell_type": "markdown",
   "metadata": {},
   "source": [
    "# Les inn data "
   ]
  },
  {
   "cell_type": "code",
   "execution_count": 3,
   "metadata": {},
   "outputs": [],
   "source": [
    "df = pl.read_excel(\"treningsdata.xlsx\")"
   ]
  },
  {
   "cell_type": "code",
   "execution_count": 4,
   "metadata": {},
   "outputs": [
    {
     "data": {
      "text/html": [
       "<div><style>\n",
       ".dataframe > thead > tr,\n",
       ".dataframe > tbody > tr {\n",
       "  text-align: right;\n",
       "  white-space: pre-wrap;\n",
       "}\n",
       "</style>\n",
       "<small>shape: (5, 4)</small><table border=\"1\" class=\"dataframe\"><thead><tr><th>Dato</th><th>Navn</th><th>Deltok</th><th>Avlyst trening</th></tr><tr><td>i64</td><td>str</td><td>str</td><td>str</td></tr></thead><tbody><tr><td>20240106</td><td>&quot;Erlend Haukefer Hauan&quot;</td><td>&quot;Ja&quot;</td><td>&quot;Ja&quot;</td></tr><tr><td>20240106</td><td>&quot;Bakary Jang Konateh&quot;</td><td>&quot;Ja&quot;</td><td>&quot;Ja&quot;</td></tr><tr><td>20240106</td><td>&quot;Sindre Haukefer Hauan&quot;</td><td>&quot;Ja&quot;</td><td>&quot;Ja&quot;</td></tr><tr><td>20240204</td><td>&quot;Yafee Ishraq&quot;</td><td>&quot;Nei&quot;</td><td>&quot;Ja&quot;</td></tr><tr><td>20240204</td><td>&quot;Erlend Haukefer Hauan&quot;</td><td>&quot;Nei&quot;</td><td>&quot;Ja&quot;</td></tr></tbody></table></div>"
      ],
      "text/plain": [
       "shape: (5, 4)\n",
       "┌──────────┬───────────────────────┬────────┬────────────────┐\n",
       "│ Dato     ┆ Navn                  ┆ Deltok ┆ Avlyst trening │\n",
       "│ ---      ┆ ---                   ┆ ---    ┆ ---            │\n",
       "│ i64      ┆ str                   ┆ str    ┆ str            │\n",
       "╞══════════╪═══════════════════════╪════════╪════════════════╡\n",
       "│ 20240106 ┆ Erlend Haukefer Hauan ┆ Ja     ┆ Ja             │\n",
       "│ 20240106 ┆ Bakary Jang Konateh   ┆ Ja     ┆ Ja             │\n",
       "│ 20240106 ┆ Sindre Haukefer Hauan ┆ Ja     ┆ Ja             │\n",
       "│ 20240204 ┆ Yafee Ishraq          ┆ Nei    ┆ Ja             │\n",
       "│ 20240204 ┆ Erlend Haukefer Hauan ┆ Nei    ┆ Ja             │\n",
       "└──────────┴───────────────────────┴────────┴────────────────┘"
      ]
     },
     "execution_count": 4,
     "metadata": {},
     "output_type": "execute_result"
    }
   ],
   "source": [
    "df.head()"
   ]
  },
  {
   "cell_type": "markdown",
   "metadata": {},
   "source": [
    "Databearbehandling"
   ]
  },
  {
   "cell_type": "code",
   "execution_count": 5,
   "metadata": {},
   "outputs": [],
   "source": [
    "# Fikser på dato kolonne\n",
    "df = (df\n",
    ".with_columns(pl.col('Dato').cast(pl.String).str.slice(0,4).alias('År'),\n",
    "              pl.col('Dato').cast(pl.String).str.slice(4,2).alias('Måned'),\n",
    "              pl.col('Dato').cast(pl.String).str.slice(6,2).alias('Dag')\n",
    "              )\n",
    "\n",
    "# Gjør dag om k\n",
    ".with_columns(pl.concat_str(['År', 'Måned', 'Dag'], separator='-').cast(pl.Date).alias('Dato'),\n",
    "              pl.col('Måned','Dag').cast(pl.Int64)\n",
    "              )\n",
    ")\n",
    "\n",
    "\n",
    "# Mapper måned nr til navn\n",
    "# Bruk when-then-otherwise for å mappe månedstall til navn\n",
    "df = (df\n",
    "    .with_columns(pl.col(\"Måned\").alias('Måned nr'))\n",
    "    .with_columns(\n",
    "     pl.when(pl.col(\"Måned\") == 1).then(pl.lit(\"Januar\"))\n",
    "     .when(pl.col(\"Måned\") == 2).then(pl.lit(\"Februar\"))\n",
    "     .when(pl.col(\"Måned\") == 3).then(pl.lit(\"Mars\"))\n",
    "     .when(pl.col(\"Måned\") == 4).then(pl.lit(\"April\"))\n",
    "     .when(pl.col(\"Måned\") == 5).then(pl.lit(\"Mai\"))\n",
    "     .when(pl.col(\"Måned\") == 6).then(pl.lit(\"Juni\"))\n",
    "     .when(pl.col(\"Måned\") == 7).then(pl.lit(\"Juli\"))\n",
    "     .when(pl.col(\"Måned\") == 8).then(pl.lit(\"August\"))\n",
    "     .when(pl.col(\"Måned\") == 9).then(pl.lit(\"September\"))\n",
    "     .when(pl.col(\"Måned\") == 10).then(pl.lit(\"Oktober\"))\n",
    "     .when(pl.col(\"Måned\") == 11).then(pl.lit(\"November\"))\n",
    "     .when(pl.col(\"Måned\") == 12).then(pl.lit(\"Desember\"))\n",
    "     .otherwise(pl.lit(\"Ukjent\"))\n",
    "     .alias(\"Måned\")\n",
    "    )\n",
    ")"
   ]
  },
  {
   "cell_type": "code",
   "execution_count": 6,
   "metadata": {},
   "outputs": [
    {
     "data": {
      "text/plain": [
       "['Januar', 'Februar', 'Mars', 'April', 'Mai', 'Juni']"
      ]
     },
     "execution_count": 6,
     "metadata": {},
     "output_type": "execute_result"
    }
   ],
   "source": [
    "df.select('Måned nr', 'Måned').unique().sort(by ='Måned nr',descending=False)['Måned'].to_list()"
   ]
  },
  {
   "cell_type": "code",
   "execution_count": 7,
   "metadata": {},
   "outputs": [
    {
     "data": {
      "text/html": [
       "<div><style>\n",
       ".dataframe > thead > tr,\n",
       ".dataframe > tbody > tr {\n",
       "  text-align: right;\n",
       "  white-space: pre-wrap;\n",
       "}\n",
       "</style>\n",
       "<small>shape: (4, 8)</small><table border=\"1\" class=\"dataframe\"><thead><tr><th>Dato</th><th>Navn</th><th>Deltok</th><th>Avlyst trening</th><th>År</th><th>Måned</th><th>Dag</th><th>Måned nr</th></tr><tr><td>date</td><td>str</td><td>str</td><td>str</td><td>str</td><td>str</td><td>i64</td><td>i64</td></tr></thead><tbody><tr><td>2024-02-17</td><td>&quot;Adrian S.Larsen&quot;</td><td>&quot;Ja&quot;</td><td>&quot;Nei&quot;</td><td>&quot;2024&quot;</td><td>&quot;Februar&quot;</td><td>17</td><td>2</td></tr><tr><td>2024-02-24</td><td>&quot;Adrian S.Larsen&quot;</td><td>&quot;Ja&quot;</td><td>&quot;Nei&quot;</td><td>&quot;2024&quot;</td><td>&quot;Februar&quot;</td><td>24</td><td>2</td></tr><tr><td>2024-03-02</td><td>&quot;Adrian S.Larsen&quot;</td><td>&quot;Nei&quot;</td><td>&quot;Ja&quot;</td><td>&quot;2024&quot;</td><td>&quot;Mars&quot;</td><td>2</td><td>3</td></tr><tr><td>2024-03-08</td><td>&quot;Adrian S.Larsen&quot;</td><td>&quot;Nei&quot;</td><td>&quot;Nei&quot;</td><td>&quot;2024&quot;</td><td>&quot;Mars&quot;</td><td>8</td><td>3</td></tr></tbody></table></div>"
      ],
      "text/plain": [
       "shape: (4, 8)\n",
       "┌────────────┬─────────────────┬────────┬────────────────┬──────┬─────────┬─────┬──────────┐\n",
       "│ Dato       ┆ Navn            ┆ Deltok ┆ Avlyst trening ┆ År   ┆ Måned   ┆ Dag ┆ Måned nr │\n",
       "│ ---        ┆ ---             ┆ ---    ┆ ---            ┆ ---  ┆ ---     ┆ --- ┆ ---      │\n",
       "│ date       ┆ str             ┆ str    ┆ str            ┆ str  ┆ str     ┆ i64 ┆ i64      │\n",
       "╞════════════╪═════════════════╪════════╪════════════════╪══════╪═════════╪═════╪══════════╡\n",
       "│ 2024-02-17 ┆ Adrian S.Larsen ┆ Ja     ┆ Nei            ┆ 2024 ┆ Februar ┆ 17  ┆ 2        │\n",
       "│ 2024-02-24 ┆ Adrian S.Larsen ┆ Ja     ┆ Nei            ┆ 2024 ┆ Februar ┆ 24  ┆ 2        │\n",
       "│ 2024-03-02 ┆ Adrian S.Larsen ┆ Nei    ┆ Ja             ┆ 2024 ┆ Mars    ┆ 2   ┆ 3        │\n",
       "│ 2024-03-08 ┆ Adrian S.Larsen ┆ Nei    ┆ Nei            ┆ 2024 ┆ Mars    ┆ 8   ┆ 3        │\n",
       "└────────────┴─────────────────┴────────┴────────────────┴──────┴─────────┴─────┴──────────┘"
      ]
     },
     "execution_count": 7,
     "metadata": {},
     "output_type": "execute_result"
    }
   ],
   "source": [
    "df.filter(pl.col('Navn')==\"Adrian S.Larsen\")"
   ]
  },
  {
   "cell_type": "code",
   "execution_count": 8,
   "metadata": {},
   "outputs": [
    {
     "data": {
      "text/html": [
       "<div><style>\n",
       ".dataframe > thead > tr,\n",
       ".dataframe > tbody > tr {\n",
       "  text-align: right;\n",
       "  white-space: pre-wrap;\n",
       "}\n",
       "</style>\n",
       "<small>shape: (19, 2)</small><table border=\"1\" class=\"dataframe\"><thead><tr><th>Navn</th><th>Antall treninger</th></tr><tr><td>str</td><td>u32</td></tr></thead><tbody><tr><td>&quot;Kristoffer Fauskanger&quot;</td><td>10</td></tr><tr><td>&quot;Carlos Tveit&quot;</td><td>9</td></tr><tr><td>&quot;Jørgen Vassenden&quot;</td><td>9</td></tr><tr><td>&quot;Sindre Jakobsen&quot;</td><td>9</td></tr><tr><td>&quot;Sindre Haukefer Hauan&quot;</td><td>9</td></tr><tr><td>&hellip;</td><td>&hellip;</td></tr><tr><td>&quot;Thomas Thorbjørnsen&quot;</td><td>2</td></tr><tr><td>&quot;Adrian S.Larsen&quot;</td><td>2</td></tr><tr><td>&quot;Håkon Halvorsen&quot;</td><td>1</td></tr><tr><td>&quot;Thomas Syversen&quot;</td><td>1</td></tr><tr><td>&quot;Markus Bjånesøy&quot;</td><td>1</td></tr></tbody></table></div>"
      ],
      "text/plain": [
       "shape: (19, 2)\n",
       "┌───────────────────────┬──────────────────┐\n",
       "│ Navn                  ┆ Antall treninger │\n",
       "│ ---                   ┆ ---              │\n",
       "│ str                   ┆ u32              │\n",
       "╞═══════════════════════╪══════════════════╡\n",
       "│ Kristoffer Fauskanger ┆ 10               │\n",
       "│ Carlos Tveit          ┆ 9                │\n",
       "│ Jørgen Vassenden      ┆ 9                │\n",
       "│ Sindre Jakobsen       ┆ 9                │\n",
       "│ Sindre Haukefer Hauan ┆ 9                │\n",
       "│ …                     ┆ …                │\n",
       "│ Thomas Thorbjørnsen   ┆ 2                │\n",
       "│ Adrian S.Larsen       ┆ 2                │\n",
       "│ Håkon Halvorsen       ┆ 1                │\n",
       "│ Thomas Syversen       ┆ 1                │\n",
       "│ Markus Bjånesøy       ┆ 1                │\n",
       "└───────────────────────┴──────────────────┘"
      ]
     },
     "execution_count": 8,
     "metadata": {},
     "output_type": "execute_result"
    }
   ],
   "source": [
    "(df\n",
    ".filter(pl.col('Avlyst trening')=='Nei',\n",
    "        pl.col('Deltok')=='Ja')\n",
    ".group_by('Navn')\n",
    ".agg(pl.col('Dato').n_unique().alias('Antall treninger'))\n",
    ".sort(by = ['Antall treninger'],descending=True)\n",
    ")"
   ]
  },
  {
   "cell_type": "code",
   "execution_count": 9,
   "metadata": {},
   "outputs": [
    {
     "data": {
      "text/html": [
       "<div><style>\n",
       ".dataframe > thead > tr,\n",
       ".dataframe > tbody > tr {\n",
       "  text-align: right;\n",
       "  white-space: pre-wrap;\n",
       "}\n",
       "</style>\n",
       "<small>shape: (425, 2)</small><table border=\"1\" class=\"dataframe\"><thead><tr><th>kombi</th><th>Antall treninger</th></tr><tr><td>list[str]</td><td>u32</td></tr></thead><tbody><tr><td>[&quot;Kristoffer Fauskanger&quot;, &quot;Sindre Haukefer Hauan&quot;, &quot;Sindre Jakobsen&quot;]</td><td>8</td></tr><tr><td>[&quot;Carlos Tveit&quot;, &quot;Kristoffer Fauskanger&quot;, &quot;Sindre Jakobsen&quot;]</td><td>7</td></tr><tr><td>[&quot;Jørgen Vassenden&quot;, &quot;Kristoffer Fauskanger&quot;, &quot;Sindre Jakobsen&quot;]</td><td>7</td></tr><tr><td>[&quot;Jørgen Vassenden&quot;, &quot;Kristoffer Fauskanger&quot;, &quot;Sindre Haukefer Hauan&quot;]</td><td>7</td></tr><tr><td>[&quot;Jørgen Vassenden&quot;, &quot;Sindre Haukefer Hauan&quot;, &quot;Sindre Jakobsen&quot;]</td><td>7</td></tr><tr><td>&hellip;</td><td>&hellip;</td></tr><tr><td>[&quot;Adrian S.Larsen&quot;, &quot;Bjørn Hisdal&quot;, &quot;Carlos Tveit&quot;]</td><td>1</td></tr><tr><td>[&quot;Erlend Haukefer Hauan&quot;, &quot;Sindre Haukefer Hauan&quot;, &quot;Yafee Ishraq&quot;]</td><td>1</td></tr><tr><td>[&quot;Bakary Jang Konateh&quot;, &quot;Carlos Tveit&quot;, &quot;Magnus Alexander Gjerde Bevan&quot;]</td><td>1</td></tr><tr><td>[&quot;Jørgen Vassenden&quot;, &quot;Kristoffer Fauskanger&quot;, &quot;Ruben André M. Njøtøy&quot;]</td><td>1</td></tr><tr><td>[&quot;Erlend Haukefer Hauan&quot;, &quot;Ruben André M. Njøtøy&quot;, &quot;Thomas Thorbjørnsen&quot;]</td><td>1</td></tr></tbody></table></div>"
      ],
      "text/plain": [
       "shape: (425, 2)\n",
       "┌─────────────────────────────────┬──────────────────┐\n",
       "│ kombi                           ┆ Antall treninger │\n",
       "│ ---                             ┆ ---              │\n",
       "│ list[str]                       ┆ u32              │\n",
       "╞═════════════════════════════════╪══════════════════╡\n",
       "│ [\"Kristoffer Fauskanger\", \"Sin… ┆ 8                │\n",
       "│ [\"Carlos Tveit\", \"Kristoffer F… ┆ 7                │\n",
       "│ [\"Jørgen Vassenden\", \"Kristoff… ┆ 7                │\n",
       "│ [\"Jørgen Vassenden\", \"Kristoff… ┆ 7                │\n",
       "│ [\"Jørgen Vassenden\", \"Sindre H… ┆ 7                │\n",
       "│ …                               ┆ …                │\n",
       "│ [\"Adrian S.Larsen\", \"Bjørn His… ┆ 1                │\n",
       "│ [\"Erlend Haukefer Hauan\", \"Sin… ┆ 1                │\n",
       "│ [\"Bakary Jang Konateh\", \"Carlo… ┆ 1                │\n",
       "│ [\"Jørgen Vassenden\", \"Kristoff… ┆ 1                │\n",
       "│ [\"Erlend Haukefer Hauan\", \"Rub… ┆ 1                │\n",
       "└─────────────────────────────────┴──────────────────┘"
      ]
     },
     "execution_count": 9,
     "metadata": {},
     "output_type": "execute_result"
    }
   ],
   "source": [
    "(df\n",
    ".filter(pl.col('Avlyst trening')=='Nei',\n",
    "        pl.col('Deltok')=='Ja')\n",
    ".select('Dato','Navn')\n",
    ".unique()\n",
    ".group_by('Dato')\n",
    ".agg(pl.col('Navn').alias('navn_1'),\n",
    "     pl.col('Navn').alias('navn_2'),\n",
    "     pl.col('Navn').alias('navn_3')\n",
    ")\n",
    "\n",
    "# Finner 3 kombinasjoner\n",
    ".explode('navn_1')\n",
    ".explode('navn_2')\n",
    ".explode('navn_3')\n",
    "\n",
    "# Skal samle alle navnene i en liste for å telle unike navn. Skal fjerne lister som har kun ett navn        \n",
    ".with_columns(pl.concat_str(['navn_1', 'navn_2', 'navn_3'], separator=',').str.split(\",\").alias('kombi'))\n",
    "\n",
    "# Sorterer liste\n",
    ".with_columns(pl.col('kombi').list.sort())\n",
    "\n",
    "# Filtrerer på lister som har 3 unike navn (etter at duplikater er fjernet)\n",
    ".filter(pl.col('kombi').list.unique().list.n_unique()==3)\n",
    ".group_by('kombi')\n",
    ".agg(pl.col('Dato').n_unique().alias('Antall treninger'))\n",
    ".sort(by = ['Antall treninger'],descending=True)\n",
    ")"
   ]
  }
 ],
 "metadata": {
  "kernelspec": {
   "display_name": "Python 3",
   "language": "python",
   "name": "python3"
  },
  "language_info": {
   "codemirror_mode": {
    "name": "ipython",
    "version": 3
   },
   "file_extension": ".py",
   "mimetype": "text/x-python",
   "name": "python",
   "nbconvert_exporter": "python",
   "pygments_lexer": "ipython3",
   "version": "3.11.2"
  }
 },
 "nbformat": 4,
 "nbformat_minor": 2
}
